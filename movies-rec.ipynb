{
  "nbformat": 4,
  "nbformat_minor": 0,
  "metadata": {
    "colab": {
      "name": "204906036_208379248_203118864.ipynb",
      "provenance": [],
      "collapsed_sections": [],
      "toc_visible": true
    },
    "kernelspec": {
      "display_name": "Python 3",
      "language": "python",
      "name": "python3"
    },
    "language_info": {
      "codemirror_mode": {
        "name": "ipython",
        "version": 3
      },
      "file_extension": ".py",
      "mimetype": "text/x-python",
      "name": "python",
      "nbconvert_exporter": "python",
      "pygments_lexer": "ipython3",
      "version": "3.7.4"
    }
  },
  "cells": [
    {
      "cell_type": "code",
      "metadata": {
        "colab_type": "code",
        "id": "podUAvZ7urwb",
        "colab": {
          "base_uri": "https://localhost:8080/",
          "height": 34
        },
        "outputId": "73e6fe23-15f7-4107-88ed-6177318b98e8"
      },
      "source": [
        "from __future__ import division\n",
        "import copy\n",
        "import pandas as pd \n",
        "import numpy as np \n",
        "import random\n",
        "import matplotlib.pyplot as plt \n",
        "from tabulate import tabulate\n",
        "import operator\n",
        "from sklearn.metrics import mean_absolute_error\n",
        "import os\n",
        "import tensorflow as T\n",
        "import keras\n",
        "from keras import backend as K\n",
        "from keras import initializers\n",
        "from keras.initializers import RandomNormal\n",
        "from keras.models import Sequential, Model, load_model, save_model\n",
        "from keras.layers.core import Dense, Lambda, Activation\n",
        "from keras.layers import Embedding, Input, Dense, merge, Reshape,  Flatten, Dropout\n",
        "from keras.optimizers import Adagrad, Adam, SGD, RMSprop, Adamax\n",
        "from keras.regularizers import l2\n",
        "from keras.layers import Multiply, Concatenate\n",
        "from keras.callbacks import Callback, EarlyStopping, ModelCheckpoint\n",
        "from time import time\n",
        "import multiprocessing as mp\n",
        "import sys\n",
        "import math\n",
        "import argparse"
      ],
      "execution_count": 1,
      "outputs": [
        {
          "output_type": "stream",
          "text": [
            "Using TensorFlow backend.\n"
          ],
          "name": "stderr"
        }
      ]
    },
    {
      "cell_type": "markdown",
      "metadata": {
        "colab_type": "text",
        "id": "kzzPglfDwtsN"
      },
      "source": [
        "# **Part A - Data Analysis**"
      ]
    },
    {
      "cell_type": "markdown",
      "metadata": {
        "colab_type": "text",
        "id": "nHrPDel0y37r"
      },
      "source": [
        "# Exercise 1"
      ]
    },
    {
      "cell_type": "code",
      "metadata": {
        "colab_type": "code",
        "id": "QnQlulj1w0B5",
        "colab": {}
      },
      "source": [
        "# Load train and test\n",
        "cols = ['user_id','item_id','rating','timestamp']\n",
        "train = pd.read_csv('u1.base',delimiter='\\t',names=cols,encoding='latin-1')\n",
        "test = pd.read_csv('u1.test',delimiter='\\t',names=cols,encoding='latin-1')"
      ],
      "execution_count": 0,
      "outputs": []
    },
    {
      "cell_type": "code",
      "metadata": {
        "colab_type": "code",
        "id": "O2HoVsD12Rzl",
        "colab": {}
      },
      "source": [
        "# calculate average ratings\n",
        "averages = train[['item_id','rating']].groupby('item_id').mean()"
      ],
      "execution_count": 0,
      "outputs": []
    },
    {
      "cell_type": "code",
      "metadata": {
        "colab_type": "code",
        "id": "UX4al4V72gJX",
        "outputId": "80da9055-0c20-4cd5-d014-86b64222fc5e",
        "colab": {
          "base_uri": "https://localhost:8080/",
          "height": 295
        }
      },
      "source": [
        "# Show histograms for averages\n",
        "hist1 = averages.hist(bins=4)\n",
        "plt.xlabel('Average Rating')\n",
        "plt.ylabel('Number of Movies')\n",
        "plt.title('Average Ratings Histogram')\n",
        "plt.xticks([1,2,3,4,5])\n",
        "plt.show()"
      ],
      "execution_count": 29,
      "outputs": [
        {
          "output_type": "display_data",
          "data": {
            "image/png": "[encoded data removed]",
            "text/plain": [
              "<Figure size 432x288 with 1 Axes>"
            ]
          },
          "metadata": {
            "tags": [],
            "needs_background": "light"
          }
        }
      ]
    },
    {
      "cell_type": "code",
      "metadata": {
        "colab_type": "code",
        "id": "y-F5apIN3IyZ",
        "outputId": "a1cfcba4-ceb0-45df-93d3-e1c5282c1ac7",
        "colab": {
          "base_uri": "https://localhost:8080/",
          "height": 173
        }
      },
      "source": [
        "# Show top 3 movies with highest average ranks\n",
        "averages.nlargest(3, columns=\"rating\")"
      ],
      "execution_count": 31,
      "outputs": [
        {
          "output_type": "execute_result",
          "data": {
            "text/html": [
              "<div>\n",
              "<style scoped>\n",
              "    .dataframe tbody tr th:only-of-type {\n",
              "        vertical-align: middle;\n",
              "    }\n",
              "\n",
              "    .dataframe tbody tr th {\n",
              "        vertical-align: top;\n",
              "    }\n",
              "\n",
              "    .dataframe thead th {\n",
              "        text-align: right;\n",
              "    }\n",
              "</style>\n",
              "<table border=\"1\" class=\"dataframe\">\n",
              "  <thead>\n",
              "    <tr style=\"text-align: right;\">\n",
              "      <th></th>\n",
              "      <th>rating</th>\n",
              "    </tr>\n",
              "    <tr>\n",
              "      <th>item_id</th>\n",
              "      <th></th>\n",
              "    </tr>\n",
              "  </thead>\n",
              "  <tbody>\n",
              "    <tr>\n",
              "      <th>1122</th>\n",
              "      <td>5.0</td>\n",
              "    </tr>\n",
              "    <tr>\n",
              "      <th>1189</th>\n",
              "      <td>5.0</td>\n",
              "    </tr>\n",
              "    <tr>\n",
              "      <th>1201</th>\n",
              "      <td>5.0</td>\n",
              "    </tr>\n",
              "  </tbody>\n",
              "</table>\n",
              "</div>"
            ],
            "text/plain": [
              "         rating\n",
              "item_id        \n",
              "1122        5.0\n",
              "1189        5.0\n",
              "1201        5.0"
            ]
          },
          "metadata": {
            "tags": []
          },
          "execution_count": 31
        }
      ]
    },
    {
      "cell_type": "code",
      "metadata": {
        "colab_type": "code",
        "id": "Tk5-p15F4VP1",
        "colab": {}
      },
      "source": [
        "# Load users\n",
        "cols2 = ['user_id','age','gender','occupation','zip']\n",
        "users = pd.read_csv('u.user',delimiter='|',names=cols2,encoding='latin-1')\n",
        "users_join = users.merge(train, how='inner')"
      ],
      "execution_count": 0,
      "outputs": []
    },
    {
      "cell_type": "code",
      "metadata": {
        "colab_type": "code",
        "id": "BS6Doc267uWB",
        "outputId": "39279545-a392-478d-ce02-8b345e02267a",
        "colab": {
          "base_uri": "https://localhost:8080/",
          "height": 295
        }
      },
      "source": [
        "# Show histograms for males averages\n",
        "males = users_join[users_join['gender'] == 'M']\n",
        "males_averages = males[['item_id','rating']].groupby('item_id').mean()\n",
        "hist_male = males_averages.hist(bins=4)\n",
        "plt.xlabel('Average Rating')\n",
        "plt.ylabel('Number of Movies')\n",
        "plt.title('Males Average Ratings Histogram')\n",
        "plt.xticks([1,2,3,4,5])\n",
        "plt.show()"
      ],
      "execution_count": 34,
      "outputs": [
        {
          "output_type": "display_data",
          "data": {
            "image/png": "[encoded data removed]",
            "text/plain": [
              "<Figure size 432x288 with 1 Axes>"
            ]
          },
          "metadata": {
            "tags": [],
            "needs_background": "light"
          }
        }
      ]
    },
    {
      "cell_type": "code",
      "metadata": {
        "colab_type": "code",
        "id": "h8Mo6yQv8yrq",
        "outputId": "12e0a4f6-19db-4545-e182-7b06dac26c95",
        "colab": {
          "base_uri": "https://localhost:8080/",
          "height": 173
        }
      },
      "source": [
        "# Show top 3 movies with highest average ranks for males\n",
        "males_averages.nlargest(3, columns=\"rating\")"
      ],
      "execution_count": 35,
      "outputs": [
        {
          "output_type": "execute_result",
          "data": {
            "text/html": [
              "<div>\n",
              "<style scoped>\n",
              "    .dataframe tbody tr th:only-of-type {\n",
              "        vertical-align: middle;\n",
              "    }\n",
              "\n",
              "    .dataframe tbody tr th {\n",
              "        vertical-align: top;\n",
              "    }\n",
              "\n",
              "    .dataframe thead th {\n",
              "        text-align: right;\n",
              "    }\n",
              "</style>\n",
              "<table border=\"1\" class=\"dataframe\">\n",
              "  <thead>\n",
              "    <tr style=\"text-align: right;\">\n",
              "      <th></th>\n",
              "      <th>rating</th>\n",
              "    </tr>\n",
              "    <tr>\n",
              "      <th>item_id</th>\n",
              "      <th></th>\n",
              "    </tr>\n",
              "  </thead>\n",
              "  <tbody>\n",
              "    <tr>\n",
              "      <th>1122</th>\n",
              "      <td>5.0</td>\n",
              "    </tr>\n",
              "    <tr>\n",
              "      <th>1144</th>\n",
              "      <td>5.0</td>\n",
              "    </tr>\n",
              "    <tr>\n",
              "      <th>1175</th>\n",
              "      <td>5.0</td>\n",
              "    </tr>\n",
              "  </tbody>\n",
              "</table>\n",
              "</div>"
            ],
            "text/plain": [
              "         rating\n",
              "item_id        \n",
              "1122        5.0\n",
              "1144        5.0\n",
              "1175        5.0"
            ]
          },
          "metadata": {
            "tags": []
          },
          "execution_count": 35
        }
      ]
    },
    {
      "cell_type": "code",
      "metadata": {
        "colab_type": "code",
        "id": "GPbhQctf77M5",
        "outputId": "4fa8054e-63cc-4da2-a88d-7eaace8a9a4b",
        "colab": {
          "base_uri": "https://localhost:8080/",
          "height": 295
        }
      },
      "source": [
        "# Show averages for females\n",
        "females = users_join[users_join['gender'] == 'F']\n",
        "females_averages = females[['item_id','rating']].groupby('item_id').mean()\n",
        "# hist_female = females_averages.hist()\n",
        "hist_female = females_averages.hist(bins=4)\n",
        "plt.xlabel('Average Rating')\n",
        "plt.ylabel('Number of Movies')\n",
        "plt.title('Females Average Ratings Histogram')\n",
        "plt.xticks([1,2,3,4,5])\n",
        "plt.show()\n"
      ],
      "execution_count": 37,
      "outputs": [
        {
          "output_type": "display_data",
          "data": {
            "image/png": "[encoded data removed]",
            "text/plain": [
              "<Figure size 432x288 with 1 Axes>"
            ]
          },
          "metadata": {
            "tags": [],
            "needs_background": "light"
          }
        }
      ]
    },
    {
      "cell_type": "code",
      "metadata": {
        "colab_type": "code",
        "id": "N8MEF8uz9JGF",
        "outputId": "f4ccd55a-0289-4d12-c285-e71c8e885998",
        "colab": {
          "base_uri": "https://localhost:8080/",
          "height": 166
        }
      },
      "source": [
        "# Show top 3 movies with highest average ranks for females\n",
        "females_averages.nlargest(3, columns=\"rating\")"
      ],
      "execution_count": 0,
      "outputs": [
        {
          "output_type": "execute_result",
          "data": {
            "text/html": [
              "<div>\n",
              "<style scoped>\n",
              "    .dataframe tbody tr th:only-of-type {\n",
              "        vertical-align: middle;\n",
              "    }\n",
              "\n",
              "    .dataframe tbody tr th {\n",
              "        vertical-align: top;\n",
              "    }\n",
              "\n",
              "    .dataframe thead th {\n",
              "        text-align: right;\n",
              "    }\n",
              "</style>\n",
              "<table border=\"1\" class=\"dataframe\">\n",
              "  <thead>\n",
              "    <tr style=\"text-align: right;\">\n",
              "      <th></th>\n",
              "      <th>rating</th>\n",
              "    </tr>\n",
              "    <tr>\n",
              "      <th>item_id</th>\n",
              "      <th></th>\n",
              "    </tr>\n",
              "  </thead>\n",
              "  <tbody>\n",
              "    <tr>\n",
              "      <td>74</td>\n",
              "      <td>5.0</td>\n",
              "    </tr>\n",
              "    <tr>\n",
              "      <td>838</td>\n",
              "      <td>5.0</td>\n",
              "    </tr>\n",
              "    <tr>\n",
              "      <td>891</td>\n",
              "      <td>5.0</td>\n",
              "    </tr>\n",
              "  </tbody>\n",
              "</table>\n",
              "</div>"
            ],
            "text/plain": [
              "         rating\n",
              "item_id        \n",
              "74          5.0\n",
              "838         5.0\n",
              "891         5.0"
            ]
          },
          "metadata": {
            "tags": []
          },
          "execution_count": 10
        }
      ]
    },
    {
      "cell_type": "code",
      "metadata": {
        "colab_type": "code",
        "id": "3-uMrezC-RbA",
        "outputId": "7638c17e-c496-4a60-85c1-480589021c47",
        "colab": {
          "base_uri": "https://localhost:8080/",
          "height": 166
        }
      },
      "source": [
        "# Top 3 movies with highest difference between males and females\n",
        "males_and_females = pd.merge(males_averages, females_averages, on = 'item_id', how = 'inner')\n",
        "males_and_females['difference'] = (males_and_females['rating_x'] - males_and_females['rating_y']).abs()\n",
        "males_and_females.nlargest(3, columns=\"difference\")[['difference']]"
      ],
      "execution_count": 0,
      "outputs": [
        {
          "output_type": "execute_result",
          "data": {
            "text/html": [
              "<div>\n",
              "<style scoped>\n",
              "    .dataframe tbody tr th:only-of-type {\n",
              "        vertical-align: middle;\n",
              "    }\n",
              "\n",
              "    .dataframe tbody tr th {\n",
              "        vertical-align: top;\n",
              "    }\n",
              "\n",
              "    .dataframe thead th {\n",
              "        text-align: right;\n",
              "    }\n",
              "</style>\n",
              "<table border=\"1\" class=\"dataframe\">\n",
              "  <thead>\n",
              "    <tr style=\"text-align: right;\">\n",
              "      <th></th>\n",
              "      <th>difference</th>\n",
              "    </tr>\n",
              "    <tr>\n",
              "      <th>item_id</th>\n",
              "      <th></th>\n",
              "    </tr>\n",
              "  </thead>\n",
              "  <tbody>\n",
              "    <tr>\n",
              "      <td>1175</td>\n",
              "      <td>4.000000</td>\n",
              "    </tr>\n",
              "    <tr>\n",
              "      <td>851</td>\n",
              "      <td>3.666667</td>\n",
              "    </tr>\n",
              "    <tr>\n",
              "      <td>1429</td>\n",
              "      <td>3.500000</td>\n",
              "    </tr>\n",
              "  </tbody>\n",
              "</table>\n",
              "</div>"
            ],
            "text/plain": [
              "         difference\n",
              "item_id            \n",
              "1175       4.000000\n",
              "851        3.666667\n",
              "1429       3.500000"
            ]
          },
          "metadata": {
            "tags": []
          },
          "execution_count": 11
        }
      ]
    },
    {
      "cell_type": "code",
      "metadata": {
        "colab_type": "code",
        "id": "nLOBT9hgBRMa",
        "colab": {}
      },
      "source": [
        "# Load movies and ratings and join them\n",
        "cols3 = ['movie_id','movie_title','release_date','video_release_date','IMDb_URL'\n",
        "          ,'unknown','Action','Adventure','Animation','Childrens','Comedy',\n",
        "          'Crime','Documentary','Drama','Fantasy','Film-Noir','Horror','Musical','Mystery','Romance','Sci-Fi',\n",
        "        'Thriller','War','Western']\n",
        "movies = pd.read_csv('u.item',delimiter='|',names=cols3,encoding='latin-1')\n",
        "ratings = pd.read_csv('u.data',delimiter='\\t',names=cols,encoding='latin-1')\n",
        "movies_and_ratings = ratings.join(movies.set_index('movie_id'), on='item_id')\n",
        "\n"
      ],
      "execution_count": 0,
      "outputs": []
    },
    {
      "cell_type": "code",
      "metadata": {
        "colab_type": "code",
        "id": "umWB6HQIGcML",
        "colab": {}
      },
      "source": [
        "# Split movies to high-rated and low-rated based on total average\n",
        "total_average = movies_and_ratings['rating'].mean()\n",
        "high = movies_and_ratings.loc[movies_and_ratings['rating'] >= total_average]\n",
        "low = movies_and_ratings.loc[movies_and_ratings['rating'] < total_average]"
      ],
      "execution_count": 0,
      "outputs": []
    },
    {
      "cell_type": "code",
      "metadata": {
        "colab_type": "code",
        "id": "JtkQaOffJaKe",
        "colab": {}
      },
      "source": [
        "# check frequency of genres for high and low rated movies\n",
        "\n",
        "genres = ['unknown','Action','Adventure','Animation','Childrens','Comedy','Crime','Documentary','Drama','Fantasy','Film-Noir','Horror',\n",
        "'Musical','Mystery','Romance','Sci-Fi','Thriller','War','Western']\n",
        "\n",
        "high_genres = {}\n",
        "low_genres = {}\n",
        "\n",
        "for genre in genres:\n",
        "    genre_high_movies = high[genre] == 1\n",
        "    genre_low_movies = low[genre] == 1\n",
        "    high_genres[genre] = high[genre_high_movies].shape[0]\n",
        "    low_genres[genre] = low[genre_low_movies].shape[0]\n",
        "\n",
        "# sort from high to low\n",
        "high_genres = sorted(high_genres.items(), key=operator.itemgetter(1),reverse=True)\n",
        "low_genres = sorted(low_genres.items(), key=operator.itemgetter(1),reverse=True)"
      ],
      "execution_count": 0,
      "outputs": []
    },
    {
      "cell_type": "code",
      "metadata": {
        "colab_type": "code",
        "id": "ahhbJXNgCxCz",
        "colab": {}
      },
      "source": [
        "# this function creates histogram\n",
        "\n",
        "def histogram(genres_count, title):\n",
        "  fig = plt.figure(1, figsize=(12,10))\n",
        "  ax2 = fig.add_subplot(2,1,2)\n",
        "  y_axis = [genre[1] for genre in genres_count]\n",
        "  x_axis = [i for i in range(len(genres_count))]\n",
        "  x_label = [genre[0] for genre in genres_count]\n",
        "  plt.xticks(rotation = 50, fontsize = 10)\n",
        "  plt.yticks(fontsize = 10)\n",
        "  plt.xticks(x_axis, x_label)\n",
        "  plt.ylabel(\"Occurences\", fontsize = 20, labelpad = 5)\n",
        "  ax2.bar(x_axis, y_axis, align = 'center', color='b')\n",
        "  plt.title(title,color='black',fontsize = 24)\n",
        "  plt.show()"
      ],
      "execution_count": 0,
      "outputs": []
    },
    {
      "cell_type": "code",
      "metadata": {
        "colab_type": "code",
        "id": "8TLK8cjpD0n_",
        "outputId": "30adff65-60d5-4b7c-d113-00e5fd547bfe",
        "colab": {
          "base_uri": "https://localhost:8080/",
          "height": 719
        }
      },
      "source": [
        "histogram(high_genres, \"Popular genres in high rated movies\")\n",
        "histogram(low_genres, \"Popular genres in low rated movies\")"
      ],
      "execution_count": 0,
      "outputs": [
        {
          "output_type": "display_data",
          "data": {
            "image/png": "[encoded data removed]",
            "text/plain": [
              "<Figure size 864x720 with 1 Axes>"
            ]
          },
          "metadata": {
            "tags": [],
            "needs_background": "light"
          }
        },
        {
          "output_type": "display_data",
          "data": {
            "image/png": "[encoded data removed]",
            "text/plain": [
              "<Figure size 864x720 with 1 Axes>"
            ]
          },
          "metadata": {
            "tags": [],
            "needs_background": "light"
          }
        }
      ]
    },
    {
      "cell_type": "code",
      "metadata": {
        "colab_type": "code",
        "id": "SWp-YVkJJI5L",
        "outputId": "8b603e02-d1a8-48e4-8cbe-6b25b1a0b432",
        "colab": {
          "base_uri": "https://localhost:8080/",
          "height": 1000
        }
      },
      "source": [
        "# check frequency of genres within young and old people\n",
        "\n",
        "groups = [(users_join['age'] <= 40), (users_join['age'] >= 41)]\n",
        "meaning = ['young','old']\n",
        "users_join['age_type'] = np.select(groups, meaning)\n",
        "young = users_join[users_join['age_type'] == \"young\"]\n",
        "old = users_join[users_join['age_type'] == \"old\"]\n",
        "\n",
        "young_mean = young[['item_id','rating']].groupby('item_id').agg('mean')\n",
        "old_mean = old[['item_id','rating']].groupby('item_id').agg('mean')\n",
        "young_movies = movies.merge(young_mean, left_on = 'movie_id', right_on = 'item_id', how = 'inner')\n",
        "old_movies = movies.merge(old_mean, left_on = 'movie_id', right_on = 'item_id', how = 'inner')\n",
        "\n",
        "young_low = young_movies[young_movies['rating'] < total_average]\n",
        "old_low = old_movies[old_movies['rating'] < total_average]\n",
        "young_high = young_movies[young_movies['rating'] >= total_average]\n",
        "old_high = old_movies[old_movies['rating'] >= total_average]\n",
        "\n",
        "young_low_genres = {}\n",
        "young_high_genres = {}\n",
        "old_low_genres = {}\n",
        "old_high_genres = {}\n",
        "\n",
        "for genre in genres:\n",
        "\n",
        "    genre_young_low_movies = young_low[genre] == 1\n",
        "    genre_young_high_movies = young_high[genre] == 1\n",
        "\n",
        "    genre_old_low_movies = old_low[genre] == 1\n",
        "    genre_old_high_movies = old_high[genre] == 1\n",
        "\n",
        "    young_low_genres[genre] = young_low[genre_young_low_movies].shape[0]\n",
        "    young_high_genres[genre] = young_high[genre_young_high_movies].shape[0]\n",
        "\n",
        "    old_low_genres[genre] = old_low[genre_old_low_movies].shape[0]\n",
        "    old_high_genres[genre] = old_high[genre_old_high_movies].shape[0]\n",
        "\n",
        "# sort from high to low\n",
        "young_low_genres = sorted(young_low_genres.items(), key=operator.itemgetter(1), reverse=True)\n",
        "young_high_genres = sorted(young_high_genres.items(), key=operator.itemgetter(1), reverse=True)\n",
        "old_low_genres = sorted(old_low_genres.items(), key=operator.itemgetter(1), reverse=True)\n",
        "old_high_genres = sorted(old_high_genres.items(), key=operator.itemgetter(1), reverse=True)\n",
        "\n",
        "# show histograms for each\n",
        "histogram(young_low_genres, \"Popular low rated movies genres within young people\")\n",
        "histogram(young_high_genres, \"Popular high rated movies genres within young people\")\n",
        "histogram(old_low_genres, \"Popular low rated movies genres within old people\")\n",
        "histogram(old_high_genres, \"Popular high rated movies genres within old people\")"
      ],
      "execution_count": 0,
      "outputs": [
        {
          "output_type": "display_data",
          "data": {
            "image/png": "[encoded data removed]",
            "text/plain": [
              "<Figure size 864x720 with 1 Axes>"
            ]
          },
          "metadata": {
            "tags": [],
            "needs_background": "light"
          }
        },
        {
          "output_type": "display_data",
          "data": {
            "image/png": "[encoded data removed]",
            "text/plain": [
              "<Figure size 864x720 with 1 Axes>"
            ]
          },
          "metadata": {
            "tags": [],
            "needs_background": "light"
          }
        },
        {
          "output_type": "display_data",
          "data": {
            "image/png": "[encoded data removed]",
            "text/plain": [
              "<Figure size 864x720 with 1 Axes>"
            ]
          },
          "metadata": {
            "tags": [],
            "needs_background": "light"
          }
        },
        {
          "output_type": "display_data",
          "data": {
            "image/png": "[encoded data removed]",
            "text/plain": [
              "<Figure size 864x720 with 1 Axes>"
            ]
          },
          "metadata": {
            "tags": [],
            "needs_background": "light"
          }
        }
      ]
    },
    {
      "cell_type": "code",
      "metadata": {
        "colab_type": "code",
        "id": "fSDnQ-fSMBIZ",
        "colab": {}
      },
      "source": [
        "# find most popular movies by the amount of time they were ranked\n",
        "\n",
        "movies_ratings_count = {}\n",
        "for index, row in ratings.iterrows():\n",
        "  item_id = row['item_id'];\n",
        "  if movies_ratings_count.get(item_id) is None:\n",
        "    movies_ratings_count[item_id] = 0\n",
        "  movies_ratings_count[item_id] += 1\n",
        "\n",
        "movies_ratings_count = sorted(movies_ratings_count.items(), key=operator.itemgetter(1),reverse=True)"
      ],
      "execution_count": 0,
      "outputs": []
    },
    {
      "cell_type": "code",
      "metadata": {
        "colab_type": "code",
        "id": "5dOl0YzjSIPJ",
        "outputId": "a12b23ca-2a5d-4903-c7c4-df81f395d332",
        "colab": {
          "base_uri": "https://localhost:8080/",
          "height": 195
        }
      },
      "source": [
        "# show results\n",
        "\n",
        "df = pd.DataFrame(movies_ratings_count, columns=[\"movie_id\", \"# times ranked\"])\n",
        "df.nlargest(5, \"# times ranked\")\n"
      ],
      "execution_count": 0,
      "outputs": [
        {
          "output_type": "execute_result",
          "data": {
            "text/html": [
              "<div>\n",
              "<style scoped>\n",
              "    .dataframe tbody tr th:only-of-type {\n",
              "        vertical-align: middle;\n",
              "    }\n",
              "\n",
              "    .dataframe tbody tr th {\n",
              "        vertical-align: top;\n",
              "    }\n",
              "\n",
              "    .dataframe thead th {\n",
              "        text-align: right;\n",
              "    }\n",
              "</style>\n",
              "<table border=\"1\" class=\"dataframe\">\n",
              "  <thead>\n",
              "    <tr style=\"text-align: right;\">\n",
              "      <th></th>\n",
              "      <th>movie_id</th>\n",
              "      <th># times ranked</th>\n",
              "    </tr>\n",
              "  </thead>\n",
              "  <tbody>\n",
              "    <tr>\n",
              "      <td>0</td>\n",
              "      <td>50</td>\n",
              "      <td>583</td>\n",
              "    </tr>\n",
              "    <tr>\n",
              "      <td>1</td>\n",
              "      <td>258</td>\n",
              "      <td>509</td>\n",
              "    </tr>\n",
              "    <tr>\n",
              "      <td>2</td>\n",
              "      <td>100</td>\n",
              "      <td>508</td>\n",
              "    </tr>\n",
              "    <tr>\n",
              "      <td>3</td>\n",
              "      <td>181</td>\n",
              "      <td>507</td>\n",
              "    </tr>\n",
              "    <tr>\n",
              "      <td>4</td>\n",
              "      <td>294</td>\n",
              "      <td>485</td>\n",
              "    </tr>\n",
              "  </tbody>\n",
              "</table>\n",
              "</div>"
            ],
            "text/plain": [
              "   movie_id  # times ranked\n",
              "0        50             583\n",
              "1       258             509\n",
              "2       100             508\n",
              "3       181             507\n",
              "4       294             485"
            ]
          },
          "metadata": {
            "tags": []
          },
          "execution_count": 21
        }
      ]
    },
    {
      "cell_type": "markdown",
      "metadata": {
        "colab_type": "text",
        "id": "3h44gB6cUSgx"
      },
      "source": [
        "# **Part B - Non-Personal Recommendations**"
      ]
    },
    {
      "cell_type": "markdown",
      "metadata": {
        "colab_type": "text",
        "id": "ewGaKQ2oUp3f"
      },
      "source": [
        "# Exercise 2"
      ]
    },
    {
      "cell_type": "code",
      "metadata": {
        "colab_type": "code",
        "id": "02AroujtQAc-",
        "colab": {}
      },
      "source": [
        "# calculate mae\n",
        "def calc_mae(df):\n",
        "  sum = 0\n",
        "  for index, row in df.iterrows():\n",
        "    average = row['rating_x']\n",
        "    real = row['rating_y']\n",
        "    sum = sum + abs(average-real)\n",
        "  mae = sum/df.shape[0]\n",
        "  return mae\n",
        "\n",
        "# get user movies\n",
        "def get_movies(df):\n",
        "  users_movies = {}\n",
        "  for index, row in df.iterrows():\n",
        "    if users_movies.get(row['user_id']) is None:\n",
        "      users_movies[row['user_id']] = []\n",
        "    users_movies[row['user_id']].append(row['item_id'])\n",
        "  return users_movies"
      ],
      "execution_count": 0,
      "outputs": []
    },
    {
      "cell_type": "code",
      "metadata": {
        "colab_type": "code",
        "id": "Gdr0RKB9UvzJ",
        "outputId": "2ada40be-1cee-4f93-b653-4110af0c864c",
        "colab": {
          "base_uri": "https://localhost:8080/",
          "height": 34
        }
      },
      "source": [
        "# calculate MAE for prediction model based on averages\n",
        "\n",
        "average_real_ratings = averages.merge(test, on='item_id')\n",
        "mae = calc_mae(average_real_ratings)\n",
        "print(\"MAE: \" + str(mae))"
      ],
      "execution_count": 0,
      "outputs": [
        {
          "output_type": "stream",
          "text": [
            "MAE: 0.8262677516917052\n"
          ],
          "name": "stdout"
        }
      ]
    },
    {
      "cell_type": "code",
      "metadata": {
        "colab_type": "code",
        "id": "F5y_xhqEpj9v",
        "colab": {}
      },
      "source": [
        "# recommend 20 movies for each user (that he hasen't seen yet) by a random choice, or based on average rating\n",
        "\n",
        "# recommend by average rating\n",
        "def get_recommendations_by_rating(users_movies, sorted_averages):\n",
        "  recommendations_by_rating = {}\n",
        "  for user in users_movies:\n",
        "    recommendations_by_rating[user] = []\n",
        "    count = 0\n",
        "    for index, row in sorted_averages.iterrows():\n",
        "      if index not in users_movies[user]:\n",
        "        recommendations_by_rating[user].append(index)\n",
        "        count += 1\n",
        "      if count == 20:\n",
        "        break\n",
        "  return recommendations_by_rating\n",
        "\n",
        "# randomly recommend\n",
        "def get_random_recommendations(users_movies):\n",
        "  random_recommendations = {} \n",
        "  for user in users_movies:\n",
        "    random_recommendations[user] = []\n",
        "    count = 0\n",
        "    while (count < 20):\n",
        "      movie = random.choice(movies['movie_id'].index.values.tolist())\n",
        "      if movie not in users_movies[user] and movie not in random_recommendations[user]:\n",
        "        random_recommendations[user].append(movie)\n",
        "        count += 1\n",
        "  return random_recommendations"
      ],
      "execution_count": 0,
      "outputs": []
    },
    {
      "cell_type": "code",
      "metadata": {
        "colab_type": "code",
        "id": "GcD4ZPzVTVqC",
        "colab": {}
      },
      "source": [
        "# randomly recommend and recommend by average rating to all users\n",
        "\n",
        "train_users_movies = get_movies(train)\n",
        "sorted_averages = averages.sort_values('rating', ascending=False)\n",
        "recommendations_by_rating = get_recommendations_by_rating(train_users_movies, sorted_averages)\n",
        "random_recommendations = get_random_recommendations(train_users_movies)"
      ],
      "execution_count": 0,
      "outputs": []
    },
    {
      "cell_type": "code",
      "metadata": {
        "colab_type": "code",
        "id": "FUQNY7M9_LG7",
        "outputId": "81507537-f5fe-4b27-e74b-dcf6849edf0b",
        "colab": {
          "base_uri": "https://localhost:8080/",
          "height": 84
        }
      },
      "source": [
        "# calculate precision and recall\n",
        "\n",
        "def get_relevant_selected(recommendations, test, user):\n",
        "  relevant_selected = 0\n",
        "  if user in test:\n",
        "    for movie in recommendations[user]:\n",
        "      if movie in test[user]:\n",
        "        relevant_selected += 1\n",
        "    return relevant_selected\n",
        "  else:\n",
        "    return -1\n",
        "\n",
        "def get_precision(recommendations, test):\n",
        "  sum = 0\n",
        "  for user in recommendations:\n",
        "    relevant_selected = get_relevant_selected(recommendations, test, user)\n",
        "    if relevant_selected != -1:\n",
        "      sum += relevant_selected/20\n",
        "  return str(sum/len(recommendations))\n",
        "\n",
        "def get_recall(recommendations, test):\n",
        "  sum = 0\n",
        "  for user in recommendations:\n",
        "    relevant_selected = get_relevant_selected(recommendations, test, user)\n",
        "    if relevant_selected != -1:\n",
        "      sum += relevant_selected/len(test[user])\n",
        "  return str(sum/len(recommendations))\n",
        "\n",
        "# get relevant movies for users\n",
        "test_users_movies = get_movies(test)\n",
        "\n",
        "# # recall and precision for recommendation by rating\n",
        "\n",
        "rating_prec = get_precision(recommendations_by_rating, test_users_movies)\n",
        "rating_recall = get_recall(recommendations_by_rating, test_users_movies)\n",
        "random_prec = get_precision(random_recommendations, test_users_movies)\n",
        "random_recall = get_recall(random_recommendations, test_users_movies)\n",
        "print(tabulate([['Precision', rating_prec, random_prec], ['Recall', rating_recall, random_recall]], headers=['', 'Recommendation by Rating', 'Random Recommendation']))"
      ],
      "execution_count": 0,
      "outputs": [
        {
          "output_type": "stream",
          "text": [
            "             Recommendation by Rating    Random Recommendation\n",
            "---------  --------------------------  -----------------------\n",
            "Precision                   0.0223224               0.0140509\n",
            "Recall                      0.0108716               0.00711056\n"
          ],
          "name": "stdout"
        }
      ]
    },
    {
      "cell_type": "code",
      "metadata": {
        "colab_type": "code",
        "id": "k_Rvmf_RPpV5",
        "outputId": "11875c74-f41b-4ceb-b052-f937741ac7a1",
        "colab": {
          "base_uri": "https://localhost:8080/",
          "height": 67
        }
      },
      "source": [
        "# calculate MAE for prediction model based on averages in males and females\n",
        "users_join_test = users.merge(test, how='inner')\n",
        "females_test = users_join_test[users_join_test['gender'] == 'F']\n",
        "males_test = users_join_test[users_join_test['gender'] == 'M']\n",
        "\n",
        "females_average_real_ratings = females_averages.merge(females_test, on='item_id')\n",
        "females_mae = calc_mae(females_average_real_ratings)\n",
        "# print(\"MAE for females: \" + str(mae))\n",
        "\n",
        "males_average_real_ratings = males_averages.merge(males_test, on='item_id')\n",
        "males_mae = calc_mae(males_average_real_ratings)\n",
        "# print(\"MAE for males: \" + str(mae))\n",
        "\n",
        "print(tabulate([['MAE', females_mae, males_mae]], headers=['Females', 'Males']))"
      ],
      "execution_count": 0,
      "outputs": [
        {
          "output_type": "stream",
          "text": [
            "       Females    Males\n",
            "---  ---------  -------\n",
            "MAE   0.913659  0.80346\n"
          ],
          "name": "stdout"
        }
      ]
    },
    {
      "cell_type": "code",
      "metadata": {
        "colab_type": "code",
        "id": "B6WYhhzZVIu3",
        "colab": {}
      },
      "source": [
        "# randomly recommend and recommend by average rating to females\n",
        "\n",
        "train_females_movies = get_movies(females)\n",
        "females_sorted_averages = females_averages.sort_values('rating', ascending=False)\n",
        "females_recommendations_by_rating = get_recommendations_by_rating(train_females_movies, females_sorted_averages)\n",
        "females_random_recommendations = get_random_recommendations(train_females_movies)\n",
        "\n",
        "# randomly recommend and recommend by average rating to males\n",
        "\n",
        "train_males_movies = get_movies(males)\n",
        "males_sorted_averages = males_averages.sort_values('rating', ascending=False)\n",
        "males_recommendations_by_rating = get_recommendations_by_rating(train_males_movies, males_sorted_averages)\n",
        "males_random_recommendations = get_random_recommendations(train_males_movies)"
      ],
      "execution_count": 0,
      "outputs": []
    },
    {
      "cell_type": "code",
      "metadata": {
        "colab_type": "code",
        "id": "l3elURiMW37J",
        "outputId": "19f060fe-18f7-43d8-8407-079ed301aa36",
        "colab": {
          "base_uri": "https://localhost:8080/",
          "height": 252
        }
      },
      "source": [
        "test_females_movies = get_movies(females_test)\n",
        "test_males_movies = get_movies(males_test)\n",
        "\n",
        "females_rating_prec = get_precision(females_recommendations_by_rating, test_females_movies)\n",
        "females_rating_recall = get_recall(females_recommendations_by_rating, test_females_movies)\n",
        "females_random_prec = get_precision(females_random_recommendations, test_females_movies)\n",
        "females_random_recall = get_recall(females_random_recommendations, test_females_movies)\n",
        "\n",
        "males_rating_prec = get_precision(males_recommendations_by_rating, test_males_movies)\n",
        "males_rating_recall = get_recall(males_recommendations_by_rating, test_males_movies)\n",
        "males_random_prec = get_precision(males_random_recommendations, test_males_movies)\n",
        "males_random_recall = get_recall(males_random_recommendations, test_males_movies)\n",
        "\n",
        "print(\"-------------------------- FEMALES ---------------------------\\n\")\n",
        "print(tabulate([['Precision', females_rating_prec, females_random_prec], ['Recall', females_rating_recall, females_random_recall]], headers=['', 'Recommendation by Rating', 'Random Recommendation']))\n",
        "\n",
        "print(\"\\n\\n--------------------------- MALES ----------------------------\\n\")\n",
        "print(tabulate([['Precision', males_rating_prec, males_random_prec], ['Recall', males_rating_recall, males_random_recall]], headers=['', 'Recommendation by Rating', 'Random Recommendation']))"
      ],
      "execution_count": 0,
      "outputs": [
        {
          "output_type": "stream",
          "text": [
            "-------------------------- FEMALES ---------------------------\n",
            "\n",
            "             Recommendation by Rating    Random Recommendation\n",
            "---------  --------------------------  -----------------------\n",
            "Precision                  0.00915751               0.0102564\n",
            "Recall                     0.00362341               0.00510896\n",
            "\n",
            "\n",
            "--------------------------- MALES ----------------------------\n",
            "\n",
            "             Recommendation by Rating    Random Recommendation\n",
            "---------  --------------------------  -----------------------\n",
            "Precision                  0.00291045               0.0140299\n",
            "Recall                     0.00117033               0.00585353\n"
          ],
          "name": "stdout"
        }
      ]
    },
    {
      "cell_type": "code",
      "metadata": {
        "colab_type": "code",
        "id": "6vlE4n0UMy-A",
        "colab": {}
      },
      "source": [
        ""
      ],
      "execution_count": 0,
      "outputs": []
    },
    {
      "cell_type": "markdown",
      "metadata": {
        "colab_type": "text",
        "id": "o-25W7bcU_Az"
      },
      "source": [
        "# **Part C - Personal Recommendations**"
      ]
    },
    {
      "cell_type": "markdown",
      "metadata": {
        "colab_type": "text",
        "id": "dhAaK_xTVE80"
      },
      "source": [
        "# Exercise 3"
      ]
    },
    {
      "cell_type": "code",
      "metadata": {
        "colab_type": "code",
        "id": "VjzOQZv5V0bS",
        "outputId": "c0fc0881-5851-4702-f590-59e68b1967a9",
        "colab": {
          "base_uri": "https://localhost:8080/",
          "height": 810
        }
      },
      "source": [
        "pip install -U turicreate"
      ],
      "execution_count": 0,
      "outputs": [
        {
          "output_type": "stream",
          "text": [
            "Requirement already up-to-date: turicreate in /usr/local/lib/python3.6/dist-packages (6.2.2)\n",
            "Requirement already satisfied, skipping upgrade: pandas>=0.23.2 in /usr/local/lib/python3.6/dist-packages (from turicreate) (1.0.3)\n",
            "Requirement already satisfied, skipping upgrade: decorator>=4.0.9 in /usr/local/lib/python3.6/dist-packages (from turicreate) (4.4.2)\n",
            "Requirement already satisfied, skipping upgrade: tensorflow<=2.0.1,>=2.0.0 in /usr/local/lib/python3.6/dist-packages (from turicreate) (2.0.0)\n",
            "Requirement already satisfied, skipping upgrade: requests>=2.9.1 in /usr/local/lib/python3.6/dist-packages (from turicreate) (2.23.0)\n",
            "Requirement already satisfied, skipping upgrade: pillow>=5.2.0 in /usr/local/lib/python3.6/dist-packages (from turicreate) (7.0.0)\n",
            "Requirement already satisfied, skipping upgrade: scipy>=1.1.0 in /usr/local/lib/python3.6/dist-packages (from turicreate) (1.4.1)\n",
            "Requirement already satisfied, skipping upgrade: coremltools==3.3 in /usr/local/lib/python3.6/dist-packages (from turicreate) (3.3)\n",
            "Requirement already satisfied, skipping upgrade: prettytable==0.7.2 in /usr/local/lib/python3.6/dist-packages (from turicreate) (0.7.2)\n",
            "Requirement already satisfied, skipping upgrade: six>=1.10.0 in /usr/local/lib/python3.6/dist-packages (from turicreate) (1.12.0)\n",
            "Requirement already satisfied, skipping upgrade: resampy==0.2.1 in /usr/local/lib/python3.6/dist-packages (from turicreate) (0.2.1)\n",
            "Requirement already satisfied, skipping upgrade: numpy in /usr/local/lib/python3.6/dist-packages (from turicreate) (1.18.4)\n",
            "Requirement already satisfied, skipping upgrade: python-dateutil>=2.6.1 in /usr/local/lib/python3.6/dist-packages (from pandas>=0.23.2->turicreate) (2.8.1)\n",
            "Requirement already satisfied, skipping upgrade: pytz>=2017.2 in /usr/local/lib/python3.6/dist-packages (from pandas>=0.23.2->turicreate) (2018.9)\n",
            "Requirement already satisfied, skipping upgrade: protobuf>=3.6.1 in /usr/local/lib/python3.6/dist-packages (from tensorflow<=2.0.1,>=2.0.0->turicreate) (3.10.0)\n",
            "Requirement already satisfied, skipping upgrade: wrapt>=1.11.1 in /usr/local/lib/python3.6/dist-packages (from tensorflow<=2.0.1,>=2.0.0->turicreate) (1.12.1)\n",
            "Requirement already satisfied, skipping upgrade: keras-applications>=1.0.8 in /usr/local/lib/python3.6/dist-packages (from tensorflow<=2.0.1,>=2.0.0->turicreate) (1.0.8)\n",
            "Requirement already satisfied, skipping upgrade: opt-einsum>=2.3.2 in /usr/local/lib/python3.6/dist-packages (from tensorflow<=2.0.1,>=2.0.0->turicreate) (3.2.1)\n",
            "Requirement already satisfied, skipping upgrade: termcolor>=1.1.0 in /usr/local/lib/python3.6/dist-packages (from tensorflow<=2.0.1,>=2.0.0->turicreate) (1.1.0)\n",
            "Requirement already satisfied, skipping upgrade: absl-py>=0.7.0 in /usr/local/lib/python3.6/dist-packages (from tensorflow<=2.0.1,>=2.0.0->turicreate) (0.9.0)\n",
            "Requirement already satisfied, skipping upgrade: tensorflow-estimator<2.1.0,>=2.0.0 in /usr/local/lib/python3.6/dist-packages (from tensorflow<=2.0.1,>=2.0.0->turicreate) (2.0.1)\n",
            "Requirement already satisfied, skipping upgrade: grpcio>=1.8.6 in /usr/local/lib/python3.6/dist-packages (from tensorflow<=2.0.1,>=2.0.0->turicreate) (1.28.1)\n",
            "Requirement already satisfied, skipping upgrade: tensorboard<2.1.0,>=2.0.0 in /usr/local/lib/python3.6/dist-packages (from tensorflow<=2.0.1,>=2.0.0->turicreate) (2.0.2)\n",
            "Requirement already satisfied, skipping upgrade: keras-preprocessing>=1.0.5 in /usr/local/lib/python3.6/dist-packages (from tensorflow<=2.0.1,>=2.0.0->turicreate) (1.1.0)\n",
            "Requirement already satisfied, skipping upgrade: wheel>=0.26 in /usr/local/lib/python3.6/dist-packages (from tensorflow<=2.0.1,>=2.0.0->turicreate) (0.34.2)\n",
            "Requirement already satisfied, skipping upgrade: google-pasta>=0.1.6 in /usr/local/lib/python3.6/dist-packages (from tensorflow<=2.0.1,>=2.0.0->turicreate) (0.2.0)\n",
            "Requirement already satisfied, skipping upgrade: astor>=0.6.0 in /usr/local/lib/python3.6/dist-packages (from tensorflow<=2.0.1,>=2.0.0->turicreate) (0.8.1)\n",
            "Requirement already satisfied, skipping upgrade: gast==0.2.2 in /usr/local/lib/python3.6/dist-packages (from tensorflow<=2.0.1,>=2.0.0->turicreate) (0.2.2)\n",
            "Requirement already satisfied, skipping upgrade: chardet<4,>=3.0.2 in /usr/local/lib/python3.6/dist-packages (from requests>=2.9.1->turicreate) (3.0.4)\n",
            "Requirement already satisfied, skipping upgrade: idna<3,>=2.5 in /usr/local/lib/python3.6/dist-packages (from requests>=2.9.1->turicreate) (2.9)\n",
            "Requirement already satisfied, skipping upgrade: urllib3!=1.25.0,!=1.25.1,<1.26,>=1.21.1 in /usr/local/lib/python3.6/dist-packages (from requests>=2.9.1->turicreate) (1.24.3)\n",
            "Requirement already satisfied, skipping upgrade: certifi>=2017.4.17 in /usr/local/lib/python3.6/dist-packages (from requests>=2.9.1->turicreate) (2020.4.5.1)\n",
            "Requirement already satisfied, skipping upgrade: numba>=0.32 in /usr/local/lib/python3.6/dist-packages (from resampy==0.2.1->turicreate) (0.48.0)\n",
            "Requirement already satisfied, skipping upgrade: setuptools in /usr/local/lib/python3.6/dist-packages (from protobuf>=3.6.1->tensorflow<=2.0.1,>=2.0.0->turicreate) (46.3.0)\n",
            "Requirement already satisfied, skipping upgrade: h5py in /usr/local/lib/python3.6/dist-packages (from keras-applications>=1.0.8->tensorflow<=2.0.1,>=2.0.0->turicreate) (2.10.0)\n",
            "Requirement already satisfied, skipping upgrade: google-auth<2,>=1.6.3 in /usr/local/lib/python3.6/dist-packages (from tensorboard<2.1.0,>=2.0.0->tensorflow<=2.0.1,>=2.0.0->turicreate) (1.7.2)\n",
            "Requirement already satisfied, skipping upgrade: google-auth-oauthlib<0.5,>=0.4.1 in /usr/local/lib/python3.6/dist-packages (from tensorboard<2.1.0,>=2.0.0->tensorflow<=2.0.1,>=2.0.0->turicreate) (0.4.1)\n",
            "Requirement already satisfied, skipping upgrade: werkzeug>=0.11.15 in /usr/local/lib/python3.6/dist-packages (from tensorboard<2.1.0,>=2.0.0->tensorflow<=2.0.1,>=2.0.0->turicreate) (1.0.1)\n",
            "Requirement already satisfied, skipping upgrade: markdown>=2.6.8 in /usr/local/lib/python3.6/dist-packages (from tensorboard<2.1.0,>=2.0.0->tensorflow<=2.0.1,>=2.0.0->turicreate) (3.2.1)\n",
            "Requirement already satisfied, skipping upgrade: llvmlite<0.32.0,>=0.31.0dev0 in /usr/local/lib/python3.6/dist-packages (from numba>=0.32->resampy==0.2.1->turicreate) (0.31.0)\n",
            "Requirement already satisfied, skipping upgrade: pyasn1-modules>=0.2.1 in /usr/local/lib/python3.6/dist-packages (from google-auth<2,>=1.6.3->tensorboard<2.1.0,>=2.0.0->tensorflow<=2.0.1,>=2.0.0->turicreate) (0.2.8)\n",
            "Requirement already satisfied, skipping upgrade: cachetools<3.2,>=2.0.0 in /usr/local/lib/python3.6/dist-packages (from google-auth<2,>=1.6.3->tensorboard<2.1.0,>=2.0.0->tensorflow<=2.0.1,>=2.0.0->turicreate) (3.1.1)\n",
            "Requirement already satisfied, skipping upgrade: rsa<4.1,>=3.1.4 in /usr/local/lib/python3.6/dist-packages (from google-auth<2,>=1.6.3->tensorboard<2.1.0,>=2.0.0->tensorflow<=2.0.1,>=2.0.0->turicreate) (4.0)\n",
            "Requirement already satisfied, skipping upgrade: requests-oauthlib>=0.7.0 in /usr/local/lib/python3.6/dist-packages (from google-auth-oauthlib<0.5,>=0.4.1->tensorboard<2.1.0,>=2.0.0->tensorflow<=2.0.1,>=2.0.0->turicreate) (1.3.0)\n",
            "Requirement already satisfied, skipping upgrade: pyasn1<0.5.0,>=0.4.6 in /usr/local/lib/python3.6/dist-packages (from pyasn1-modules>=0.2.1->google-auth<2,>=1.6.3->tensorboard<2.1.0,>=2.0.0->tensorflow<=2.0.1,>=2.0.0->turicreate) (0.4.8)\n",
            "Requirement already satisfied, skipping upgrade: oauthlib>=3.0.0 in /usr/local/lib/python3.6/dist-packages (from requests-oauthlib>=0.7.0->google-auth-oauthlib<0.5,>=0.4.1->tensorboard<2.1.0,>=2.0.0->tensorflow<=2.0.1,>=2.0.0->turicreate) (3.1.0)\n"
          ],
          "name": "stdout"
        }
      ]
    },
    {
      "cell_type": "code",
      "metadata": {
        "colab_type": "code",
        "id": "zcP8q9xItzzA",
        "colab": {}
      },
      "source": [
        "import turicreate as tc"
      ],
      "execution_count": 0,
      "outputs": []
    },
    {
      "cell_type": "code",
      "metadata": {
        "colab_type": "code",
        "id": "OqnfymupVH0r",
        "outputId": "32060ed3-49d6-4ac7-a711-2f6d8ba90806",
        "colab": {
          "base_uri": "https://localhost:8080/",
          "height": 386
        }
      },
      "source": [
        "# loading the data with Turi Create\n",
        "train_turi = tc.SFrame.read_csv('u1.base', delimiter = '\\t', header = False)\n",
        "test_turi = tc.SFrame.read_csv('u1.test', delimiter = '\\t', header = False)"
      ],
      "execution_count": 0,
      "outputs": [
        {
          "output_type": "display_data",
          "data": {
            "text/html": [
              "<pre>Finished parsing file /content/u1.base</pre>"
            ],
            "text/plain": [
              "Finished parsing file /content/u1.base"
            ]
          },
          "metadata": {
            "tags": []
          }
        },
        {
          "output_type": "display_data",
          "data": {
            "text/html": [
              "<pre>Parsing completed. Parsed 100 lines in 0.091042 secs.</pre>"
            ],
            "text/plain": [
              "Parsing completed. Parsed 100 lines in 0.091042 secs."
            ]
          },
          "metadata": {
            "tags": []
          }
        },
        {
          "output_type": "stream",
          "text": [
            "------------------------------------------------------\n",
            "Inferred types from first 100 line(s) of file as \n",
            "column_type_hints=[int,int,int,int]\n",
            "If parsing fails due to incorrect types, you can correct\n",
            "the inferred type list above and pass it to read_csv in\n",
            "the column_type_hints argument\n",
            "------------------------------------------------------\n"
          ],
          "name": "stdout"
        },
        {
          "output_type": "display_data",
          "data": {
            "text/html": [
              "<pre>Finished parsing file /content/u1.base</pre>"
            ],
            "text/plain": [
              "Finished parsing file /content/u1.base"
            ]
          },
          "metadata": {
            "tags": []
          }
        },
        {
          "output_type": "display_data",
          "data": {
            "text/html": [
              "<pre>Parsing completed. Parsed 80000 lines in 0.063671 secs.</pre>"
            ],
            "text/plain": [
              "Parsing completed. Parsed 80000 lines in 0.063671 secs."
            ]
          },
          "metadata": {
            "tags": []
          }
        },
        {
          "output_type": "display_data",
          "data": {
            "text/html": [
              "<pre>Finished parsing file /content/u1.test</pre>"
            ],
            "text/plain": [
              "Finished parsing file /content/u1.test"
            ]
          },
          "metadata": {
            "tags": []
          }
        },
        {
          "output_type": "display_data",
          "data": {
            "text/html": [
              "<pre>Parsing completed. Parsed 100 lines in 0.02513 secs.</pre>"
            ],
            "text/plain": [
              "Parsing completed. Parsed 100 lines in 0.02513 secs."
            ]
          },
          "metadata": {
            "tags": []
          }
        },
        {
          "output_type": "stream",
          "text": [
            "------------------------------------------------------\n",
            "Inferred types from first 100 line(s) of file as \n",
            "column_type_hints=[int,int,int,int]\n",
            "If parsing fails due to incorrect types, you can correct\n",
            "the inferred type list above and pass it to read_csv in\n",
            "the column_type_hints argument\n",
            "------------------------------------------------------\n"
          ],
          "name": "stdout"
        },
        {
          "output_type": "display_data",
          "data": {
            "text/html": [
              "<pre>Finished parsing file /content/u1.test</pre>"
            ],
            "text/plain": [
              "Finished parsing file /content/u1.test"
            ]
          },
          "metadata": {
            "tags": []
          }
        },
        {
          "output_type": "display_data",
          "data": {
            "text/html": [
              "<pre>Parsing completed. Parsed 20000 lines in 0.025212 secs.</pre>"
            ],
            "text/plain": [
              "Parsing completed. Parsed 20000 lines in 0.025212 secs."
            ]
          },
          "metadata": {
            "tags": []
          }
        }
      ]
    },
    {
      "cell_type": "markdown",
      "metadata": {
        "colab_type": "text",
        "id": "ubH_eFbjb0IB"
      },
      "source": [
        "Matrix Factorization"
      ]
    },
    {
      "cell_type": "code",
      "metadata": {
        "colab_type": "code",
        "id": "qADbjbIOY7ur",
        "outputId": "b3ae37df-cb2a-4c7d-c1f2-47a83a008b0b",
        "colab": {
          "base_uri": "https://localhost:8080/",
          "height": 857
        }
      },
      "source": [
        "# Train the model\n",
        "Matrix_Factorization= tc.ranking_factorization_recommender.create(train_turi, user_id = 'X1', item_id = 'X2', target = 'X3')\n",
        "# predictions\n",
        "MFpredictions = Matrix_Factorization.predict(test_turi)"
      ],
      "execution_count": 0,
      "outputs": [
        {
          "output_type": "display_data",
          "data": {
            "text/html": [
              "<pre>Preparing data set.</pre>"
            ],
            "text/plain": [
              "Preparing data set."
            ]
          },
          "metadata": {
            "tags": []
          }
        },
        {
          "output_type": "display_data",
          "data": {
            "text/html": [
              "<pre>    Data has 80000 observations with 943 users and 1650 items.</pre>"
            ],
            "text/plain": [
              "    Data has 80000 observations with 943 users and 1650 items."
            ]
          },
          "metadata": {
            "tags": []
          }
        },
        {
          "output_type": "display_data",
          "data": {
            "text/html": [
              "<pre>    Data prepared in: 0.098858s</pre>"
            ],
            "text/plain": [
              "    Data prepared in: 0.098858s"
            ]
          },
          "metadata": {
            "tags": []
          }
        },
        {
          "output_type": "display_data",
          "data": {
            "text/html": [
              "<pre>Training ranking_factorization_recommender for recommendations.</pre>"
            ],
            "text/plain": [
              "Training ranking_factorization_recommender for recommendations."
            ]
          },
          "metadata": {
            "tags": []
          }
        },
        {
          "output_type": "display_data",
          "data": {
            "text/html": [
              "<pre>+--------------------------------+--------------------------------------------------+----------+</pre>"
            ],
            "text/plain": [
              "+--------------------------------+--------------------------------------------------+----------+"
            ]
          },
          "metadata": {
            "tags": []
          }
        },
        {
          "output_type": "display_data",
          "data": {
            "text/html": [
              "<pre>| Parameter                      | Description                                      | Value    |</pre>"
            ],
            "text/plain": [
              "| Parameter                      | Description                                      | Value    |"
            ]
          },
          "metadata": {
            "tags": []
          }
        },
        {
          "output_type": "display_data",
          "data": {
            "text/html": [
              "<pre>+--------------------------------+--------------------------------------------------+----------+</pre>"
            ],
            "text/plain": [
              "+--------------------------------+--------------------------------------------------+----------+"
            ]
          },
          "metadata": {
            "tags": []
          }
        },
        {
          "output_type": "display_data",
          "data": {
            "text/html": [
              "<pre>| num_factors                    | Factor Dimension                                 | 32       |</pre>"
            ],
            "text/plain": [
              "| num_factors                    | Factor Dimension                                 | 32       |"
            ]
          },
          "metadata": {
            "tags": []
          }
        },
        {
          "output_type": "display_data",
          "data": {
            "text/html": [
              "<pre>| regularization                 | L2 Regularization on Factors                     | 1e-09    |</pre>"
            ],
            "text/plain": [
              "| regularization                 | L2 Regularization on Factors                     | 1e-09    |"
            ]
          },
          "metadata": {
            "tags": []
          }
        },
        {
          "output_type": "display_data",
          "data": {
            "text/html": [
              "<pre>| solver                         | Solver used for training                         | adagrad  |</pre>"
            ],
            "text/plain": [
              "| solver                         | Solver used for training                         | adagrad  |"
            ]
          },
          "metadata": {
            "tags": []
          }
        },
        {
          "output_type": "display_data",
          "data": {
            "text/html": [
              "<pre>| linear_regularization          | L2 Regularization on Linear Coefficients         | 1e-09    |</pre>"
            ],
            "text/plain": [
              "| linear_regularization          | L2 Regularization on Linear Coefficients         | 1e-09    |"
            ]
          },
          "metadata": {
            "tags": []
          }
        },
        {
          "output_type": "display_data",
          "data": {
            "text/html": [
              "<pre>| ranking_regularization         | Rank-based Regularization Weight                 | 0.25     |</pre>"
            ],
            "text/plain": [
              "| ranking_regularization         | Rank-based Regularization Weight                 | 0.25     |"
            ]
          },
          "metadata": {
            "tags": []
          }
        },
        {
          "output_type": "display_data",
          "data": {
            "text/html": [
              "<pre>| max_iterations                 | Maximum Number of Iterations                     | 25       |</pre>"
            ],
            "text/plain": [
              "| max_iterations                 | Maximum Number of Iterations                     | 25       |"
            ]
          },
          "metadata": {
            "tags": []
          }
        },
        {
          "output_type": "display_data",
          "data": {
            "text/html": [
              "<pre>+--------------------------------+--------------------------------------------------+----------+</pre>"
            ],
            "text/plain": [
              "+--------------------------------+--------------------------------------------------+----------+"
            ]
          },
          "metadata": {
            "tags": []
          }
        },
        {
          "output_type": "display_data",
          "data": {
            "text/html": [
              "<pre>  Optimizing model using SGD; tuning step size.</pre>"
            ],
            "text/plain": [
              "  Optimizing model using SGD; tuning step size."
            ]
          },
          "metadata": {
            "tags": []
          }
        },
        {
          "output_type": "display_data",
          "data": {
            "text/html": [
              "<pre>  Using 10000 / 80000 points for tuning the step size.</pre>"
            ],
            "text/plain": [
              "  Using 10000 / 80000 points for tuning the step size."
            ]
          },
          "metadata": {
            "tags": []
          }
        },
        {
          "output_type": "display_data",
          "data": {
            "text/html": [
              "<pre>+---------+-------------------+------------------------------------------+</pre>"
            ],
            "text/plain": [
              "+---------+-------------------+------------------------------------------+"
            ]
          },
          "metadata": {
            "tags": []
          }
        },
        {
          "output_type": "display_data",
          "data": {
            "text/html": [
              "<pre>| Attempt | Initial Step Size | Estimated Objective Value                |</pre>"
            ],
            "text/plain": [
              "| Attempt | Initial Step Size | Estimated Objective Value                |"
            ]
          },
          "metadata": {
            "tags": []
          }
        },
        {
          "output_type": "display_data",
          "data": {
            "text/html": [
              "<pre>+---------+-------------------+------------------------------------------+</pre>"
            ],
            "text/plain": [
              "+---------+-------------------+------------------------------------------+"
            ]
          },
          "metadata": {
            "tags": []
          }
        },
        {
          "output_type": "display_data",
          "data": {
            "text/html": [
              "<pre>| 0       | 16.6667           | Not Viable                               |</pre>"
            ],
            "text/plain": [
              "| 0       | 16.6667           | Not Viable                               |"
            ]
          },
          "metadata": {
            "tags": []
          }
        },
        {
          "output_type": "display_data",
          "data": {
            "text/html": [
              "<pre>| 1       | 4.16667           | Not Viable                               |</pre>"
            ],
            "text/plain": [
              "| 1       | 4.16667           | Not Viable                               |"
            ]
          },
          "metadata": {
            "tags": []
          }
        },
        {
          "output_type": "display_data",
          "data": {
            "text/html": [
              "<pre>| 2       | 1.04167           | Not Viable                               |</pre>"
            ],
            "text/plain": [
              "| 2       | 1.04167           | Not Viable                               |"
            ]
          },
          "metadata": {
            "tags": []
          }
        },
        {
          "output_type": "display_data",
          "data": {
            "text/html": [
              "<pre>| 3       | 0.260417          | 1.17067                                  |</pre>"
            ],
            "text/plain": [
              "| 3       | 0.260417          | 1.17067                                  |"
            ]
          },
          "metadata": {
            "tags": []
          }
        },
        {
          "output_type": "display_data",
          "data": {
            "text/html": [
              "<pre>| 4       | 0.130208          | 1.66612                                  |</pre>"
            ],
            "text/plain": [
              "| 4       | 0.130208          | 1.66612                                  |"
            ]
          },
          "metadata": {
            "tags": []
          }
        },
        {
          "output_type": "display_data",
          "data": {
            "text/html": [
              "<pre>| 5       | 0.0651042         | 1.20692                                  |</pre>"
            ],
            "text/plain": [
              "| 5       | 0.0651042         | 1.20692                                  |"
            ]
          },
          "metadata": {
            "tags": []
          }
        },
        {
          "output_type": "display_data",
          "data": {
            "text/html": [
              "<pre>| 6       | 0.0325521         | 1.73044                                  |</pre>"
            ],
            "text/plain": [
              "| 6       | 0.0325521         | 1.73044                                  |"
            ]
          },
          "metadata": {
            "tags": []
          }
        },
        {
          "output_type": "display_data",
          "data": {
            "text/html": [
              "<pre>+---------+-------------------+------------------------------------------+</pre>"
            ],
            "text/plain": [
              "+---------+-------------------+------------------------------------------+"
            ]
          },
          "metadata": {
            "tags": []
          }
        },
        {
          "output_type": "display_data",
          "data": {
            "text/html": [
              "<pre>| Final   | 0.260417          | 1.17067                                  |</pre>"
            ],
            "text/plain": [
              "| Final   | 0.260417          | 1.17067                                  |"
            ]
          },
          "metadata": {
            "tags": []
          }
        },
        {
          "output_type": "display_data",
          "data": {
            "text/html": [
              "<pre>+---------+-------------------+------------------------------------------+</pre>"
            ],
            "text/plain": [
              "+---------+-------------------+------------------------------------------+"
            ]
          },
          "metadata": {
            "tags": []
          }
        },
        {
          "output_type": "display_data",
          "data": {
            "text/html": [
              "<pre>Starting Optimization.</pre>"
            ],
            "text/plain": [
              "Starting Optimization."
            ]
          },
          "metadata": {
            "tags": []
          }
        },
        {
          "output_type": "display_data",
          "data": {
            "text/html": [
              "<pre>+---------+--------------+-------------------+-----------------------+-------------+</pre>"
            ],
            "text/plain": [
              "+---------+--------------+-------------------+-----------------------+-------------+"
            ]
          },
          "metadata": {
            "tags": []
          }
        },
        {
          "output_type": "display_data",
          "data": {
            "text/html": [
              "<pre>| Iter.   | Elapsed Time | Approx. Objective | Approx. Training RMSE | Step Size   |</pre>"
            ],
            "text/plain": [
              "| Iter.   | Elapsed Time | Approx. Objective | Approx. Training RMSE | Step Size   |"
            ]
          },
          "metadata": {
            "tags": []
          }
        },
        {
          "output_type": "display_data",
          "data": {
            "text/html": [
              "<pre>+---------+--------------+-------------------+-----------------------+-------------+</pre>"
            ],
            "text/plain": [
              "+---------+--------------+-------------------+-----------------------+-------------+"
            ]
          },
          "metadata": {
            "tags": []
          }
        },
        {
          "output_type": "display_data",
          "data": {
            "text/html": [
              "<pre>| Initial | 103us        | 2.45312           | 1.11855               |             |</pre>"
            ],
            "text/plain": [
              "| Initial | 103us        | 2.45312           | 1.11855               |             |"
            ]
          },
          "metadata": {
            "tags": []
          }
        },
        {
          "output_type": "display_data",
          "data": {
            "text/html": [
              "<pre>+---------+--------------+-------------------+-----------------------+-------------+</pre>"
            ],
            "text/plain": [
              "+---------+--------------+-------------------+-----------------------+-------------+"
            ]
          },
          "metadata": {
            "tags": []
          }
        },
        {
          "output_type": "display_data",
          "data": {
            "text/html": [
              "<pre>| 1       | 322.22ms     | DIVERGED          | DIVERGED              | 0.260417    |</pre>"
            ],
            "text/plain": [
              "| 1       | 322.22ms     | DIVERGED          | DIVERGED              | 0.260417    |"
            ]
          },
          "metadata": {
            "tags": []
          }
        },
        {
          "output_type": "display_data",
          "data": {
            "text/html": [
              "<pre>| RESET   | 431.108ms    | 2.45305           | 1.11853               |             |</pre>"
            ],
            "text/plain": [
              "| RESET   | 431.108ms    | 2.45305           | 1.11853               |             |"
            ]
          },
          "metadata": {
            "tags": []
          }
        },
        {
          "output_type": "display_data",
          "data": {
            "text/html": [
              "<pre>| 1       | 655.518ms    | 2.0978            | 1.15265               | 0.130208    |</pre>"
            ],
            "text/plain": [
              "| 1       | 655.518ms    | 2.0978            | 1.15265               | 0.130208    |"
            ]
          },
          "metadata": {
            "tags": []
          }
        },
        {
          "output_type": "display_data",
          "data": {
            "text/html": [
              "<pre>| 2       | 892.147ms    | 1.63325           | 0.967929              | 0.130208    |</pre>"
            ],
            "text/plain": [
              "| 2       | 892.147ms    | 1.63325           | 0.967929              | 0.130208    |"
            ]
          },
          "metadata": {
            "tags": []
          }
        },
        {
          "output_type": "display_data",
          "data": {
            "text/html": [
              "<pre>| 3       | 1.10s        | 1.45185           | 0.90059               | 0.130208    |</pre>"
            ],
            "text/plain": [
              "| 3       | 1.10s        | 1.45185           | 0.90059               | 0.130208    |"
            ]
          },
          "metadata": {
            "tags": []
          }
        },
        {
          "output_type": "display_data",
          "data": {
            "text/html": [
              "<pre>| 4       | 1.33s        | 1.33924           | 0.856942              | 0.130208    |</pre>"
            ],
            "text/plain": [
              "| 4       | 1.33s        | 1.33924           | 0.856942              | 0.130208    |"
            ]
          },
          "metadata": {
            "tags": []
          }
        },
        {
          "output_type": "display_data",
          "data": {
            "text/html": [
              "<pre>| 5       | 1.56s        | 1.26336           | 0.826853              | 0.130208    |</pre>"
            ],
            "text/plain": [
              "| 5       | 1.56s        | 1.26336           | 0.826853              | 0.130208    |"
            ]
          },
          "metadata": {
            "tags": []
          }
        },
        {
          "output_type": "display_data",
          "data": {
            "text/html": [
              "<pre>| 9       | 2.42s        | 1.09533           | 0.755256              | 0.130208    |</pre>"
            ],
            "text/plain": [
              "| 9       | 2.42s        | 1.09533           | 0.755256              | 0.130208    |"
            ]
          },
          "metadata": {
            "tags": []
          }
        },
        {
          "output_type": "display_data",
          "data": {
            "text/html": [
              "<pre>| 24      | 5.60s        | 0.910609          | 0.680345              | 0.130208    |</pre>"
            ],
            "text/plain": [
              "| 24      | 5.60s        | 0.910609          | 0.680345              | 0.130208    |"
            ]
          },
          "metadata": {
            "tags": []
          }
        },
        {
          "output_type": "display_data",
          "data": {
            "text/html": [
              "<pre>| 25      | 5.82s        | 0.902697          | 0.677755              | 0.130208    |</pre>"
            ],
            "text/plain": [
              "| 25      | 5.82s        | 0.902697          | 0.677755              | 0.130208    |"
            ]
          },
          "metadata": {
            "tags": []
          }
        },
        {
          "output_type": "display_data",
          "data": {
            "text/html": [
              "<pre>+---------+--------------+-------------------+-----------------------+-------------+</pre>"
            ],
            "text/plain": [
              "+---------+--------------+-------------------+-----------------------+-------------+"
            ]
          },
          "metadata": {
            "tags": []
          }
        },
        {
          "output_type": "display_data",
          "data": {
            "text/html": [
              "<pre>Optimization Complete: Maximum number of passes through the data reached.</pre>"
            ],
            "text/plain": [
              "Optimization Complete: Maximum number of passes through the data reached."
            ]
          },
          "metadata": {
            "tags": []
          }
        },
        {
          "output_type": "display_data",
          "data": {
            "text/html": [
              "<pre>Computing final objective value and training RMSE.</pre>"
            ],
            "text/plain": [
              "Computing final objective value and training RMSE."
            ]
          },
          "metadata": {
            "tags": []
          }
        },
        {
          "output_type": "display_data",
          "data": {
            "text/html": [
              "<pre>       Final objective value: 0.911572</pre>"
            ],
            "text/plain": [
              "       Final objective value: 0.911572"
            ]
          },
          "metadata": {
            "tags": []
          }
        },
        {
          "output_type": "display_data",
          "data": {
            "text/html": [
              "<pre>       Final training RMSE: 0.649742</pre>"
            ],
            "text/plain": [
              "       Final training RMSE: 0.649742"
            ]
          },
          "metadata": {
            "tags": []
          }
        }
      ]
    },
    {
      "cell_type": "code",
      "metadata": {
        "colab_type": "code",
        "id": "sZuQqfOHybYE",
        "outputId": "8444b655-f79a-4b45-c253-c681c31bd27a",
        "colab": {
          "base_uri": "https://localhost:8080/",
          "height": 386
        }
      },
      "source": [
        "users_turi = tc.SFrame.read_csv('u.user', delimiter = '|', header = False)\n",
        "items_turi = tc.SFrame.read_csv('u.item', delimiter = '|', header = False)"
      ],
      "execution_count": 0,
      "outputs": [
        {
          "output_type": "display_data",
          "data": {
            "text/html": [
              "<pre>Finished parsing file /content/u.user</pre>"
            ],
            "text/plain": [
              "Finished parsing file /content/u.user"
            ]
          },
          "metadata": {
            "tags": []
          }
        },
        {
          "output_type": "display_data",
          "data": {
            "text/html": [
              "<pre>Parsing completed. Parsed 100 lines in 0.042351 secs.</pre>"
            ],
            "text/plain": [
              "Parsing completed. Parsed 100 lines in 0.042351 secs."
            ]
          },
          "metadata": {
            "tags": []
          }
        },
        {
          "output_type": "stream",
          "text": [
            "------------------------------------------------------\n",
            "Inferred types from first 100 line(s) of file as \n",
            "column_type_hints=[int,int,str,str,str]\n",
            "If parsing fails due to incorrect types, you can correct\n",
            "the inferred type list above and pass it to read_csv in\n",
            "the column_type_hints argument\n",
            "------------------------------------------------------\n"
          ],
          "name": "stdout"
        },
        {
          "output_type": "display_data",
          "data": {
            "text/html": [
              "<pre>Finished parsing file /content/u.user</pre>"
            ],
            "text/plain": [
              "Finished parsing file /content/u.user"
            ]
          },
          "metadata": {
            "tags": []
          }
        },
        {
          "output_type": "display_data",
          "data": {
            "text/html": [
              "<pre>Parsing completed. Parsed 943 lines in 0.013293 secs.</pre>"
            ],
            "text/plain": [
              "Parsing completed. Parsed 943 lines in 0.013293 secs."
            ]
          },
          "metadata": {
            "tags": []
          }
        },
        {
          "output_type": "display_data",
          "data": {
            "text/html": [
              "<pre>Finished parsing file /content/u.item</pre>"
            ],
            "text/plain": [
              "Finished parsing file /content/u.item"
            ]
          },
          "metadata": {
            "tags": []
          }
        },
        {
          "output_type": "display_data",
          "data": {
            "text/html": [
              "<pre>Parsing completed. Parsed 100 lines in 0.026418 secs.</pre>"
            ],
            "text/plain": [
              "Parsing completed. Parsed 100 lines in 0.026418 secs."
            ]
          },
          "metadata": {
            "tags": []
          }
        },
        {
          "output_type": "stream",
          "text": [
            "------------------------------------------------------\n",
            "Inferred types from first 100 line(s) of file as \n",
            "column_type_hints=[int,str,str,str,str,int,int,int,int,int,int,int,int,int,int,int,int,int,int,int,int,int,int,int]\n",
            "If parsing fails due to incorrect types, you can correct\n",
            "the inferred type list above and pass it to read_csv in\n",
            "the column_type_hints argument\n",
            "------------------------------------------------------\n"
          ],
          "name": "stdout"
        },
        {
          "output_type": "display_data",
          "data": {
            "text/html": [
              "<pre>Finished parsing file /content/u.item</pre>"
            ],
            "text/plain": [
              "Finished parsing file /content/u.item"
            ]
          },
          "metadata": {
            "tags": []
          }
        },
        {
          "output_type": "display_data",
          "data": {
            "text/html": [
              "<pre>Parsing completed. Parsed 1682 lines in 0.018862 secs.</pre>"
            ],
            "text/plain": [
              "Parsing completed. Parsed 1682 lines in 0.018862 secs."
            ]
          },
          "metadata": {
            "tags": []
          }
        }
      ]
    },
    {
      "cell_type": "markdown",
      "metadata": {
        "colab_type": "text",
        "id": "Wx6CVkizlGWr"
      },
      "source": [
        "Item Similarity"
      ]
    },
    {
      "cell_type": "code",
      "metadata": {
        "colab_type": "code",
        "id": "2kwyZsxBlKge",
        "outputId": "c0c03b1d-9074-447e-aa9c-c3208828e616",
        "colab": {
          "base_uri": "https://localhost:8080/",
          "height": 403
        }
      },
      "source": [
        "# Train the model\n",
        "Item_Sim_Model = tc.item_similarity_recommender.create(train_turi, user_id = 'X1', item_id = 'X2', target = 'X3', similarity_type='pearson')\n",
        "# create predictions\n",
        "ISpredictions = Item_Sim_Model.predict(test_turi)"
      ],
      "execution_count": 0,
      "outputs": [
        {
          "output_type": "display_data",
          "data": {
            "text/html": [
              "<pre>Warning: Ignoring columns X4;</pre>"
            ],
            "text/plain": [
              "Warning: Ignoring columns X4;"
            ]
          },
          "metadata": {
            "tags": []
          }
        },
        {
          "output_type": "display_data",
          "data": {
            "text/html": [
              "<pre>    To use these columns in scoring predictions, use a model that allows the use of additional features.</pre>"
            ],
            "text/plain": [
              "    To use these columns in scoring predictions, use a model that allows the use of additional features."
            ]
          },
          "metadata": {
            "tags": []
          }
        },
        {
          "output_type": "display_data",
          "data": {
            "text/html": [
              "<pre>Preparing data set.</pre>"
            ],
            "text/plain": [
              "Preparing data set."
            ]
          },
          "metadata": {
            "tags": []
          }
        },
        {
          "output_type": "display_data",
          "data": {
            "text/html": [
              "<pre>    Data has 80000 observations with 943 users and 1650 items.</pre>"
            ],
            "text/plain": [
              "    Data has 80000 observations with 943 users and 1650 items."
            ]
          },
          "metadata": {
            "tags": []
          }
        },
        {
          "output_type": "display_data",
          "data": {
            "text/html": [
              "<pre>    Data prepared in: 0.082748s</pre>"
            ],
            "text/plain": [
              "    Data prepared in: 0.082748s"
            ]
          },
          "metadata": {
            "tags": []
          }
        },
        {
          "output_type": "display_data",
          "data": {
            "text/html": [
              "<pre>Training model from provided data.</pre>"
            ],
            "text/plain": [
              "Training model from provided data."
            ]
          },
          "metadata": {
            "tags": []
          }
        },
        {
          "output_type": "display_data",
          "data": {
            "text/html": [
              "<pre>Gathering per-item and per-user statistics.</pre>"
            ],
            "text/plain": [
              "Gathering per-item and per-user statistics."
            ]
          },
          "metadata": {
            "tags": []
          }
        },
        {
          "output_type": "display_data",
          "data": {
            "text/html": [
              "<pre>+--------------------------------+------------+</pre>"
            ],
            "text/plain": [
              "+--------------------------------+------------+"
            ]
          },
          "metadata": {
            "tags": []
          }
        },
        {
          "output_type": "display_data",
          "data": {
            "text/html": [
              "<pre>| Elapsed Time (Item Statistics) | % Complete |</pre>"
            ],
            "text/plain": [
              "| Elapsed Time (Item Statistics) | % Complete |"
            ]
          },
          "metadata": {
            "tags": []
          }
        },
        {
          "output_type": "display_data",
          "data": {
            "text/html": [
              "<pre>+--------------------------------+------------+</pre>"
            ],
            "text/plain": [
              "+--------------------------------+------------+"
            ]
          },
          "metadata": {
            "tags": []
          }
        },
        {
          "output_type": "display_data",
          "data": {
            "text/html": [
              "<pre>| 8.233ms                        | 100        |</pre>"
            ],
            "text/plain": [
              "| 8.233ms                        | 100        |"
            ]
          },
          "metadata": {
            "tags": []
          }
        },
        {
          "output_type": "display_data",
          "data": {
            "text/html": [
              "<pre>+--------------------------------+------------+</pre>"
            ],
            "text/plain": [
              "+--------------------------------+------------+"
            ]
          },
          "metadata": {
            "tags": []
          }
        },
        {
          "output_type": "display_data",
          "data": {
            "text/html": [
              "<pre>Setting up lookup tables.</pre>"
            ],
            "text/plain": [
              "Setting up lookup tables."
            ]
          },
          "metadata": {
            "tags": []
          }
        },
        {
          "output_type": "display_data",
          "data": {
            "text/html": [
              "<pre>Processing data in one pass using dense lookup tables.</pre>"
            ],
            "text/plain": [
              "Processing data in one pass using dense lookup tables."
            ]
          },
          "metadata": {
            "tags": []
          }
        },
        {
          "output_type": "display_data",
          "data": {
            "text/html": [
              "<pre>+-------------------------------------+------------------+-----------------+</pre>"
            ],
            "text/plain": [
              "+-------------------------------------+------------------+-----------------+"
            ]
          },
          "metadata": {
            "tags": []
          }
        },
        {
          "output_type": "display_data",
          "data": {
            "text/html": [
              "<pre>| Elapsed Time (Constructing Lookups) | Total % Complete | Items Processed |</pre>"
            ],
            "text/plain": [
              "| Elapsed Time (Constructing Lookups) | Total % Complete | Items Processed |"
            ]
          },
          "metadata": {
            "tags": []
          }
        },
        {
          "output_type": "display_data",
          "data": {
            "text/html": [
              "<pre>+-------------------------------------+------------------+-----------------+</pre>"
            ],
            "text/plain": [
              "+-------------------------------------+------------------+-----------------+"
            ]
          },
          "metadata": {
            "tags": []
          }
        },
        {
          "output_type": "display_data",
          "data": {
            "text/html": [
              "<pre>| 11.405ms                            | 0                | 2               |</pre>"
            ],
            "text/plain": [
              "| 11.405ms                            | 0                | 2               |"
            ]
          },
          "metadata": {
            "tags": []
          }
        },
        {
          "output_type": "display_data",
          "data": {
            "text/html": [
              "<pre>| 292.51ms                            | 100              | 1650            |</pre>"
            ],
            "text/plain": [
              "| 292.51ms                            | 100              | 1650            |"
            ]
          },
          "metadata": {
            "tags": []
          }
        },
        {
          "output_type": "display_data",
          "data": {
            "text/html": [
              "<pre>+-------------------------------------+------------------+-----------------+</pre>"
            ],
            "text/plain": [
              "+-------------------------------------+------------------+-----------------+"
            ]
          },
          "metadata": {
            "tags": []
          }
        },
        {
          "output_type": "display_data",
          "data": {
            "text/html": [
              "<pre>Finalizing lookup tables.</pre>"
            ],
            "text/plain": [
              "Finalizing lookup tables."
            ]
          },
          "metadata": {
            "tags": []
          }
        },
        {
          "output_type": "display_data",
          "data": {
            "text/html": [
              "<pre>Generating candidate set for working with new users.</pre>"
            ],
            "text/plain": [
              "Generating candidate set for working with new users."
            ]
          },
          "metadata": {
            "tags": []
          }
        },
        {
          "output_type": "display_data",
          "data": {
            "text/html": [
              "<pre>Finished training in 0.312436s</pre>"
            ],
            "text/plain": [
              "Finished training in 0.312436s"
            ]
          },
          "metadata": {
            "tags": []
          }
        }
      ]
    },
    {
      "cell_type": "code",
      "metadata": {
        "colab_type": "code",
        "id": "-mNvV1UL1Lks",
        "outputId": "586a691e-f1e7-433c-86de-881a1dd32c51",
        "colab": {
          "base_uri": "https://localhost:8080/",
          "height": 1000
        }
      },
      "source": [
        "# Train the model\n",
        "Item_Content = tc.recommender.item_content_recommender.create(train_turi, user_id = 'X1', item_id = 'X2')\n",
        "# predictions\n",
        "ICpredictions = Item_Content.predict(test_turi)"
      ],
      "execution_count": 0,
      "outputs": [
        {
          "output_type": "stream",
          "text": [
            "Applying transform:\n",
            "Class             : AutoVectorizer\n",
            "\n",
            "Model Fields\n",
            "------------\n",
            "Features          : ['X1', 'X3', 'X4']\n",
            "Excluded Features : ['X2']\n",
            "\n",
            "Column  Type  Interpretation  Transforms  Output Type\n",
            "------  ----  --------------  ----------  -----------\n",
            "X1      int   numerical       None        int        \n",
            "X3      int   numerical       None        int        \n",
            "X4      int   numerical       None        int        \n",
            "\n",
            "\n",
            "Defaulting to brute force instead of ball tree because there are multiple distance components.\n"
          ],
          "name": "stdout"
        },
        {
          "output_type": "display_data",
          "data": {
            "text/html": [
              "<pre>Starting brute force nearest neighbors model training.</pre>"
            ],
            "text/plain": [
              "Starting brute force nearest neighbors model training."
            ]
          },
          "metadata": {
            "tags": []
          }
        },
        {
          "output_type": "display_data",
          "data": {
            "text/html": [
              "<pre>Validating distance components.</pre>"
            ],
            "text/plain": [
              "Validating distance components."
            ]
          },
          "metadata": {
            "tags": []
          }
        },
        {
          "output_type": "display_data",
          "data": {
            "text/html": [
              "<pre>Initializing model data.</pre>"
            ],
            "text/plain": [
              "Initializing model data."
            ]
          },
          "metadata": {
            "tags": []
          }
        },
        {
          "output_type": "display_data",
          "data": {
            "text/html": [
              "<pre>Initializing distances.</pre>"
            ],
            "text/plain": [
              "Initializing distances."
            ]
          },
          "metadata": {
            "tags": []
          }
        },
        {
          "output_type": "display_data",
          "data": {
            "text/html": [
              "<pre>Done.</pre>"
            ],
            "text/plain": [
              "Done."
            ]
          },
          "metadata": {
            "tags": []
          }
        },
        {
          "output_type": "display_data",
          "data": {
            "text/html": [
              "<pre>Starting pairwise querying.</pre>"
            ],
            "text/plain": [
              "Starting pairwise querying."
            ]
          },
          "metadata": {
            "tags": []
          }
        },
        {
          "output_type": "display_data",
          "data": {
            "text/html": [
              "<pre>+--------------+---------+-------------+--------------+</pre>"
            ],
            "text/plain": [
              "+--------------+---------+-------------+--------------+"
            ]
          },
          "metadata": {
            "tags": []
          }
        },
        {
          "output_type": "display_data",
          "data": {
            "text/html": [
              "<pre>| Query points | # Pairs | % Complete. | Elapsed Time |</pre>"
            ],
            "text/plain": [
              "| Query points | # Pairs | % Complete. | Elapsed Time |"
            ]
          },
          "metadata": {
            "tags": []
          }
        },
        {
          "output_type": "display_data",
          "data": {
            "text/html": [
              "<pre>+--------------+---------+-------------+--------------+</pre>"
            ],
            "text/plain": [
              "+--------------+---------+-------------+--------------+"
            ]
          },
          "metadata": {
            "tags": []
          }
        },
        {
          "output_type": "display_data",
          "data": {
            "text/html": [
              "<pre>| 1            | 80000   | 0.00125     | 42.489ms     |</pre>"
            ],
            "text/plain": [
              "| 1            | 80000   | 0.00125     | 42.489ms     |"
            ]
          },
          "metadata": {
            "tags": []
          }
        },
        {
          "output_type": "display_data",
          "data": {
            "text/html": [
              "<pre>| 192          | 1.5e+07 | 0.24        | 3.05s        |</pre>"
            ],
            "text/plain": [
              "| 192          | 1.5e+07 | 0.24        | 3.05s        |"
            ]
          },
          "metadata": {
            "tags": []
          }
        },
        {
          "output_type": "display_data",
          "data": {
            "text/html": [
              "<pre>| 407          | 3.3e+07 | 0.50875     | 6.05s        |</pre>"
            ],
            "text/plain": [
              "| 407          | 3.3e+07 | 0.50875     | 6.05s        |"
            ]
          },
          "metadata": {
            "tags": []
          }
        },
        {
          "output_type": "display_data",
          "data": {
            "text/html": [
              "<pre>| 637          | 5.1e+07 | 0.79625     | 9.05s        |</pre>"
            ],
            "text/plain": [
              "| 637          | 5.1e+07 | 0.79625     | 9.05s        |"
            ]
          },
          "metadata": {
            "tags": []
          }
        },
        {
          "output_type": "display_data",
          "data": {
            "text/html": [
              "<pre>| 871          | 7e+07   | 1.08875     | 12.04s       |</pre>"
            ],
            "text/plain": [
              "| 871          | 7e+07   | 1.08875     | 12.04s       |"
            ]
          },
          "metadata": {
            "tags": []
          }
        },
        {
          "output_type": "display_data",
          "data": {
            "text/html": [
              "<pre>| 1107         | 8.9e+07 | 1.38375     | 15.05s       |</pre>"
            ],
            "text/plain": [
              "| 1107         | 8.9e+07 | 1.38375     | 15.05s       |"
            ]
          },
          "metadata": {
            "tags": []
          }
        },
        {
          "output_type": "display_data",
          "data": {
            "text/html": [
              "<pre>| 1348         | 1.1e+08 | 1.685       | 18.06s       |</pre>"
            ],
            "text/plain": [
              "| 1348         | 1.1e+08 | 1.685       | 18.06s       |"
            ]
          },
          "metadata": {
            "tags": []
          }
        },
        {
          "output_type": "display_data",
          "data": {
            "text/html": [
              "<pre>| 1590         | 1.3e+08 | 1.9875      | 21.05s       |</pre>"
            ],
            "text/plain": [
              "| 1590         | 1.3e+08 | 1.9875      | 21.05s       |"
            ]
          },
          "metadata": {
            "tags": []
          }
        },
        {
          "output_type": "display_data",
          "data": {
            "text/html": [
              "<pre>| 1839         | 1.5e+08 | 2.29875     | 24.05s       |</pre>"
            ],
            "text/plain": [
              "| 1839         | 1.5e+08 | 2.29875     | 24.05s       |"
            ]
          },
          "metadata": {
            "tags": []
          }
        },
        {
          "output_type": "display_data",
          "data": {
            "text/html": [
              "<pre>| 2079         | 1.7e+08 | 2.59875     | 27.05s       |</pre>"
            ],
            "text/plain": [
              "| 2079         | 1.7e+08 | 2.59875     | 27.05s       |"
            ]
          },
          "metadata": {
            "tags": []
          }
        },
        {
          "output_type": "display_data",
          "data": {
            "text/html": [
              "<pre>| 2321         | 1.9e+08 | 2.90125     | 30.05s       |</pre>"
            ],
            "text/plain": [
              "| 2321         | 1.9e+08 | 2.90125     | 30.05s       |"
            ]
          },
          "metadata": {
            "tags": []
          }
        },
        {
          "output_type": "display_data",
          "data": {
            "text/html": [
              "<pre>| 2568         | 2.1e+08 | 3.21        | 33.05s       |</pre>"
            ],
            "text/plain": [
              "| 2568         | 2.1e+08 | 3.21        | 33.05s       |"
            ]
          },
          "metadata": {
            "tags": []
          }
        },
        {
          "output_type": "display_data",
          "data": {
            "text/html": [
              "<pre>| 2813         | 2.3e+08 | 3.51625     | 36.05s       |</pre>"
            ],
            "text/plain": [
              "| 2813         | 2.3e+08 | 3.51625     | 36.05s       |"
            ]
          },
          "metadata": {
            "tags": []
          }
        },
        {
          "output_type": "display_data",
          "data": {
            "text/html": [
              "<pre>| 3056         | 2.4e+08 | 3.82        | 39.06s       |</pre>"
            ],
            "text/plain": [
              "| 3056         | 2.4e+08 | 3.82        | 39.06s       |"
            ]
          },
          "metadata": {
            "tags": []
          }
        },
        {
          "output_type": "display_data",
          "data": {
            "text/html": [
              "<pre>| 3305         | 2.6e+08 | 4.13125     | 42.05s       |</pre>"
            ],
            "text/plain": [
              "| 3305         | 2.6e+08 | 4.13125     | 42.05s       |"
            ]
          },
          "metadata": {
            "tags": []
          }
        },
        {
          "output_type": "display_data",
          "data": {
            "text/html": [
              "<pre>| 3553         | 2.8e+08 | 4.44125     | 45.05s       |</pre>"
            ],
            "text/plain": [
              "| 3553         | 2.8e+08 | 4.44125     | 45.05s       |"
            ]
          },
          "metadata": {
            "tags": []
          }
        },
        {
          "output_type": "display_data",
          "data": {
            "text/html": [
              "<pre>| 3793         | 3e+08   | 4.74125     | 48.05s       |</pre>"
            ],
            "text/plain": [
              "| 3793         | 3e+08   | 4.74125     | 48.05s       |"
            ]
          },
          "metadata": {
            "tags": []
          }
        },
        {
          "output_type": "display_data",
          "data": {
            "text/html": [
              "<pre>| 4043         | 3.2e+08 | 5.05375     | 51.05s       |</pre>"
            ],
            "text/plain": [
              "| 4043         | 3.2e+08 | 5.05375     | 51.05s       |"
            ]
          },
          "metadata": {
            "tags": []
          }
        },
        {
          "output_type": "display_data",
          "data": {
            "text/html": [
              "<pre>| 4291         | 3.4e+08 | 5.36375     | 54.05s       |</pre>"
            ],
            "text/plain": [
              "| 4291         | 3.4e+08 | 5.36375     | 54.05s       |"
            ]
          },
          "metadata": {
            "tags": []
          }
        },
        {
          "output_type": "display_data",
          "data": {
            "text/html": [
              "<pre>| 4534         | 3.6e+08 | 5.6675      | 57.05s       |</pre>"
            ],
            "text/plain": [
              "| 4534         | 3.6e+08 | 5.6675      | 57.05s       |"
            ]
          },
          "metadata": {
            "tags": []
          }
        },
        {
          "output_type": "display_data",
          "data": {
            "text/html": [
              "<pre>| 4781         | 3.8e+08 | 5.97625     | 1m 0s        |</pre>"
            ],
            "text/plain": [
              "| 4781         | 3.8e+08 | 5.97625     | 1m 0s        |"
            ]
          },
          "metadata": {
            "tags": []
          }
        },
        {
          "output_type": "display_data",
          "data": {
            "text/html": [
              "<pre>| 5027         | 4e+08   | 6.28375     | 1m 3s        |</pre>"
            ],
            "text/plain": [
              "| 5027         | 4e+08   | 6.28375     | 1m 3s        |"
            ]
          },
          "metadata": {
            "tags": []
          }
        },
        {
          "output_type": "display_data",
          "data": {
            "text/html": [
              "<pre>| 5266         | 4.2e+08 | 6.5825      | 1m 6s        |</pre>"
            ],
            "text/plain": [
              "| 5266         | 4.2e+08 | 6.5825      | 1m 6s        |"
            ]
          },
          "metadata": {
            "tags": []
          }
        },
        {
          "output_type": "display_data",
          "data": {
            "text/html": [
              "<pre>| 5511         | 4.4e+08 | 6.88875     | 1m 9s        |</pre>"
            ],
            "text/plain": [
              "| 5511         | 4.4e+08 | 6.88875     | 1m 9s        |"
            ]
          },
          "metadata": {
            "tags": []
          }
        },
        {
          "output_type": "display_data",
          "data": {
            "text/html": [
              "<pre>| 5757         | 4.6e+08 | 7.19625     | 1m 12s       |</pre>"
            ],
            "text/plain": [
              "| 5757         | 4.6e+08 | 7.19625     | 1m 12s       |"
            ]
          },
          "metadata": {
            "tags": []
          }
        },
        {
          "output_type": "display_data",
          "data": {
            "text/html": [
              "<pre>| 5997         | 4.8e+08 | 7.49625     | 1m 15s       |</pre>"
            ],
            "text/plain": [
              "| 5997         | 4.8e+08 | 7.49625     | 1m 15s       |"
            ]
          },
          "metadata": {
            "tags": []
          }
        },
        {
          "output_type": "display_data",
          "data": {
            "text/html": [
              "<pre>| 6246         | 5e+08   | 7.8075      | 1m 18s       |</pre>"
            ],
            "text/plain": [
              "| 6246         | 5e+08   | 7.8075      | 1m 18s       |"
            ]
          },
          "metadata": {
            "tags": []
          }
        },
        {
          "output_type": "display_data",
          "data": {
            "text/html": [
              "<pre>| 6494         | 5.2e+08 | 8.1175      | 1m 21s       |</pre>"
            ],
            "text/plain": [
              "| 6494         | 5.2e+08 | 8.1175      | 1m 21s       |"
            ]
          },
          "metadata": {
            "tags": []
          }
        },
        {
          "output_type": "display_data",
          "data": {
            "text/html": [
              "<pre>| 6739         | 5.4e+08 | 8.42375     | 1m 24s       |</pre>"
            ],
            "text/plain": [
              "| 6739         | 5.4e+08 | 8.42375     | 1m 24s       |"
            ]
          },
          "metadata": {
            "tags": []
          }
        },
        {
          "output_type": "display_data",
          "data": {
            "text/html": [
              "<pre>| 6986         | 5.6e+08 | 8.7325      | 1m 27s       |</pre>"
            ],
            "text/plain": [
              "| 6986         | 5.6e+08 | 8.7325      | 1m 27s       |"
            ]
          },
          "metadata": {
            "tags": []
          }
        },
        {
          "output_type": "display_data",
          "data": {
            "text/html": [
              "<pre>| 7229         | 5.8e+08 | 9.03625     | 1m 30s       |</pre>"
            ],
            "text/plain": [
              "| 7229         | 5.8e+08 | 9.03625     | 1m 30s       |"
            ]
          },
          "metadata": {
            "tags": []
          }
        },
        {
          "output_type": "display_data",
          "data": {
            "text/html": [
              "<pre>| 7476         | 6e+08   | 9.345       | 1m 33s       |</pre>"
            ],
            "text/plain": [
              "| 7476         | 6e+08   | 9.345       | 1m 33s       |"
            ]
          },
          "metadata": {
            "tags": []
          }
        },
        {
          "output_type": "display_data",
          "data": {
            "text/html": [
              "<pre>| 7679         | 6.1e+08 | 9.59875     | 1m 36s       |</pre>"
            ],
            "text/plain": [
              "| 7679         | 6.1e+08 | 9.59875     | 1m 36s       |"
            ]
          },
          "metadata": {
            "tags": []
          }
        },
        {
          "output_type": "display_data",
          "data": {
            "text/html": [
              "<pre>| 7807         | 6.2e+08 | 9.75875     | 1m 39s       |</pre>"
            ],
            "text/plain": [
              "| 7807         | 6.2e+08 | 9.75875     | 1m 39s       |"
            ]
          },
          "metadata": {
            "tags": []
          }
        },
        {
          "output_type": "display_data",
          "data": {
            "text/html": [
              "<pre>| 8055         | 6.4e+08 | 10.0687     | 1m 42s       |</pre>"
            ],
            "text/plain": [
              "| 8055         | 6.4e+08 | 10.0687     | 1m 42s       |"
            ]
          },
          "metadata": {
            "tags": []
          }
        },
        {
          "output_type": "display_data",
          "data": {
            "text/html": [
              "<pre>| 8302         | 6.6e+08 | 10.3775     | 1m 45s       |</pre>"
            ],
            "text/plain": [
              "| 8302         | 6.6e+08 | 10.3775     | 1m 45s       |"
            ]
          },
          "metadata": {
            "tags": []
          }
        },
        {
          "output_type": "display_data",
          "data": {
            "text/html": [
              "<pre>| 8547         | 6.8e+08 | 10.6837     | 1m 48s       |</pre>"
            ],
            "text/plain": [
              "| 8547         | 6.8e+08 | 10.6837     | 1m 48s       |"
            ]
          },
          "metadata": {
            "tags": []
          }
        },
        {
          "output_type": "display_data",
          "data": {
            "text/html": [
              "<pre>| 8795         | 7e+08   | 10.9938     | 1m 51s       |</pre>"
            ],
            "text/plain": [
              "| 8795         | 7e+08   | 10.9938     | 1m 51s       |"
            ]
          },
          "metadata": {
            "tags": []
          }
        },
        {
          "output_type": "display_data",
          "data": {
            "text/html": [
              "<pre>| 9042         | 7.2e+08 | 11.3025     | 1m 54s       |</pre>"
            ],
            "text/plain": [
              "| 9042         | 7.2e+08 | 11.3025     | 1m 54s       |"
            ]
          },
          "metadata": {
            "tags": []
          }
        },
        {
          "output_type": "display_data",
          "data": {
            "text/html": [
              "<pre>| 9290         | 7.4e+08 | 11.6125     | 1m 57s       |</pre>"
            ],
            "text/plain": [
              "| 9290         | 7.4e+08 | 11.6125     | 1m 57s       |"
            ]
          },
          "metadata": {
            "tags": []
          }
        },
        {
          "output_type": "display_data",
          "data": {
            "text/html": [
              "<pre>| 9536         | 7.6e+08 | 11.92       | 2m 0s        |</pre>"
            ],
            "text/plain": [
              "| 9536         | 7.6e+08 | 11.92       | 2m 0s        |"
            ]
          },
          "metadata": {
            "tags": []
          }
        },
        {
          "output_type": "display_data",
          "data": {
            "text/html": [
              "<pre>| 9782         | 7.8e+08 | 12.2275     | 2m 3s        |</pre>"
            ],
            "text/plain": [
              "| 9782         | 7.8e+08 | 12.2275     | 2m 3s        |"
            ]
          },
          "metadata": {
            "tags": []
          }
        },
        {
          "output_type": "display_data",
          "data": {
            "text/html": [
              "<pre>| 10027        | 8e+08   | 12.5337     | 2m 6s        |</pre>"
            ],
            "text/plain": [
              "| 10027        | 8e+08   | 12.5337     | 2m 6s        |"
            ]
          },
          "metadata": {
            "tags": []
          }
        },
        {
          "output_type": "display_data",
          "data": {
            "text/html": [
              "<pre>| 10275        | 8.2e+08 | 12.8438     | 2m 9s        |</pre>"
            ],
            "text/plain": [
              "| 10275        | 8.2e+08 | 12.8438     | 2m 9s        |"
            ]
          },
          "metadata": {
            "tags": []
          }
        },
        {
          "output_type": "display_data",
          "data": {
            "text/html": [
              "<pre>| 10528        | 8.4e+08 | 13.16       | 2m 12s       |</pre>"
            ],
            "text/plain": [
              "| 10528        | 8.4e+08 | 13.16       | 2m 12s       |"
            ]
          },
          "metadata": {
            "tags": []
          }
        },
        {
          "output_type": "display_data",
          "data": {
            "text/html": [
              "<pre>| 10776        | 8.6e+08 | 13.47       | 2m 15s       |</pre>"
            ],
            "text/plain": [
              "| 10776        | 8.6e+08 | 13.47       | 2m 15s       |"
            ]
          },
          "metadata": {
            "tags": []
          }
        },
        {
          "output_type": "display_data",
          "data": {
            "text/html": [
              "<pre>| 11028        | 8.8e+08 | 13.785      | 2m 18s       |</pre>"
            ],
            "text/plain": [
              "| 11028        | 8.8e+08 | 13.785      | 2m 18s       |"
            ]
          },
          "metadata": {
            "tags": []
          }
        },
        {
          "output_type": "display_data",
          "data": {
            "text/html": [
              "<pre>| 11276        | 9e+08   | 14.095      | 2m 21s       |</pre>"
            ],
            "text/plain": [
              "| 11276        | 9e+08   | 14.095      | 2m 21s       |"
            ]
          },
          "metadata": {
            "tags": []
          }
        },
        {
          "output_type": "display_data",
          "data": {
            "text/html": [
              "<pre>| 11527        | 9.2e+08 | 14.4087     | 2m 24s       |</pre>"
            ],
            "text/plain": [
              "| 11527        | 9.2e+08 | 14.4087     | 2m 24s       |"
            ]
          },
          "metadata": {
            "tags": []
          }
        },
        {
          "output_type": "display_data",
          "data": {
            "text/html": [
              "<pre>| 11779        | 9.4e+08 | 14.7238     | 2m 27s       |</pre>"
            ],
            "text/plain": [
              "| 11779        | 9.4e+08 | 14.7238     | 2m 27s       |"
            ]
          },
          "metadata": {
            "tags": []
          }
        },
        {
          "output_type": "display_data",
          "data": {
            "text/html": [
              "<pre>| 12030        | 9.6e+08 | 15.0375     | 2m 30s       |</pre>"
            ],
            "text/plain": [
              "| 12030        | 9.6e+08 | 15.0375     | 2m 30s       |"
            ]
          },
          "metadata": {
            "tags": []
          }
        },
        {
          "output_type": "display_data",
          "data": {
            "text/html": [
              "<pre>| 12275        | 9.8e+08 | 15.3438     | 2m 33s       |</pre>"
            ],
            "text/plain": [
              "| 12275        | 9.8e+08 | 15.3438     | 2m 33s       |"
            ]
          },
          "metadata": {
            "tags": []
          }
        },
        {
          "output_type": "display_data",
          "data": {
            "text/html": [
              "<pre>| 12524        | 1e+09   | 15.655      | 2m 36s       |</pre>"
            ],
            "text/plain": [
              "| 12524        | 1e+09   | 15.655      | 2m 36s       |"
            ]
          },
          "metadata": {
            "tags": []
          }
        },
        {
          "output_type": "display_data",
          "data": {
            "text/html": [
              "<pre>| 12775        | 1e+09   | 15.9688     | 2m 39s       |</pre>"
            ],
            "text/plain": [
              "| 12775        | 1e+09   | 15.9688     | 2m 39s       |"
            ]
          },
          "metadata": {
            "tags": []
          }
        },
        {
          "output_type": "display_data",
          "data": {
            "text/html": [
              "<pre>| 13024        | 1e+09   | 16.28       | 2m 42s       |</pre>"
            ],
            "text/plain": [
              "| 13024        | 1e+09   | 16.28       | 2m 42s       |"
            ]
          },
          "metadata": {
            "tags": []
          }
        },
        {
          "output_type": "display_data",
          "data": {
            "text/html": [
              "<pre>| 13265        | 1.1e+09 | 16.5813     | 2m 45s       |</pre>"
            ],
            "text/plain": [
              "| 13265        | 1.1e+09 | 16.5813     | 2m 45s       |"
            ]
          },
          "metadata": {
            "tags": []
          }
        },
        {
          "output_type": "display_data",
          "data": {
            "text/html": [
              "<pre>| 13508        | 1.1e+09 | 16.885      | 2m 48s       |</pre>"
            ],
            "text/plain": [
              "| 13508        | 1.1e+09 | 16.885      | 2m 48s       |"
            ]
          },
          "metadata": {
            "tags": []
          }
        },
        {
          "output_type": "display_data",
          "data": {
            "text/html": [
              "<pre>| 13756        |         | 17.195      | 2m 51s       |</pre>"
            ],
            "text/plain": [
              "| 13756        |         | 17.195      | 2m 51s       |"
            ]
          },
          "metadata": {
            "tags": []
          }
        },
        {
          "output_type": "display_data",
          "data": {
            "text/html": [
              "<pre>| 13997        | 1.1e+09 | 17.4962     | 2m 54s       |</pre>"
            ],
            "text/plain": [
              "| 13997        | 1.1e+09 | 17.4962     | 2m 54s       |"
            ]
          },
          "metadata": {
            "tags": []
          }
        },
        {
          "output_type": "display_data",
          "data": {
            "text/html": [
              "<pre>| 14250        | 1.1e+09 | 17.8125     | 2m 57s       |</pre>"
            ],
            "text/plain": [
              "| 14250        | 1.1e+09 | 17.8125     | 2m 57s       |"
            ]
          },
          "metadata": {
            "tags": []
          }
        },
        {
          "output_type": "display_data",
          "data": {
            "text/html": [
              "<pre>| 14501        | 1.2e+09 | 18.1262     | 3m 0s        |</pre>"
            ],
            "text/plain": [
              "| 14501        | 1.2e+09 | 18.1262     | 3m 0s        |"
            ]
          },
          "metadata": {
            "tags": []
          }
        },
        {
          "output_type": "display_data",
          "data": {
            "text/html": [
              "<pre>| 14750        | 1.2e+09 | 18.4375     | 3m 3s        |</pre>"
            ],
            "text/plain": [
              "| 14750        | 1.2e+09 | 18.4375     | 3m 3s        |"
            ]
          },
          "metadata": {
            "tags": []
          }
        },
        {
          "output_type": "display_data",
          "data": {
            "text/html": [
              "<pre>| 14998        |         | 18.7475     | 3m 6s        |</pre>"
            ],
            "text/plain": [
              "| 14998        |         | 18.7475     | 3m 6s        |"
            ]
          },
          "metadata": {
            "tags": []
          }
        },
        {
          "output_type": "display_data",
          "data": {
            "text/html": [
              "<pre>| 15244        | 1.2e+09 | 19.055      | 3m 9s        |</pre>"
            ],
            "text/plain": [
              "| 15244        | 1.2e+09 | 19.055      | 3m 9s        |"
            ]
          },
          "metadata": {
            "tags": []
          }
        },
        {
          "output_type": "display_data",
          "data": {
            "text/html": [
              "<pre>| 15493        | 1.2e+09 | 19.3663     | 3m 12s       |</pre>"
            ],
            "text/plain": [
              "| 15493        | 1.2e+09 | 19.3663     | 3m 12s       |"
            ]
          },
          "metadata": {
            "tags": []
          }
        },
        {
          "output_type": "display_data",
          "data": {
            "text/html": [
              "<pre>| 15740        | 1.3e+09 | 19.675      | 3m 15s       |</pre>"
            ],
            "text/plain": [
              "| 15740        | 1.3e+09 | 19.675      | 3m 15s       |"
            ]
          },
          "metadata": {
            "tags": []
          }
        },
        {
          "output_type": "display_data",
          "data": {
            "text/html": [
              "<pre>| 15991        | 1.3e+09 | 19.9887     | 3m 18s       |</pre>"
            ],
            "text/plain": [
              "| 15991        | 1.3e+09 | 19.9887     | 3m 18s       |"
            ]
          },
          "metadata": {
            "tags": []
          }
        },
        {
          "output_type": "display_data",
          "data": {
            "text/html": [
              "<pre>| 16245        |         | 20.3062     | 3m 21s       |</pre>"
            ],
            "text/plain": [
              "| 16245        |         | 20.3062     | 3m 21s       |"
            ]
          },
          "metadata": {
            "tags": []
          }
        },
        {
          "output_type": "display_data",
          "data": {
            "text/html": [
              "<pre>| 16492        | 1.3e+09 | 20.615      | 3m 24s       |</pre>"
            ],
            "text/plain": [
              "| 16492        | 1.3e+09 | 20.615      | 3m 24s       |"
            ]
          },
          "metadata": {
            "tags": []
          }
        },
        {
          "output_type": "display_data",
          "data": {
            "text/html": [
              "<pre>| 16742        | 1.3e+09 | 20.9275     | 3m 27s       |</pre>"
            ],
            "text/plain": [
              "| 16742        | 1.3e+09 | 20.9275     | 3m 27s       |"
            ]
          },
          "metadata": {
            "tags": []
          }
        },
        {
          "output_type": "display_data",
          "data": {
            "text/html": [
              "<pre>| 16995        | 1.4e+09 | 21.2437     | 3m 30s       |</pre>"
            ],
            "text/plain": [
              "| 16995        | 1.4e+09 | 21.2437     | 3m 30s       |"
            ]
          },
          "metadata": {
            "tags": []
          }
        },
        {
          "output_type": "display_data",
          "data": {
            "text/html": [
              "<pre>| 17244        | 1.4e+09 | 21.555      | 3m 33s       |</pre>"
            ],
            "text/plain": [
              "| 17244        | 1.4e+09 | 21.555      | 3m 33s       |"
            ]
          },
          "metadata": {
            "tags": []
          }
        },
        {
          "output_type": "display_data",
          "data": {
            "text/html": [
              "<pre>| 17493        | 1.4e+09 | 21.8663     | 3m 36s       |</pre>"
            ],
            "text/plain": [
              "| 17493        | 1.4e+09 | 21.8663     | 3m 36s       |"
            ]
          },
          "metadata": {
            "tags": []
          }
        },
        {
          "output_type": "display_data",
          "data": {
            "text/html": [
              "<pre>| 17745        | 1.4e+09 | 22.1812     | 3m 39s       |</pre>"
            ],
            "text/plain": [
              "| 17745        | 1.4e+09 | 22.1812     | 3m 39s       |"
            ]
          },
          "metadata": {
            "tags": []
          }
        },
        {
          "output_type": "display_data",
          "data": {
            "text/html": [
              "<pre>| 17994        | 1.4e+09 | 22.4925     | 3m 42s       |</pre>"
            ],
            "text/plain": [
              "| 17994        | 1.4e+09 | 22.4925     | 3m 42s       |"
            ]
          },
          "metadata": {
            "tags": []
          }
        },
        {
          "output_type": "display_data",
          "data": {
            "text/html": [
              "<pre>| 18239        | 1.5e+09 | 22.7987     | 3m 45s       |</pre>"
            ],
            "text/plain": [
              "| 18239        | 1.5e+09 | 22.7987     | 3m 45s       |"
            ]
          },
          "metadata": {
            "tags": []
          }
        },
        {
          "output_type": "display_data",
          "data": {
            "text/html": [
              "<pre>| 18487        | 1.5e+09 | 23.1088     | 3m 48s       |</pre>"
            ],
            "text/plain": [
              "| 18487        | 1.5e+09 | 23.1088     | 3m 48s       |"
            ]
          },
          "metadata": {
            "tags": []
          }
        },
        {
          "output_type": "display_data",
          "data": {
            "text/html": [
              "<pre>| 18734        | 1.5e+09 | 23.4175     | 3m 51s       |</pre>"
            ],
            "text/plain": [
              "| 18734        | 1.5e+09 | 23.4175     | 3m 51s       |"
            ]
          },
          "metadata": {
            "tags": []
          }
        },
        {
          "output_type": "display_data",
          "data": {
            "text/html": [
              "<pre>| 18980        | 1.5e+09 | 23.725      | 3m 54s       |</pre>"
            ],
            "text/plain": [
              "| 18980        | 1.5e+09 | 23.725      | 3m 54s       |"
            ]
          },
          "metadata": {
            "tags": []
          }
        },
        {
          "output_type": "display_data",
          "data": {
            "text/html": [
              "<pre>| 19233        | 1.5e+09 | 24.0413     | 3m 57s       |</pre>"
            ],
            "text/plain": [
              "| 19233        | 1.5e+09 | 24.0413     | 3m 57s       |"
            ]
          },
          "metadata": {
            "tags": []
          }
        },
        {
          "output_type": "display_data",
          "data": {
            "text/html": [
              "<pre>| 19488        | 1.6e+09 | 24.36       | 4m 0s        |</pre>"
            ],
            "text/plain": [
              "| 19488        | 1.6e+09 | 24.36       | 4m 0s        |"
            ]
          },
          "metadata": {
            "tags": []
          }
        },
        {
          "output_type": "display_data",
          "data": {
            "text/html": [
              "<pre>| 19740        | 1.6e+09 | 24.675      | 4m 3s        |</pre>"
            ],
            "text/plain": [
              "| 19740        | 1.6e+09 | 24.675      | 4m 3s        |"
            ]
          },
          "metadata": {
            "tags": []
          }
        },
        {
          "output_type": "display_data",
          "data": {
            "text/html": [
              "<pre>| 19995        |         | 24.9937     | 4m 6s        |</pre>"
            ],
            "text/plain": [
              "| 19995        |         | 24.9937     | 4m 6s        |"
            ]
          },
          "metadata": {
            "tags": []
          }
        },
        {
          "output_type": "display_data",
          "data": {
            "text/html": [
              "<pre>| 20250        | 1.6e+09 | 25.3125     | 4m 9s        |</pre>"
            ],
            "text/plain": [
              "| 20250        | 1.6e+09 | 25.3125     | 4m 9s        |"
            ]
          },
          "metadata": {
            "tags": []
          }
        },
        {
          "output_type": "display_data",
          "data": {
            "text/html": [
              "<pre>| 20499        | 1.6e+09 | 25.6238     | 4m 12s       |</pre>"
            ],
            "text/plain": [
              "| 20499        | 1.6e+09 | 25.6238     | 4m 12s       |"
            ]
          },
          "metadata": {
            "tags": []
          }
        },
        {
          "output_type": "display_data",
          "data": {
            "text/html": [
              "<pre>| 20749        | 1.7e+09 | 25.9363     | 4m 15s       |</pre>"
            ],
            "text/plain": [
              "| 20749        | 1.7e+09 | 25.9363     | 4m 15s       |"
            ]
          },
          "metadata": {
            "tags": []
          }
        },
        {
          "output_type": "display_data",
          "data": {
            "text/html": [
              "<pre>| 20997        | 1.7e+09 | 26.2462     | 4m 18s       |</pre>"
            ],
            "text/plain": [
              "| 20997        | 1.7e+09 | 26.2462     | 4m 18s       |"
            ]
          },
          "metadata": {
            "tags": []
          }
        },
        {
          "output_type": "display_data",
          "data": {
            "text/html": [
              "<pre>| 21245        |         | 26.5562     | 4m 21s       |</pre>"
            ],
            "text/plain": [
              "| 21245        |         | 26.5562     | 4m 21s       |"
            ]
          },
          "metadata": {
            "tags": []
          }
        },
        {
          "output_type": "display_data",
          "data": {
            "text/html": [
              "<pre>| 21489        | 1.7e+09 | 26.8612     | 4m 24s       |</pre>"
            ],
            "text/plain": [
              "| 21489        | 1.7e+09 | 26.8612     | 4m 24s       |"
            ]
          },
          "metadata": {
            "tags": []
          }
        },
        {
          "output_type": "display_data",
          "data": {
            "text/html": [
              "<pre>| 21739        | 1.7e+09 | 27.1737     | 4m 27s       |</pre>"
            ],
            "text/plain": [
              "| 21739        | 1.7e+09 | 27.1737     | 4m 27s       |"
            ]
          },
          "metadata": {
            "tags": []
          }
        },
        {
          "output_type": "display_data",
          "data": {
            "text/html": [
              "<pre>| 21992        | 1.8e+09 | 27.49       | 4m 30s       |</pre>"
            ],
            "text/plain": [
              "| 21992        | 1.8e+09 | 27.49       | 4m 30s       |"
            ]
          },
          "metadata": {
            "tags": []
          }
        },
        {
          "output_type": "display_data",
          "data": {
            "text/html": [
              "<pre>| 22243        | 1.8e+09 | 27.8038     | 4m 33s       |</pre>"
            ],
            "text/plain": [
              "| 22243        | 1.8e+09 | 27.8038     | 4m 33s       |"
            ]
          },
          "metadata": {
            "tags": []
          }
        },
        {
          "output_type": "display_data",
          "data": {
            "text/html": [
              "<pre>| 22490        | 1.8e+09 | 28.1125     | 4m 36s       |</pre>"
            ],
            "text/plain": [
              "| 22490        | 1.8e+09 | 28.1125     | 4m 36s       |"
            ]
          },
          "metadata": {
            "tags": []
          }
        },
        {
          "output_type": "display_data",
          "data": {
            "text/html": [
              "<pre>| 22739        | 1.8e+09 | 28.4237     | 4m 39s       |</pre>"
            ],
            "text/plain": [
              "| 22739        | 1.8e+09 | 28.4237     | 4m 39s       |"
            ]
          },
          "metadata": {
            "tags": []
          }
        },
        {
          "output_type": "display_data",
          "data": {
            "text/html": [
              "<pre>| 22992        | 1.8e+09 | 28.74       | 4m 42s       |</pre>"
            ],
            "text/plain": [
              "| 22992        | 1.8e+09 | 28.74       | 4m 42s       |"
            ]
          },
          "metadata": {
            "tags": []
          }
        },
        {
          "output_type": "display_data",
          "data": {
            "text/html": [
              "<pre>| 23247        | 1.9e+09 | 29.0587     | 4m 45s       |</pre>"
            ],
            "text/plain": [
              "| 23247        | 1.9e+09 | 29.0587     | 4m 45s       |"
            ]
          },
          "metadata": {
            "tags": []
          }
        },
        {
          "output_type": "display_data",
          "data": {
            "text/html": [
              "<pre>| 23499        | 1.9e+09 | 29.3738     | 4m 48s       |</pre>"
            ],
            "text/plain": [
              "| 23499        | 1.9e+09 | 29.3738     | 4m 48s       |"
            ]
          },
          "metadata": {
            "tags": []
          }
        },
        {
          "output_type": "display_data",
          "data": {
            "text/html": [
              "<pre>| 23753        |         | 29.6913     | 4m 51s       |</pre>"
            ],
            "text/plain": [
              "| 23753        |         | 29.6913     | 4m 51s       |"
            ]
          },
          "metadata": {
            "tags": []
          }
        },
        {
          "output_type": "display_data",
          "data": {
            "text/html": [
              "<pre>| 24006        | 1.9e+09 | 30.0075     | 4m 54s       |</pre>"
            ],
            "text/plain": [
              "| 24006        | 1.9e+09 | 30.0075     | 4m 54s       |"
            ]
          },
          "metadata": {
            "tags": []
          }
        },
        {
          "output_type": "display_data",
          "data": {
            "text/html": [
              "<pre>| 24254        | 1.9e+09 | 30.3175     | 4m 57s       |</pre>"
            ],
            "text/plain": [
              "| 24254        | 1.9e+09 | 30.3175     | 4m 57s       |"
            ]
          },
          "metadata": {
            "tags": []
          }
        },
        {
          "output_type": "display_data",
          "data": {
            "text/html": [
              "<pre>| 24503        | 2e+09   | 30.6288     | 5m 0s        |</pre>"
            ],
            "text/plain": [
              "| 24503        | 2e+09   | 30.6288     | 5m 0s        |"
            ]
          },
          "metadata": {
            "tags": []
          }
        },
        {
          "output_type": "display_data",
          "data": {
            "text/html": [
              "<pre>| 24755        | 2e+09   | 30.9438     | 5m 3s        |</pre>"
            ],
            "text/plain": [
              "| 24755        | 2e+09   | 30.9438     | 5m 3s        |"
            ]
          },
          "metadata": {
            "tags": []
          }
        },
        {
          "output_type": "display_data",
          "data": {
            "text/html": [
              "<pre>| 25009        | 2e+09   | 31.2613     | 5m 6s        |</pre>"
            ],
            "text/plain": [
              "| 25009        | 2e+09   | 31.2613     | 5m 6s        |"
            ]
          },
          "metadata": {
            "tags": []
          }
        },
        {
          "output_type": "display_data",
          "data": {
            "text/html": [
              "<pre>| 25261        | 2e+09   | 31.5763     | 5m 9s        |</pre>"
            ],
            "text/plain": [
              "| 25261        | 2e+09   | 31.5763     | 5m 9s        |"
            ]
          },
          "metadata": {
            "tags": []
          }
        },
        {
          "output_type": "display_data",
          "data": {
            "text/html": [
              "<pre>| 25516        | 2e+09   | 31.895      | 5m 12s       |</pre>"
            ],
            "text/plain": [
              "| 25516        | 2e+09   | 31.895      | 5m 12s       |"
            ]
          },
          "metadata": {
            "tags": []
          }
        },
        {
          "output_type": "display_data",
          "data": {
            "text/html": [
              "<pre>| 25768        | 2.1e+09 | 32.21       | 5m 15s       |</pre>"
            ],
            "text/plain": [
              "| 25768        | 2.1e+09 | 32.21       | 5m 15s       |"
            ]
          },
          "metadata": {
            "tags": []
          }
        },
        {
          "output_type": "display_data",
          "data": {
            "text/html": [
              "<pre>| 26016        | 2.1e+09 | 32.52       | 5m 18s       |</pre>"
            ],
            "text/plain": [
              "| 26016        | 2.1e+09 | 32.52       | 5m 18s       |"
            ]
          },
          "metadata": {
            "tags": []
          }
        },
        {
          "output_type": "display_data",
          "data": {
            "text/html": [
              "<pre>| 26270        | 2.1e+09 | 32.8375     | 5m 21s       |</pre>"
            ],
            "text/plain": [
              "| 26270        | 2.1e+09 | 32.8375     | 5m 21s       |"
            ]
          },
          "metadata": {
            "tags": []
          }
        },
        {
          "output_type": "display_data",
          "data": {
            "text/html": [
              "<pre>| 26521        | 2.1e+09 | 33.1512     | 5m 24s       |</pre>"
            ],
            "text/plain": [
              "| 26521        | 2.1e+09 | 33.1512     | 5m 24s       |"
            ]
          },
          "metadata": {
            "tags": []
          }
        },
        {
          "output_type": "display_data",
          "data": {
            "text/html": [
              "<pre>| 26768        | 2.1e+09 | 33.46       | 5m 27s       |</pre>"
            ],
            "text/plain": [
              "| 26768        | 2.1e+09 | 33.46       | 5m 27s       |"
            ]
          },
          "metadata": {
            "tags": []
          }
        },
        {
          "output_type": "display_data",
          "data": {
            "text/html": [
              "<pre>| 27018        | 2.2e+09 | 33.7725     | 5m 30s       |</pre>"
            ],
            "text/plain": [
              "| 27018        | 2.2e+09 | 33.7725     | 5m 30s       |"
            ]
          },
          "metadata": {
            "tags": []
          }
        },
        {
          "output_type": "display_data",
          "data": {
            "text/html": [
              "<pre>| 27269        | 2.2e+09 | 34.0862     | 5m 33s       |</pre>"
            ],
            "text/plain": [
              "| 27269        | 2.2e+09 | 34.0862     | 5m 33s       |"
            ]
          },
          "metadata": {
            "tags": []
          }
        },
        {
          "output_type": "display_data",
          "data": {
            "text/html": [
              "<pre>| 27519        | 2.2e+09 | 34.3987     | 5m 36s       |</pre>"
            ],
            "text/plain": [
              "| 27519        | 2.2e+09 | 34.3987     | 5m 36s       |"
            ]
          },
          "metadata": {
            "tags": []
          }
        },
        {
          "output_type": "display_data",
          "data": {
            "text/html": [
              "<pre>| 27772        | 2.2e+09 | 34.715      | 5m 39s       |</pre>"
            ],
            "text/plain": [
              "| 27772        | 2.2e+09 | 34.715      | 5m 39s       |"
            ]
          },
          "metadata": {
            "tags": []
          }
        },
        {
          "output_type": "display_data",
          "data": {
            "text/html": [
              "<pre>| 28019        | 2.2e+09 | 35.0237     | 5m 42s       |</pre>"
            ],
            "text/plain": [
              "| 28019        | 2.2e+09 | 35.0237     | 5m 42s       |"
            ]
          },
          "metadata": {
            "tags": []
          }
        },
        {
          "output_type": "display_data",
          "data": {
            "text/html": [
              "<pre>| 28273        | 2.3e+09 | 35.3413     | 5m 45s       |</pre>"
            ],
            "text/plain": [
              "| 28273        | 2.3e+09 | 35.3413     | 5m 45s       |"
            ]
          },
          "metadata": {
            "tags": []
          }
        },
        {
          "output_type": "display_data",
          "data": {
            "text/html": [
              "<pre>| 28522        | 2.3e+09 | 35.6525     | 5m 48s       |</pre>"
            ],
            "text/plain": [
              "| 28522        | 2.3e+09 | 35.6525     | 5m 48s       |"
            ]
          },
          "metadata": {
            "tags": []
          }
        },
        {
          "output_type": "display_data",
          "data": {
            "text/html": [
              "<pre>| 28771        | 2.3e+09 | 35.9637     | 5m 51s       |</pre>"
            ],
            "text/plain": [
              "| 28771        | 2.3e+09 | 35.9637     | 5m 51s       |"
            ]
          },
          "metadata": {
            "tags": []
          }
        },
        {
          "output_type": "display_data",
          "data": {
            "text/html": [
              "<pre>| 29022        | 2.3e+09 | 36.2775     | 5m 54s       |</pre>"
            ],
            "text/plain": [
              "| 29022        | 2.3e+09 | 36.2775     | 5m 54s       |"
            ]
          },
          "metadata": {
            "tags": []
          }
        },
        {
          "output_type": "display_data",
          "data": {
            "text/html": [
              "<pre>| 29276        | 2.3e+09 | 36.595      | 5m 57s       |</pre>"
            ],
            "text/plain": [
              "| 29276        | 2.3e+09 | 36.595      | 5m 57s       |"
            ]
          },
          "metadata": {
            "tags": []
          }
        },
        {
          "output_type": "display_data",
          "data": {
            "text/html": [
              "<pre>| 29528        | 2.4e+09 | 36.91       | 6m 0s        |</pre>"
            ],
            "text/plain": [
              "| 29528        | 2.4e+09 | 36.91       | 6m 0s        |"
            ]
          },
          "metadata": {
            "tags": []
          }
        },
        {
          "output_type": "display_data",
          "data": {
            "text/html": [
              "<pre>| 29782        | 2.4e+09 | 37.2275     | 6m 3s        |</pre>"
            ],
            "text/plain": [
              "| 29782        | 2.4e+09 | 37.2275     | 6m 3s        |"
            ]
          },
          "metadata": {
            "tags": []
          }
        },
        {
          "output_type": "display_data",
          "data": {
            "text/html": [
              "<pre>| 30040        | 2.4e+09 | 37.55       | 6m 6s        |</pre>"
            ],
            "text/plain": [
              "| 30040        | 2.4e+09 | 37.55       | 6m 6s        |"
            ]
          },
          "metadata": {
            "tags": []
          }
        },
        {
          "output_type": "display_data",
          "data": {
            "text/html": [
              "<pre>| 30288        | 2.4e+09 | 37.86       | 6m 9s        |</pre>"
            ],
            "text/plain": [
              "| 30288        | 2.4e+09 | 37.86       | 6m 9s        |"
            ]
          },
          "metadata": {
            "tags": []
          }
        },
        {
          "output_type": "display_data",
          "data": {
            "text/html": [
              "<pre>| 30541        | 2.4e+09 | 38.1763     | 6m 12s       |</pre>"
            ],
            "text/plain": [
              "| 30541        | 2.4e+09 | 38.1763     | 6m 12s       |"
            ]
          },
          "metadata": {
            "tags": []
          }
        },
        {
          "output_type": "display_data",
          "data": {
            "text/html": [
              "<pre>| 30797        | 2.5e+09 | 38.4963     | 6m 15s       |</pre>"
            ],
            "text/plain": [
              "| 30797        | 2.5e+09 | 38.4963     | 6m 15s       |"
            ]
          },
          "metadata": {
            "tags": []
          }
        },
        {
          "output_type": "display_data",
          "data": {
            "text/html": [
              "<pre>| 31044        | 2.5e+09 | 38.805      | 6m 18s       |</pre>"
            ],
            "text/plain": [
              "| 31044        | 2.5e+09 | 38.805      | 6m 18s       |"
            ]
          },
          "metadata": {
            "tags": []
          }
        },
        {
          "output_type": "display_data",
          "data": {
            "text/html": [
              "<pre>| 31301        | 2.5e+09 | 39.1262     | 6m 21s       |</pre>"
            ],
            "text/plain": [
              "| 31301        | 2.5e+09 | 39.1262     | 6m 21s       |"
            ]
          },
          "metadata": {
            "tags": []
          }
        },
        {
          "output_type": "display_data",
          "data": {
            "text/html": [
              "<pre>| 31555        | 2.5e+09 | 39.4438     | 6m 24s       |</pre>"
            ],
            "text/plain": [
              "| 31555        | 2.5e+09 | 39.4438     | 6m 24s       |"
            ]
          },
          "metadata": {
            "tags": []
          }
        },
        {
          "output_type": "display_data",
          "data": {
            "text/html": [
              "<pre>| 31807        | 2.5e+09 | 39.7587     | 6m 27s       |</pre>"
            ],
            "text/plain": [
              "| 31807        | 2.5e+09 | 39.7587     | 6m 27s       |"
            ]
          },
          "metadata": {
            "tags": []
          }
        },
        {
          "output_type": "display_data",
          "data": {
            "text/html": [
              "<pre>| 32054        | 2.6e+09 | 40.0675     | 6m 30s       |</pre>"
            ],
            "text/plain": [
              "| 32054        | 2.6e+09 | 40.0675     | 6m 30s       |"
            ]
          },
          "metadata": {
            "tags": []
          }
        },
        {
          "output_type": "display_data",
          "data": {
            "text/html": [
              "<pre>| 32305        | 2.6e+09 | 40.3813     | 6m 33s       |</pre>"
            ],
            "text/plain": [
              "| 32305        | 2.6e+09 | 40.3813     | 6m 33s       |"
            ]
          },
          "metadata": {
            "tags": []
          }
        },
        {
          "output_type": "display_data",
          "data": {
            "text/html": [
              "<pre>| 32553        | 2.6e+09 | 40.6912     | 6m 36s       |</pre>"
            ],
            "text/plain": [
              "| 32553        | 2.6e+09 | 40.6912     | 6m 36s       |"
            ]
          },
          "metadata": {
            "tags": []
          }
        },
        {
          "output_type": "display_data",
          "data": {
            "text/html": [
              "<pre>| 32801        | 2.6e+09 | 41.0012     | 6m 39s       |</pre>"
            ],
            "text/plain": [
              "| 32801        | 2.6e+09 | 41.0012     | 6m 39s       |"
            ]
          },
          "metadata": {
            "tags": []
          }
        },
        {
          "output_type": "display_data",
          "data": {
            "text/html": [
              "<pre>| 33061        | 2.6e+09 | 41.3263     | 6m 42s       |</pre>"
            ],
            "text/plain": [
              "| 33061        | 2.6e+09 | 41.3263     | 6m 42s       |"
            ]
          },
          "metadata": {
            "tags": []
          }
        },
        {
          "output_type": "display_data",
          "data": {
            "text/html": [
              "<pre>| 33316        | 2.7e+09 | 41.645      | 6m 45s       |</pre>"
            ],
            "text/plain": [
              "| 33316        | 2.7e+09 | 41.645      | 6m 45s       |"
            ]
          },
          "metadata": {
            "tags": []
          }
        },
        {
          "output_type": "display_data",
          "data": {
            "text/html": [
              "<pre>| 33567        | 2.7e+09 | 41.9588     | 6m 48s       |</pre>"
            ],
            "text/plain": [
              "| 33567        | 2.7e+09 | 41.9588     | 6m 48s       |"
            ]
          },
          "metadata": {
            "tags": []
          }
        },
        {
          "output_type": "display_data",
          "data": {
            "text/html": [
              "<pre>| 33813        | 2.7e+09 | 42.2662     | 6m 51s       |</pre>"
            ],
            "text/plain": [
              "| 33813        | 2.7e+09 | 42.2662     | 6m 51s       |"
            ]
          },
          "metadata": {
            "tags": []
          }
        },
        {
          "output_type": "display_data",
          "data": {
            "text/html": [
              "<pre>| 34059        | 2.7e+09 | 42.5737     | 6m 54s       |</pre>"
            ],
            "text/plain": [
              "| 34059        | 2.7e+09 | 42.5737     | 6m 54s       |"
            ]
          },
          "metadata": {
            "tags": []
          }
        },
        {
          "output_type": "display_data",
          "data": {
            "text/html": [
              "<pre>| 34309        | 2.7e+09 | 42.8862     | 6m 57s       |</pre>"
            ],
            "text/plain": [
              "| 34309        | 2.7e+09 | 42.8862     | 6m 57s       |"
            ]
          },
          "metadata": {
            "tags": []
          }
        },
        {
          "output_type": "display_data",
          "data": {
            "text/html": [
              "<pre>| 34556        | 2.8e+09 | 43.195      | 7m 0s        |</pre>"
            ],
            "text/plain": [
              "| 34556        | 2.8e+09 | 43.195      | 7m 0s        |"
            ]
          },
          "metadata": {
            "tags": []
          }
        },
        {
          "output_type": "display_data",
          "data": {
            "text/html": [
              "<pre>| 34807        | 2.8e+09 | 43.5087     | 7m 3s        |</pre>"
            ],
            "text/plain": [
              "| 34807        | 2.8e+09 | 43.5087     | 7m 3s        |"
            ]
          },
          "metadata": {
            "tags": []
          }
        },
        {
          "output_type": "display_data",
          "data": {
            "text/html": [
              "<pre>| 35057        | 2.8e+09 | 43.8212     | 7m 6s        |</pre>"
            ],
            "text/plain": [
              "| 35057        | 2.8e+09 | 43.8212     | 7m 6s        |"
            ]
          },
          "metadata": {
            "tags": []
          }
        },
        {
          "output_type": "display_data",
          "data": {
            "text/html": [
              "<pre>| 35310        | 2.8e+09 | 44.1375     | 7m 9s        |</pre>"
            ],
            "text/plain": [
              "| 35310        | 2.8e+09 | 44.1375     | 7m 9s        |"
            ]
          },
          "metadata": {
            "tags": []
          }
        },
        {
          "output_type": "display_data",
          "data": {
            "text/html": [
              "<pre>| 35555        | 2.8e+09 | 44.4438     | 7m 12s       |</pre>"
            ],
            "text/plain": [
              "| 35555        | 2.8e+09 | 44.4438     | 7m 12s       |"
            ]
          },
          "metadata": {
            "tags": []
          }
        },
        {
          "output_type": "display_data",
          "data": {
            "text/html": [
              "<pre>| 35808        | 2.9e+09 | 44.76       | 7m 15s       |</pre>"
            ],
            "text/plain": [
              "| 35808        | 2.9e+09 | 44.76       | 7m 15s       |"
            ]
          },
          "metadata": {
            "tags": []
          }
        },
        {
          "output_type": "display_data",
          "data": {
            "text/html": [
              "<pre>| 36061        | 2.9e+09 | 45.0763     | 7m 18s       |</pre>"
            ],
            "text/plain": [
              "| 36061        | 2.9e+09 | 45.0763     | 7m 18s       |"
            ]
          },
          "metadata": {
            "tags": []
          }
        },
        {
          "output_type": "display_data",
          "data": {
            "text/html": [
              "<pre>| 36302        | 2.9e+09 | 45.3775     | 7m 21s       |</pre>"
            ],
            "text/plain": [
              "| 36302        | 2.9e+09 | 45.3775     | 7m 21s       |"
            ]
          },
          "metadata": {
            "tags": []
          }
        },
        {
          "output_type": "display_data",
          "data": {
            "text/html": [
              "<pre>| 36552        | 2.9e+09 | 45.69       | 7m 24s       |</pre>"
            ],
            "text/plain": [
              "| 36552        | 2.9e+09 | 45.69       | 7m 24s       |"
            ]
          },
          "metadata": {
            "tags": []
          }
        },
        {
          "output_type": "display_data",
          "data": {
            "text/html": [
              "<pre>| 36805        | 2.9e+09 | 46.0063     | 7m 27s       |</pre>"
            ],
            "text/plain": [
              "| 36805        | 2.9e+09 | 46.0063     | 7m 27s       |"
            ]
          },
          "metadata": {
            "tags": []
          }
        },
        {
          "output_type": "display_data",
          "data": {
            "text/html": [
              "<pre>| 37054        | 3e+09   | 46.3175     | 7m 30s       |</pre>"
            ],
            "text/plain": [
              "| 37054        | 3e+09   | 46.3175     | 7m 30s       |"
            ]
          },
          "metadata": {
            "tags": []
          }
        },
        {
          "output_type": "display_data",
          "data": {
            "text/html": [
              "<pre>| 37305        | 3e+09   | 46.6313     | 7m 33s       |</pre>"
            ],
            "text/plain": [
              "| 37305        | 3e+09   | 46.6313     | 7m 33s       |"
            ]
          },
          "metadata": {
            "tags": []
          }
        },
        {
          "output_type": "display_data",
          "data": {
            "text/html": [
              "<pre>| 37558        | 3e+09   | 46.9475     | 7m 36s       |</pre>"
            ],
            "text/plain": [
              "| 37558        | 3e+09   | 46.9475     | 7m 36s       |"
            ]
          },
          "metadata": {
            "tags": []
          }
        },
        {
          "output_type": "display_data",
          "data": {
            "text/html": [
              "<pre>| 37813        | 3e+09   | 47.2662     | 7m 39s       |</pre>"
            ],
            "text/plain": [
              "| 37813        | 3e+09   | 47.2662     | 7m 39s       |"
            ]
          },
          "metadata": {
            "tags": []
          }
        },
        {
          "output_type": "display_data",
          "data": {
            "text/html": [
              "<pre>| 38059        | 3e+09   | 47.5737     | 7m 42s       |</pre>"
            ],
            "text/plain": [
              "| 38059        | 3e+09   | 47.5737     | 7m 42s       |"
            ]
          },
          "metadata": {
            "tags": []
          }
        },
        {
          "output_type": "display_data",
          "data": {
            "text/html": [
              "<pre>| 38313        | 3.1e+09 | 47.8912     | 7m 45s       |</pre>"
            ],
            "text/plain": [
              "| 38313        | 3.1e+09 | 47.8912     | 7m 45s       |"
            ]
          },
          "metadata": {
            "tags": []
          }
        },
        {
          "output_type": "display_data",
          "data": {
            "text/html": [
              "<pre>| 38566        | 3.1e+09 | 48.2075     | 7m 48s       |</pre>"
            ],
            "text/plain": [
              "| 38566        | 3.1e+09 | 48.2075     | 7m 48s       |"
            ]
          },
          "metadata": {
            "tags": []
          }
        },
        {
          "output_type": "display_data",
          "data": {
            "text/html": [
              "<pre>| 38818        | 3.1e+09 | 48.5225     | 7m 51s       |</pre>"
            ],
            "text/plain": [
              "| 38818        | 3.1e+09 | 48.5225     | 7m 51s       |"
            ]
          },
          "metadata": {
            "tags": []
          }
        },
        {
          "output_type": "display_data",
          "data": {
            "text/html": [
              "<pre>| 39068        | 3.1e+09 | 48.835      | 7m 54s       |</pre>"
            ],
            "text/plain": [
              "| 39068        | 3.1e+09 | 48.835      | 7m 54s       |"
            ]
          },
          "metadata": {
            "tags": []
          }
        },
        {
          "output_type": "display_data",
          "data": {
            "text/html": [
              "<pre>| 39317        | 3.1e+09 | 49.1463     | 7m 57s       |</pre>"
            ],
            "text/plain": [
              "| 39317        | 3.1e+09 | 49.1463     | 7m 57s       |"
            ]
          },
          "metadata": {
            "tags": []
          }
        },
        {
          "output_type": "display_data",
          "data": {
            "text/html": [
              "<pre>| 39562        | 3.2e+09 | 49.4525     | 8m 0s        |</pre>"
            ],
            "text/plain": [
              "| 39562        | 3.2e+09 | 49.4525     | 8m 0s        |"
            ]
          },
          "metadata": {
            "tags": []
          }
        },
        {
          "output_type": "display_data",
          "data": {
            "text/html": [
              "<pre>| 39811        | 3.2e+09 | 49.7638     | 8m 3s        |</pre>"
            ],
            "text/plain": [
              "| 39811        | 3.2e+09 | 49.7638     | 8m 3s        |"
            ]
          },
          "metadata": {
            "tags": []
          }
        },
        {
          "output_type": "display_data",
          "data": {
            "text/html": [
              "<pre>| 40062        | 3.2e+09 | 50.0775     | 8m 6s        |</pre>"
            ],
            "text/plain": [
              "| 40062        | 3.2e+09 | 50.0775     | 8m 6s        |"
            ]
          },
          "metadata": {
            "tags": []
          }
        },
        {
          "output_type": "display_data",
          "data": {
            "text/html": [
              "<pre>| 40309        | 3.2e+09 | 50.3862     | 8m 9s        |</pre>"
            ],
            "text/plain": [
              "| 40309        | 3.2e+09 | 50.3862     | 8m 9s        |"
            ]
          },
          "metadata": {
            "tags": []
          }
        },
        {
          "output_type": "display_data",
          "data": {
            "text/html": [
              "<pre>| 40561        | 3.2e+09 | 50.7013     | 8m 12s       |</pre>"
            ],
            "text/plain": [
              "| 40561        | 3.2e+09 | 50.7013     | 8m 12s       |"
            ]
          },
          "metadata": {
            "tags": []
          }
        },
        {
          "output_type": "display_data",
          "data": {
            "text/html": [
              "<pre>| 40813        | 3.3e+09 | 51.0162     | 8m 15s       |</pre>"
            ],
            "text/plain": [
              "| 40813        | 3.3e+09 | 51.0162     | 8m 15s       |"
            ]
          },
          "metadata": {
            "tags": []
          }
        },
        {
          "output_type": "display_data",
          "data": {
            "text/html": [
              "<pre>| 41067        | 3.3e+09 | 51.3338     | 8m 18s       |</pre>"
            ],
            "text/plain": [
              "| 41067        | 3.3e+09 | 51.3338     | 8m 18s       |"
            ]
          },
          "metadata": {
            "tags": []
          }
        },
        {
          "output_type": "display_data",
          "data": {
            "text/html": [
              "<pre>| 41317        | 3.3e+09 | 51.6463     | 8m 21s       |</pre>"
            ],
            "text/plain": [
              "| 41317        | 3.3e+09 | 51.6463     | 8m 21s       |"
            ]
          },
          "metadata": {
            "tags": []
          }
        },
        {
          "output_type": "display_data",
          "data": {
            "text/html": [
              "<pre>| 41565        | 3.3e+09 | 51.9562     | 8m 24s       |</pre>"
            ],
            "text/plain": [
              "| 41565        | 3.3e+09 | 51.9562     | 8m 24s       |"
            ]
          },
          "metadata": {
            "tags": []
          }
        },
        {
          "output_type": "display_data",
          "data": {
            "text/html": [
              "<pre>| 41816        | 3.3e+09 | 52.27       | 8m 27s       |</pre>"
            ],
            "text/plain": [
              "| 41816        | 3.3e+09 | 52.27       | 8m 27s       |"
            ]
          },
          "metadata": {
            "tags": []
          }
        },
        {
          "output_type": "display_data",
          "data": {
            "text/html": [
              "<pre>| 42072        | 3.4e+09 | 52.59       | 8m 30s       |</pre>"
            ],
            "text/plain": [
              "| 42072        | 3.4e+09 | 52.59       | 8m 30s       |"
            ]
          },
          "metadata": {
            "tags": []
          }
        },
        {
          "output_type": "display_data",
          "data": {
            "text/html": [
              "<pre>| 42319        | 3.4e+09 | 52.8987     | 8m 33s       |</pre>"
            ],
            "text/plain": [
              "| 42319        | 3.4e+09 | 52.8987     | 8m 33s       |"
            ]
          },
          "metadata": {
            "tags": []
          }
        },
        {
          "output_type": "display_data",
          "data": {
            "text/html": [
              "<pre>| 42566        | 3.4e+09 | 53.2075     | 8m 36s       |</pre>"
            ],
            "text/plain": [
              "| 42566        | 3.4e+09 | 53.2075     | 8m 36s       |"
            ]
          },
          "metadata": {
            "tags": []
          }
        },
        {
          "output_type": "display_data",
          "data": {
            "text/html": [
              "<pre>| 42815        | 3.4e+09 | 53.5187     | 8m 39s       |</pre>"
            ],
            "text/plain": [
              "| 42815        | 3.4e+09 | 53.5187     | 8m 39s       |"
            ]
          },
          "metadata": {
            "tags": []
          }
        },
        {
          "output_type": "display_data",
          "data": {
            "text/html": [
              "<pre>| 43071        | 3.4e+09 | 53.8387     | 8m 42s       |</pre>"
            ],
            "text/plain": [
              "| 43071        | 3.4e+09 | 53.8387     | 8m 42s       |"
            ]
          },
          "metadata": {
            "tags": []
          }
        },
        {
          "output_type": "display_data",
          "data": {
            "text/html": [
              "<pre>| 43323        | 3.5e+09 | 54.1538     | 8m 45s       |</pre>"
            ],
            "text/plain": [
              "| 43323        | 3.5e+09 | 54.1538     | 8m 45s       |"
            ]
          },
          "metadata": {
            "tags": []
          }
        },
        {
          "output_type": "display_data",
          "data": {
            "text/html": [
              "<pre>| 43573        | 3.5e+09 | 54.4663     | 8m 48s       |</pre>"
            ],
            "text/plain": [
              "| 43573        | 3.5e+09 | 54.4663     | 8m 48s       |"
            ]
          },
          "metadata": {
            "tags": []
          }
        },
        {
          "output_type": "display_data",
          "data": {
            "text/html": [
              "<pre>| 43823        | 3.5e+09 | 54.7788     | 8m 51s       |</pre>"
            ],
            "text/plain": [
              "| 43823        | 3.5e+09 | 54.7788     | 8m 51s       |"
            ]
          },
          "metadata": {
            "tags": []
          }
        },
        {
          "output_type": "display_data",
          "data": {
            "text/html": [
              "<pre>| 44073        | 3.5e+09 | 55.0913     | 8m 54s       |</pre>"
            ],
            "text/plain": [
              "| 44073        | 3.5e+09 | 55.0913     | 8m 54s       |"
            ]
          },
          "metadata": {
            "tags": []
          }
        },
        {
          "output_type": "display_data",
          "data": {
            "text/html": [
              "<pre>| 44324        | 3.5e+09 | 55.405      | 8m 57s       |</pre>"
            ],
            "text/plain": [
              "| 44324        | 3.5e+09 | 55.405      | 8m 57s       |"
            ]
          },
          "metadata": {
            "tags": []
          }
        },
        {
          "output_type": "display_data",
          "data": {
            "text/html": [
              "<pre>| 44575        | 3.6e+09 | 55.7188     | 9m 0s        |</pre>"
            ],
            "text/plain": [
              "| 44575        | 3.6e+09 | 55.7188     | 9m 0s        |"
            ]
          },
          "metadata": {
            "tags": []
          }
        },
        {
          "output_type": "display_data",
          "data": {
            "text/html": [
              "<pre>| 44825        | 3.6e+09 | 56.0312     | 9m 3s        |</pre>"
            ],
            "text/plain": [
              "| 44825        | 3.6e+09 | 56.0312     | 9m 3s        |"
            ]
          },
          "metadata": {
            "tags": []
          }
        },
        {
          "output_type": "display_data",
          "data": {
            "text/html": [
              "<pre>| 45072        | 3.6e+09 | 56.34       | 9m 6s        |</pre>"
            ],
            "text/plain": [
              "| 45072        | 3.6e+09 | 56.34       | 9m 6s        |"
            ]
          },
          "metadata": {
            "tags": []
          }
        },
        {
          "output_type": "display_data",
          "data": {
            "text/html": [
              "<pre>| 45320        | 3.6e+09 | 56.65       | 9m 9s        |</pre>"
            ],
            "text/plain": [
              "| 45320        | 3.6e+09 | 56.65       | 9m 9s        |"
            ]
          },
          "metadata": {
            "tags": []
          }
        },
        {
          "output_type": "display_data",
          "data": {
            "text/html": [
              "<pre>| 45568        | 3.6e+09 | 56.96       | 9m 12s       |</pre>"
            ],
            "text/plain": [
              "| 45568        | 3.6e+09 | 56.96       | 9m 12s       |"
            ]
          },
          "metadata": {
            "tags": []
          }
        },
        {
          "output_type": "display_data",
          "data": {
            "text/html": [
              "<pre>| 45821        | 3.7e+09 | 57.2762     | 9m 15s       |</pre>"
            ],
            "text/plain": [
              "| 45821        | 3.7e+09 | 57.2762     | 9m 15s       |"
            ]
          },
          "metadata": {
            "tags": []
          }
        },
        {
          "output_type": "display_data",
          "data": {
            "text/html": [
              "<pre>| 46069        | 3.7e+09 | 57.5862     | 9m 18s       |</pre>"
            ],
            "text/plain": [
              "| 46069        | 3.7e+09 | 57.5862     | 9m 18s       |"
            ]
          },
          "metadata": {
            "tags": []
          }
        },
        {
          "output_type": "display_data",
          "data": {
            "text/html": [
              "<pre>| 46318        | 3.7e+09 | 57.8975     | 9m 21s       |</pre>"
            ],
            "text/plain": [
              "| 46318        | 3.7e+09 | 57.8975     | 9m 21s       |"
            ]
          },
          "metadata": {
            "tags": []
          }
        },
        {
          "output_type": "display_data",
          "data": {
            "text/html": [
              "<pre>| 46568        | 3.7e+09 | 58.21       | 9m 24s       |</pre>"
            ],
            "text/plain": [
              "| 46568        | 3.7e+09 | 58.21       | 9m 24s       |"
            ]
          },
          "metadata": {
            "tags": []
          }
        },
        {
          "output_type": "display_data",
          "data": {
            "text/html": [
              "<pre>| 46822        | 3.7e+09 | 58.5275     | 9m 27s       |</pre>"
            ],
            "text/plain": [
              "| 46822        | 3.7e+09 | 58.5275     | 9m 27s       |"
            ]
          },
          "metadata": {
            "tags": []
          }
        },
        {
          "output_type": "display_data",
          "data": {
            "text/html": [
              "<pre>| 47077        | 3.8e+09 | 58.8462     | 9m 30s       |</pre>"
            ],
            "text/plain": [
              "| 47077        | 3.8e+09 | 58.8462     | 9m 30s       |"
            ]
          },
          "metadata": {
            "tags": []
          }
        },
        {
          "output_type": "display_data",
          "data": {
            "text/html": [
              "<pre>| 47332        | 3.8e+09 | 59.165      | 9m 33s       |</pre>"
            ],
            "text/plain": [
              "| 47332        | 3.8e+09 | 59.165      | 9m 33s       |"
            ]
          },
          "metadata": {
            "tags": []
          }
        },
        {
          "output_type": "display_data",
          "data": {
            "text/html": [
              "<pre>| 47584        | 3.8e+09 | 59.48       | 9m 36s       |</pre>"
            ],
            "text/plain": [
              "| 47584        | 3.8e+09 | 59.48       | 9m 36s       |"
            ]
          },
          "metadata": {
            "tags": []
          }
        },
        {
          "output_type": "display_data",
          "data": {
            "text/html": [
              "<pre>| 47836        | 3.8e+09 | 59.795      | 9m 39s       |</pre>"
            ],
            "text/plain": [
              "| 47836        | 3.8e+09 | 59.795      | 9m 39s       |"
            ]
          },
          "metadata": {
            "tags": []
          }
        },
        {
          "output_type": "display_data",
          "data": {
            "text/html": [
              "<pre>| 48087        | 3.8e+09 | 60.1088     | 9m 42s       |</pre>"
            ],
            "text/plain": [
              "| 48087        | 3.8e+09 | 60.1088     | 9m 42s       |"
            ]
          },
          "metadata": {
            "tags": []
          }
        },
        {
          "output_type": "display_data",
          "data": {
            "text/html": [
              "<pre>| 48332        | 3.9e+09 | 60.415      | 9m 45s       |</pre>"
            ],
            "text/plain": [
              "| 48332        | 3.9e+09 | 60.415      | 9m 45s       |"
            ]
          },
          "metadata": {
            "tags": []
          }
        },
        {
          "output_type": "display_data",
          "data": {
            "text/html": [
              "<pre>| 48583        | 3.9e+09 | 60.7287     | 9m 48s       |</pre>"
            ],
            "text/plain": [
              "| 48583        | 3.9e+09 | 60.7287     | 9m 48s       |"
            ]
          },
          "metadata": {
            "tags": []
          }
        },
        {
          "output_type": "display_data",
          "data": {
            "text/html": [
              "<pre>| 48835        | 3.9e+09 | 61.0438     | 9m 51s       |</pre>"
            ],
            "text/plain": [
              "| 48835        | 3.9e+09 | 61.0438     | 9m 51s       |"
            ]
          },
          "metadata": {
            "tags": []
          }
        },
        {
          "output_type": "display_data",
          "data": {
            "text/html": [
              "<pre>| 49096        | 3.9e+09 | 61.37       | 9m 54s       |</pre>"
            ],
            "text/plain": [
              "| 49096        | 3.9e+09 | 61.37       | 9m 54s       |"
            ]
          },
          "metadata": {
            "tags": []
          }
        },
        {
          "output_type": "display_data",
          "data": {
            "text/html": [
              "<pre>| 49351        | 3.9e+09 | 61.6887     | 9m 57s       |</pre>"
            ],
            "text/plain": [
              "| 49351        | 3.9e+09 | 61.6887     | 9m 57s       |"
            ]
          },
          "metadata": {
            "tags": []
          }
        },
        {
          "output_type": "display_data",
          "data": {
            "text/html": [
              "<pre>| 49603        | 4e+09   | 62.0037     | 10m 0s       |</pre>"
            ],
            "text/plain": [
              "| 49603        | 4e+09   | 62.0037     | 10m 0s       |"
            ]
          },
          "metadata": {
            "tags": []
          }
        },
        {
          "output_type": "display_data",
          "data": {
            "text/html": [
              "<pre>| 49859        | 4e+09   | 62.3237     | 10m 3s       |</pre>"
            ],
            "text/plain": [
              "| 49859        | 4e+09   | 62.3237     | 10m 3s       |"
            ]
          },
          "metadata": {
            "tags": []
          }
        },
        {
          "output_type": "display_data",
          "data": {
            "text/html": [
              "<pre>| 50108        | 4e+09   | 62.635      | 10m 6s       |</pre>"
            ],
            "text/plain": [
              "| 50108        | 4e+09   | 62.635      | 10m 6s       |"
            ]
          },
          "metadata": {
            "tags": []
          }
        },
        {
          "output_type": "display_data",
          "data": {
            "text/html": [
              "<pre>| 50364        | 4e+09   | 62.955      | 10m 9s       |</pre>"
            ],
            "text/plain": [
              "| 50364        | 4e+09   | 62.955      | 10m 9s       |"
            ]
          },
          "metadata": {
            "tags": []
          }
        },
        {
          "output_type": "display_data",
          "data": {
            "text/html": [
              "<pre>| 50618        | 4e+09   | 63.2725     | 10m 12s      |</pre>"
            ],
            "text/plain": [
              "| 50618        | 4e+09   | 63.2725     | 10m 12s      |"
            ]
          },
          "metadata": {
            "tags": []
          }
        },
        {
          "output_type": "display_data",
          "data": {
            "text/html": [
              "<pre>| 50875        | 4.1e+09 | 63.5938     | 10m 15s      |</pre>"
            ],
            "text/plain": [
              "| 50875        | 4.1e+09 | 63.5938     | 10m 15s      |"
            ]
          },
          "metadata": {
            "tags": []
          }
        },
        {
          "output_type": "display_data",
          "data": {
            "text/html": [
              "<pre>| 51125        | 4.1e+09 | 63.9062     | 10m 18s      |</pre>"
            ],
            "text/plain": [
              "| 51125        | 4.1e+09 | 63.9062     | 10m 18s      |"
            ]
          },
          "metadata": {
            "tags": []
          }
        },
        {
          "output_type": "display_data",
          "data": {
            "text/html": [
              "<pre>| 51379        | 4.1e+09 | 64.2237     | 10m 21s      |</pre>"
            ],
            "text/plain": [
              "| 51379        | 4.1e+09 | 64.2237     | 10m 21s      |"
            ]
          },
          "metadata": {
            "tags": []
          }
        },
        {
          "output_type": "display_data",
          "data": {
            "text/html": [
              "<pre>| 51630        | 4.1e+09 | 64.5375     | 10m 24s      |</pre>"
            ],
            "text/plain": [
              "| 51630        | 4.1e+09 | 64.5375     | 10m 24s      |"
            ]
          },
          "metadata": {
            "tags": []
          }
        },
        {
          "output_type": "display_data",
          "data": {
            "text/html": [
              "<pre>| 51885        | 4.2e+09 | 64.8563     | 10m 27s      |</pre>"
            ],
            "text/plain": [
              "| 51885        | 4.2e+09 | 64.8563     | 10m 27s      |"
            ]
          },
          "metadata": {
            "tags": []
          }
        },
        {
          "output_type": "display_data",
          "data": {
            "text/html": [
              "<pre>| 52137        | 4.2e+09 | 65.1713     | 10m 30s      |</pre>"
            ],
            "text/plain": [
              "| 52137        | 4.2e+09 | 65.1713     | 10m 30s      |"
            ]
          },
          "metadata": {
            "tags": []
          }
        },
        {
          "output_type": "display_data",
          "data": {
            "text/html": [
              "<pre>| 52390        | 4.2e+09 | 65.4875     | 10m 33s      |</pre>"
            ],
            "text/plain": [
              "| 52390        | 4.2e+09 | 65.4875     | 10m 33s      |"
            ]
          },
          "metadata": {
            "tags": []
          }
        },
        {
          "output_type": "display_data",
          "data": {
            "text/html": [
              "<pre>| 52635        | 4.2e+09 | 65.7938     | 10m 36s      |</pre>"
            ],
            "text/plain": [
              "| 52635        | 4.2e+09 | 65.7938     | 10m 36s      |"
            ]
          },
          "metadata": {
            "tags": []
          }
        },
        {
          "output_type": "display_data",
          "data": {
            "text/html": [
              "<pre>| 52889        | 4.2e+09 | 66.1112     | 10m 39s      |</pre>"
            ],
            "text/plain": [
              "| 52889        | 4.2e+09 | 66.1112     | 10m 39s      |"
            ]
          },
          "metadata": {
            "tags": []
          }
        },
        {
          "output_type": "display_data",
          "data": {
            "text/html": [
              "<pre>| 53142        | 4.3e+09 | 66.4275     | 10m 42s      |</pre>"
            ],
            "text/plain": [
              "| 53142        | 4.3e+09 | 66.4275     | 10m 42s      |"
            ]
          },
          "metadata": {
            "tags": []
          }
        },
        {
          "output_type": "display_data",
          "data": {
            "text/html": [
              "<pre>| 53394        | 4.3e+09 | 66.7425     | 10m 45s      |</pre>"
            ],
            "text/plain": [
              "| 53394        | 4.3e+09 | 66.7425     | 10m 45s      |"
            ]
          },
          "metadata": {
            "tags": []
          }
        },
        {
          "output_type": "display_data",
          "data": {
            "text/html": [
              "<pre>| 53650        | 4.3e+09 | 67.0625     | 10m 48s      |</pre>"
            ],
            "text/plain": [
              "| 53650        | 4.3e+09 | 67.0625     | 10m 48s      |"
            ]
          },
          "metadata": {
            "tags": []
          }
        },
        {
          "output_type": "display_data",
          "data": {
            "text/html": [
              "<pre>| 53903        | 4.3e+09 | 67.3787     | 10m 51s      |</pre>"
            ],
            "text/plain": [
              "| 53903        | 4.3e+09 | 67.3787     | 10m 51s      |"
            ]
          },
          "metadata": {
            "tags": []
          }
        },
        {
          "output_type": "display_data",
          "data": {
            "text/html": [
              "<pre>| 54150        | 4.3e+09 | 67.6875     | 10m 54s      |</pre>"
            ],
            "text/plain": [
              "| 54150        | 4.3e+09 | 67.6875     | 10m 54s      |"
            ]
          },
          "metadata": {
            "tags": []
          }
        },
        {
          "output_type": "display_data",
          "data": {
            "text/html": [
              "<pre>| 54408        | 4.4e+09 | 68.01       | 10m 57s      |</pre>"
            ],
            "text/plain": [
              "| 54408        | 4.4e+09 | 68.01       | 10m 57s      |"
            ]
          },
          "metadata": {
            "tags": []
          }
        },
        {
          "output_type": "display_data",
          "data": {
            "text/html": [
              "<pre>| 54665        | 4.4e+09 | 68.3312     | 11m 0s       |</pre>"
            ],
            "text/plain": [
              "| 54665        | 4.4e+09 | 68.3312     | 11m 0s       |"
            ]
          },
          "metadata": {
            "tags": []
          }
        },
        {
          "output_type": "display_data",
          "data": {
            "text/html": [
              "<pre>| 54921        | 4.4e+09 | 68.6513     | 11m 3s       |</pre>"
            ],
            "text/plain": [
              "| 54921        | 4.4e+09 | 68.6513     | 11m 3s       |"
            ]
          },
          "metadata": {
            "tags": []
          }
        },
        {
          "output_type": "display_data",
          "data": {
            "text/html": [
              "<pre>| 55174        | 4.4e+09 | 68.9675     | 11m 6s       |</pre>"
            ],
            "text/plain": [
              "| 55174        | 4.4e+09 | 68.9675     | 11m 6s       |"
            ]
          },
          "metadata": {
            "tags": []
          }
        },
        {
          "output_type": "display_data",
          "data": {
            "text/html": [
              "<pre>| 55421        | 4.4e+09 | 69.2763     | 11m 9s       |</pre>"
            ],
            "text/plain": [
              "| 55421        | 4.4e+09 | 69.2763     | 11m 9s       |"
            ]
          },
          "metadata": {
            "tags": []
          }
        },
        {
          "output_type": "display_data",
          "data": {
            "text/html": [
              "<pre>| 55671        | 4.5e+09 | 69.5888     | 11m 12s      |</pre>"
            ],
            "text/plain": [
              "| 55671        | 4.5e+09 | 69.5888     | 11m 12s      |"
            ]
          },
          "metadata": {
            "tags": []
          }
        },
        {
          "output_type": "display_data",
          "data": {
            "text/html": [
              "<pre>| 55923        | 4.5e+09 | 69.9038     | 11m 15s      |</pre>"
            ],
            "text/plain": [
              "| 55923        | 4.5e+09 | 69.9038     | 11m 15s      |"
            ]
          },
          "metadata": {
            "tags": []
          }
        },
        {
          "output_type": "display_data",
          "data": {
            "text/html": [
              "<pre>| 56171        | 4.5e+09 | 70.2138     | 11m 18s      |</pre>"
            ],
            "text/plain": [
              "| 56171        | 4.5e+09 | 70.2138     | 11m 18s      |"
            ]
          },
          "metadata": {
            "tags": []
          }
        },
        {
          "output_type": "display_data",
          "data": {
            "text/html": [
              "<pre>| 56423        | 4.5e+09 | 70.5288     | 11m 21s      |</pre>"
            ],
            "text/plain": [
              "| 56423        | 4.5e+09 | 70.5288     | 11m 21s      |"
            ]
          },
          "metadata": {
            "tags": []
          }
        },
        {
          "output_type": "display_data",
          "data": {
            "text/html": [
              "<pre>| 56678        | 4.5e+09 | 70.8475     | 11m 24s      |</pre>"
            ],
            "text/plain": [
              "| 56678        | 4.5e+09 | 70.8475     | 11m 24s      |"
            ]
          },
          "metadata": {
            "tags": []
          }
        },
        {
          "output_type": "display_data",
          "data": {
            "text/html": [
              "<pre>| 56931        | 4.6e+09 | 71.1637     | 11m 27s      |</pre>"
            ],
            "text/plain": [
              "| 56931        | 4.6e+09 | 71.1637     | 11m 27s      |"
            ]
          },
          "metadata": {
            "tags": []
          }
        },
        {
          "output_type": "display_data",
          "data": {
            "text/html": [
              "<pre>| 57176        | 4.6e+09 | 71.47       | 11m 30s      |</pre>"
            ],
            "text/plain": [
              "| 57176        | 4.6e+09 | 71.47       | 11m 30s      |"
            ]
          },
          "metadata": {
            "tags": []
          }
        },
        {
          "output_type": "display_data",
          "data": {
            "text/html": [
              "<pre>| 57428        | 4.6e+09 | 71.785      | 11m 33s      |</pre>"
            ],
            "text/plain": [
              "| 57428        | 4.6e+09 | 71.785      | 11m 33s      |"
            ]
          },
          "metadata": {
            "tags": []
          }
        },
        {
          "output_type": "display_data",
          "data": {
            "text/html": [
              "<pre>| 57682        | 4.6e+09 | 72.1025     | 11m 36s      |</pre>"
            ],
            "text/plain": [
              "| 57682        | 4.6e+09 | 72.1025     | 11m 36s      |"
            ]
          },
          "metadata": {
            "tags": []
          }
        },
        {
          "output_type": "display_data",
          "data": {
            "text/html": [
              "<pre>| 57929        | 4.6e+09 | 72.4112     | 11m 39s      |</pre>"
            ],
            "text/plain": [
              "| 57929        | 4.6e+09 | 72.4112     | 11m 39s      |"
            ]
          },
          "metadata": {
            "tags": []
          }
        },
        {
          "output_type": "display_data",
          "data": {
            "text/html": [
              "<pre>| 58179        | 4.7e+09 | 72.7237     | 11m 42s      |</pre>"
            ],
            "text/plain": [
              "| 58179        | 4.7e+09 | 72.7237     | 11m 42s      |"
            ]
          },
          "metadata": {
            "tags": []
          }
        },
        {
          "output_type": "display_data",
          "data": {
            "text/html": [
              "<pre>| 58429        | 4.7e+09 | 73.0362     | 11m 45s      |</pre>"
            ],
            "text/plain": [
              "| 58429        | 4.7e+09 | 73.0362     | 11m 45s      |"
            ]
          },
          "metadata": {
            "tags": []
          }
        },
        {
          "output_type": "display_data",
          "data": {
            "text/html": [
              "<pre>| 58557        | 4.7e+09 | 73.1963     | 11m 48s      |</pre>"
            ],
            "text/plain": [
              "| 58557        | 4.7e+09 | 73.1963     | 11m 48s      |"
            ]
          },
          "metadata": {
            "tags": []
          }
        },
        {
          "output_type": "display_data",
          "data": {
            "text/html": [
              "<pre>| 58811        | 4.7e+09 | 73.5138     | 11m 51s      |</pre>"
            ],
            "text/plain": [
              "| 58811        | 4.7e+09 | 73.5138     | 11m 51s      |"
            ]
          },
          "metadata": {
            "tags": []
          }
        },
        {
          "output_type": "display_data",
          "data": {
            "text/html": [
              "<pre>| 59064        | 4.7e+09 | 73.83       | 11m 54s      |</pre>"
            ],
            "text/plain": [
              "| 59064        | 4.7e+09 | 73.83       | 11m 54s      |"
            ]
          },
          "metadata": {
            "tags": []
          }
        },
        {
          "output_type": "display_data",
          "data": {
            "text/html": [
              "<pre>| 59316        | 4.7e+09 | 74.145      | 11m 57s      |</pre>"
            ],
            "text/plain": [
              "| 59316        | 4.7e+09 | 74.145      | 11m 57s      |"
            ]
          },
          "metadata": {
            "tags": []
          }
        },
        {
          "output_type": "display_data",
          "data": {
            "text/html": [
              "<pre>| 59563        | 4.8e+09 | 74.4537     | 12m 0s       |</pre>"
            ],
            "text/plain": [
              "| 59563        | 4.8e+09 | 74.4537     | 12m 0s       |"
            ]
          },
          "metadata": {
            "tags": []
          }
        },
        {
          "output_type": "display_data",
          "data": {
            "text/html": [
              "<pre>| 59816        | 4.8e+09 | 74.77       | 12m 3s       |</pre>"
            ],
            "text/plain": [
              "| 59816        | 4.8e+09 | 74.77       | 12m 3s       |"
            ]
          },
          "metadata": {
            "tags": []
          }
        },
        {
          "output_type": "display_data",
          "data": {
            "text/html": [
              "<pre>| 60069        | 4.8e+09 | 75.0863     | 12m 6s       |</pre>"
            ],
            "text/plain": [
              "| 60069        | 4.8e+09 | 75.0863     | 12m 6s       |"
            ]
          },
          "metadata": {
            "tags": []
          }
        },
        {
          "output_type": "display_data",
          "data": {
            "text/html": [
              "<pre>| 60319        | 4.8e+09 | 75.3988     | 12m 9s       |</pre>"
            ],
            "text/plain": [
              "| 60319        | 4.8e+09 | 75.3988     | 12m 9s       |"
            ]
          },
          "metadata": {
            "tags": []
          }
        },
        {
          "output_type": "display_data",
          "data": {
            "text/html": [
              "<pre>| 60569        | 4.8e+09 | 75.7113     | 12m 12s      |</pre>"
            ],
            "text/plain": [
              "| 60569        | 4.8e+09 | 75.7113     | 12m 12s      |"
            ]
          },
          "metadata": {
            "tags": []
          }
        },
        {
          "output_type": "display_data",
          "data": {
            "text/html": [
              "<pre>| 60823        | 4.9e+09 | 76.0288     | 12m 15s      |</pre>"
            ],
            "text/plain": [
              "| 60823        | 4.9e+09 | 76.0288     | 12m 15s      |"
            ]
          },
          "metadata": {
            "tags": []
          }
        },
        {
          "output_type": "display_data",
          "data": {
            "text/html": [
              "<pre>| 61070        | 4.9e+09 | 76.3375     | 12m 18s      |</pre>"
            ],
            "text/plain": [
              "| 61070        | 4.9e+09 | 76.3375     | 12m 18s      |"
            ]
          },
          "metadata": {
            "tags": []
          }
        },
        {
          "output_type": "display_data",
          "data": {
            "text/html": [
              "<pre>| 61324        | 4.9e+09 | 76.655      | 12m 21s      |</pre>"
            ],
            "text/plain": [
              "| 61324        | 4.9e+09 | 76.655      | 12m 21s      |"
            ]
          },
          "metadata": {
            "tags": []
          }
        },
        {
          "output_type": "display_data",
          "data": {
            "text/html": [
              "<pre>| 61578        | 4.9e+09 | 76.9725     | 12m 24s      |</pre>"
            ],
            "text/plain": [
              "| 61578        | 4.9e+09 | 76.9725     | 12m 24s      |"
            ]
          },
          "metadata": {
            "tags": []
          }
        },
        {
          "output_type": "display_data",
          "data": {
            "text/html": [
              "<pre>| 61836        | 4.9e+09 | 77.295      | 12m 27s      |</pre>"
            ],
            "text/plain": [
              "| 61836        | 4.9e+09 | 77.295      | 12m 27s      |"
            ]
          },
          "metadata": {
            "tags": []
          }
        },
        {
          "output_type": "display_data",
          "data": {
            "text/html": [
              "<pre>| 62087        | 5e+09   | 77.6088     | 12m 30s      |</pre>"
            ],
            "text/plain": [
              "| 62087        | 5e+09   | 77.6088     | 12m 30s      |"
            ]
          },
          "metadata": {
            "tags": []
          }
        },
        {
          "output_type": "display_data",
          "data": {
            "text/html": [
              "<pre>| 62338        | 5e+09   | 77.9225     | 12m 33s      |</pre>"
            ],
            "text/plain": [
              "| 62338        | 5e+09   | 77.9225     | 12m 33s      |"
            ]
          },
          "metadata": {
            "tags": []
          }
        },
        {
          "output_type": "display_data",
          "data": {
            "text/html": [
              "<pre>| 62589        | 5e+09   | 78.2362     | 12m 36s      |</pre>"
            ],
            "text/plain": [
              "| 62589        | 5e+09   | 78.2362     | 12m 36s      |"
            ]
          },
          "metadata": {
            "tags": []
          }
        },
        {
          "output_type": "display_data",
          "data": {
            "text/html": [
              "<pre>| 62842        | 5e+09   | 78.5525     | 12m 39s      |</pre>"
            ],
            "text/plain": [
              "| 62842        | 5e+09   | 78.5525     | 12m 39s      |"
            ]
          },
          "metadata": {
            "tags": []
          }
        },
        {
          "output_type": "display_data",
          "data": {
            "text/html": [
              "<pre>| 63095        | 5e+09   | 78.8688     | 12m 42s      |</pre>"
            ],
            "text/plain": [
              "| 63095        | 5e+09   | 78.8688     | 12m 42s      |"
            ]
          },
          "metadata": {
            "tags": []
          }
        },
        {
          "output_type": "display_data",
          "data": {
            "text/html": [
              "<pre>| 63347        | 5.1e+09 | 79.1838     | 12m 45s      |</pre>"
            ],
            "text/plain": [
              "| 63347        | 5.1e+09 | 79.1838     | 12m 45s      |"
            ]
          },
          "metadata": {
            "tags": []
          }
        },
        {
          "output_type": "display_data",
          "data": {
            "text/html": [
              "<pre>| 63597        | 5.1e+09 | 79.4963     | 12m 48s      |</pre>"
            ],
            "text/plain": [
              "| 63597        | 5.1e+09 | 79.4963     | 12m 48s      |"
            ]
          },
          "metadata": {
            "tags": []
          }
        },
        {
          "output_type": "display_data",
          "data": {
            "text/html": [
              "<pre>| 63847        | 5.1e+09 | 79.8088     | 12m 51s      |</pre>"
            ],
            "text/plain": [
              "| 63847        | 5.1e+09 | 79.8088     | 12m 51s      |"
            ]
          },
          "metadata": {
            "tags": []
          }
        },
        {
          "output_type": "display_data",
          "data": {
            "text/html": [
              "<pre>| 64095        | 5.1e+09 | 80.1188     | 12m 54s      |</pre>"
            ],
            "text/plain": [
              "| 64095        | 5.1e+09 | 80.1188     | 12m 54s      |"
            ]
          },
          "metadata": {
            "tags": []
          }
        },
        {
          "output_type": "display_data",
          "data": {
            "text/html": [
              "<pre>| 64349        | 5.1e+09 | 80.4363     | 12m 57s      |</pre>"
            ],
            "text/plain": [
              "| 64349        | 5.1e+09 | 80.4363     | 12m 57s      |"
            ]
          },
          "metadata": {
            "tags": []
          }
        },
        {
          "output_type": "display_data",
          "data": {
            "text/html": [
              "<pre>| 64611        | 5.2e+09 | 80.7638     | 13m 0s       |</pre>"
            ],
            "text/plain": [
              "| 64611        | 5.2e+09 | 80.7638     | 13m 0s       |"
            ]
          },
          "metadata": {
            "tags": []
          }
        },
        {
          "output_type": "display_data",
          "data": {
            "text/html": [
              "<pre>| 64865        | 5.2e+09 | 81.0812     | 13m 3s       |</pre>"
            ],
            "text/plain": [
              "| 64865        | 5.2e+09 | 81.0812     | 13m 3s       |"
            ]
          },
          "metadata": {
            "tags": []
          }
        },
        {
          "output_type": "display_data",
          "data": {
            "text/html": [
              "<pre>| 65120        | 5.2e+09 | 81.4        | 13m 6s       |</pre>"
            ],
            "text/plain": [
              "| 65120        | 5.2e+09 | 81.4        | 13m 6s       |"
            ]
          },
          "metadata": {
            "tags": []
          }
        },
        {
          "output_type": "display_data",
          "data": {
            "text/html": [
              "<pre>| 65380        | 5.2e+09 | 81.725      | 13m 9s       |</pre>"
            ],
            "text/plain": [
              "| 65380        | 5.2e+09 | 81.725      | 13m 9s       |"
            ]
          },
          "metadata": {
            "tags": []
          }
        },
        {
          "output_type": "display_data",
          "data": {
            "text/html": [
              "<pre>| 65633        | 5.3e+09 | 82.0413     | 13m 12s      |</pre>"
            ],
            "text/plain": [
              "| 65633        | 5.3e+09 | 82.0413     | 13m 12s      |"
            ]
          },
          "metadata": {
            "tags": []
          }
        },
        {
          "output_type": "display_data",
          "data": {
            "text/html": [
              "<pre>| 65885        | 5.3e+09 | 82.3563     | 13m 15s      |</pre>"
            ],
            "text/plain": [
              "| 65885        | 5.3e+09 | 82.3563     | 13m 15s      |"
            ]
          },
          "metadata": {
            "tags": []
          }
        },
        {
          "output_type": "display_data",
          "data": {
            "text/html": [
              "<pre>| 66129        | 5.3e+09 | 82.6612     | 13m 18s      |</pre>"
            ],
            "text/plain": [
              "| 66129        | 5.3e+09 | 82.6612     | 13m 18s      |"
            ]
          },
          "metadata": {
            "tags": []
          }
        },
        {
          "output_type": "display_data",
          "data": {
            "text/html": [
              "<pre>| 66376        | 5.3e+09 | 82.97       | 13m 21s      |</pre>"
            ],
            "text/plain": [
              "| 66376        | 5.3e+09 | 82.97       | 13m 21s      |"
            ]
          },
          "metadata": {
            "tags": []
          }
        },
        {
          "output_type": "display_data",
          "data": {
            "text/html": [
              "<pre>| 66636        | 5.3e+09 | 83.295      | 13m 24s      |</pre>"
            ],
            "text/plain": [
              "| 66636        | 5.3e+09 | 83.295      | 13m 24s      |"
            ]
          },
          "metadata": {
            "tags": []
          }
        },
        {
          "output_type": "display_data",
          "data": {
            "text/html": [
              "<pre>| 66896        | 5.4e+09 | 83.62       | 13m 27s      |</pre>"
            ],
            "text/plain": [
              "| 66896        | 5.4e+09 | 83.62       | 13m 27s      |"
            ]
          },
          "metadata": {
            "tags": []
          }
        },
        {
          "output_type": "display_data",
          "data": {
            "text/html": [
              "<pre>| 67149        | 5.4e+09 | 83.9363     | 13m 30s      |</pre>"
            ],
            "text/plain": [
              "| 67149        | 5.4e+09 | 83.9363     | 13m 30s      |"
            ]
          },
          "metadata": {
            "tags": []
          }
        },
        {
          "output_type": "display_data",
          "data": {
            "text/html": [
              "<pre>| 67400        | 5.4e+09 | 84.25       | 13m 33s      |</pre>"
            ],
            "text/plain": [
              "| 67400        | 5.4e+09 | 84.25       | 13m 33s      |"
            ]
          },
          "metadata": {
            "tags": []
          }
        },
        {
          "output_type": "display_data",
          "data": {
            "text/html": [
              "<pre>| 67655        | 5.4e+09 | 84.5687     | 13m 36s      |</pre>"
            ],
            "text/plain": [
              "| 67655        | 5.4e+09 | 84.5687     | 13m 36s      |"
            ]
          },
          "metadata": {
            "tags": []
          }
        },
        {
          "output_type": "display_data",
          "data": {
            "text/html": [
              "<pre>| 67907        | 5.4e+09 | 84.8838     | 13m 39s      |</pre>"
            ],
            "text/plain": [
              "| 67907        | 5.4e+09 | 84.8838     | 13m 39s      |"
            ]
          },
          "metadata": {
            "tags": []
          }
        },
        {
          "output_type": "display_data",
          "data": {
            "text/html": [
              "<pre>| 68152        | 5.5e+09 | 85.19       | 13m 42s      |</pre>"
            ],
            "text/plain": [
              "| 68152        | 5.5e+09 | 85.19       | 13m 42s      |"
            ]
          },
          "metadata": {
            "tags": []
          }
        },
        {
          "output_type": "display_data",
          "data": {
            "text/html": [
              "<pre>| 68404        | 5.5e+09 | 85.505      | 13m 45s      |</pre>"
            ],
            "text/plain": [
              "| 68404        | 5.5e+09 | 85.505      | 13m 45s      |"
            ]
          },
          "metadata": {
            "tags": []
          }
        },
        {
          "output_type": "display_data",
          "data": {
            "text/html": [
              "<pre>| 68658        | 5.5e+09 | 85.8225     | 13m 48s      |</pre>"
            ],
            "text/plain": [
              "| 68658        | 5.5e+09 | 85.8225     | 13m 48s      |"
            ]
          },
          "metadata": {
            "tags": []
          }
        },
        {
          "output_type": "display_data",
          "data": {
            "text/html": [
              "<pre>| 68917        | 5.5e+09 | 86.1462     | 13m 51s      |</pre>"
            ],
            "text/plain": [
              "| 68917        | 5.5e+09 | 86.1462     | 13m 51s      |"
            ]
          },
          "metadata": {
            "tags": []
          }
        },
        {
          "output_type": "display_data",
          "data": {
            "text/html": [
              "<pre>| 69169        | 5.5e+09 | 86.4613     | 13m 54s      |</pre>"
            ],
            "text/plain": [
              "| 69169        | 5.5e+09 | 86.4613     | 13m 54s      |"
            ]
          },
          "metadata": {
            "tags": []
          }
        },
        {
          "output_type": "display_data",
          "data": {
            "text/html": [
              "<pre>| 69419        | 5.6e+09 | 86.7738     | 13m 57s      |</pre>"
            ],
            "text/plain": [
              "| 69419        | 5.6e+09 | 86.7738     | 13m 57s      |"
            ]
          },
          "metadata": {
            "tags": []
          }
        },
        {
          "output_type": "display_data",
          "data": {
            "text/html": [
              "<pre>| 69675        | 5.6e+09 | 87.0938     | 14m 0s       |</pre>"
            ],
            "text/plain": [
              "| 69675        | 5.6e+09 | 87.0938     | 14m 0s       |"
            ]
          },
          "metadata": {
            "tags": []
          }
        },
        {
          "output_type": "display_data",
          "data": {
            "text/html": [
              "<pre>| 69925        | 5.6e+09 | 87.4062     | 14m 3s       |</pre>"
            ],
            "text/plain": [
              "| 69925        | 5.6e+09 | 87.4062     | 14m 3s       |"
            ]
          },
          "metadata": {
            "tags": []
          }
        },
        {
          "output_type": "display_data",
          "data": {
            "text/html": [
              "<pre>| 70178        | 5.6e+09 | 87.7225     | 14m 6s       |</pre>"
            ],
            "text/plain": [
              "| 70178        | 5.6e+09 | 87.7225     | 14m 6s       |"
            ]
          },
          "metadata": {
            "tags": []
          }
        },
        {
          "output_type": "display_data",
          "data": {
            "text/html": [
              "<pre>| 70423        | 5.6e+09 | 88.0288     | 14m 9s       |</pre>"
            ],
            "text/plain": [
              "| 70423        | 5.6e+09 | 88.0288     | 14m 9s       |"
            ]
          },
          "metadata": {
            "tags": []
          }
        },
        {
          "output_type": "display_data",
          "data": {
            "text/html": [
              "<pre>| 70674        | 5.7e+09 | 88.3425     | 14m 12s      |</pre>"
            ],
            "text/plain": [
              "| 70674        | 5.7e+09 | 88.3425     | 14m 12s      |"
            ]
          },
          "metadata": {
            "tags": []
          }
        },
        {
          "output_type": "display_data",
          "data": {
            "text/html": [
              "<pre>| 70926        | 5.7e+09 | 88.6575     | 14m 15s      |</pre>"
            ],
            "text/plain": [
              "| 70926        | 5.7e+09 | 88.6575     | 14m 15s      |"
            ]
          },
          "metadata": {
            "tags": []
          }
        },
        {
          "output_type": "display_data",
          "data": {
            "text/html": [
              "<pre>| 71177        | 5.7e+09 | 88.9712     | 14m 18s      |</pre>"
            ],
            "text/plain": [
              "| 71177        | 5.7e+09 | 88.9712     | 14m 18s      |"
            ]
          },
          "metadata": {
            "tags": []
          }
        },
        {
          "output_type": "display_data",
          "data": {
            "text/html": [
              "<pre>| 71429        | 5.7e+09 | 89.2862     | 14m 21s      |</pre>"
            ],
            "text/plain": [
              "| 71429        | 5.7e+09 | 89.2862     | 14m 21s      |"
            ]
          },
          "metadata": {
            "tags": []
          }
        },
        {
          "output_type": "display_data",
          "data": {
            "text/html": [
              "<pre>| 71682        | 5.7e+09 | 89.6025     | 14m 24s      |</pre>"
            ],
            "text/plain": [
              "| 71682        | 5.7e+09 | 89.6025     | 14m 24s      |"
            ]
          },
          "metadata": {
            "tags": []
          }
        },
        {
          "output_type": "display_data",
          "data": {
            "text/html": [
              "<pre>| 71943        | 5.8e+09 | 89.9287     | 14m 27s      |</pre>"
            ],
            "text/plain": [
              "| 71943        | 5.8e+09 | 89.9287     | 14m 27s      |"
            ]
          },
          "metadata": {
            "tags": []
          }
        },
        {
          "output_type": "display_data",
          "data": {
            "text/html": [
              "<pre>| 72195        | 5.8e+09 | 90.2438     | 14m 30s      |</pre>"
            ],
            "text/plain": [
              "| 72195        | 5.8e+09 | 90.2438     | 14m 30s      |"
            ]
          },
          "metadata": {
            "tags": []
          }
        },
        {
          "output_type": "display_data",
          "data": {
            "text/html": [
              "<pre>| 72449        | 5.8e+09 | 90.5613     | 14m 33s      |</pre>"
            ],
            "text/plain": [
              "| 72449        | 5.8e+09 | 90.5613     | 14m 33s      |"
            ]
          },
          "metadata": {
            "tags": []
          }
        },
        {
          "output_type": "display_data",
          "data": {
            "text/html": [
              "<pre>| 72704        | 5.8e+09 | 90.88       | 14m 36s      |</pre>"
            ],
            "text/plain": [
              "| 72704        | 5.8e+09 | 90.88       | 14m 36s      |"
            ]
          },
          "metadata": {
            "tags": []
          }
        },
        {
          "output_type": "display_data",
          "data": {
            "text/html": [
              "<pre>| 72963        | 5.8e+09 | 91.2037     | 14m 39s      |</pre>"
            ],
            "text/plain": [
              "| 72963        | 5.8e+09 | 91.2037     | 14m 39s      |"
            ]
          },
          "metadata": {
            "tags": []
          }
        },
        {
          "output_type": "display_data",
          "data": {
            "text/html": [
              "<pre>| 73212        | 5.9e+09 | 91.515      | 14m 42s      |</pre>"
            ],
            "text/plain": [
              "| 73212        | 5.9e+09 | 91.515      | 14m 42s      |"
            ]
          },
          "metadata": {
            "tags": []
          }
        },
        {
          "output_type": "display_data",
          "data": {
            "text/html": [
              "<pre>| 73465        | 5.9e+09 | 91.8312     | 14m 45s      |</pre>"
            ],
            "text/plain": [
              "| 73465        | 5.9e+09 | 91.8312     | 14m 45s      |"
            ]
          },
          "metadata": {
            "tags": []
          }
        },
        {
          "output_type": "display_data",
          "data": {
            "text/html": [
              "<pre>| 73717        | 5.9e+09 | 92.1462     | 14m 48s      |</pre>"
            ],
            "text/plain": [
              "| 73717        | 5.9e+09 | 92.1462     | 14m 48s      |"
            ]
          },
          "metadata": {
            "tags": []
          }
        },
        {
          "output_type": "display_data",
          "data": {
            "text/html": [
              "<pre>| 73968        | 5.9e+09 | 92.46       | 14m 51s      |</pre>"
            ],
            "text/plain": [
              "| 73968        | 5.9e+09 | 92.46       | 14m 51s      |"
            ]
          },
          "metadata": {
            "tags": []
          }
        },
        {
          "output_type": "display_data",
          "data": {
            "text/html": [
              "<pre>| 74221        | 5.9e+09 | 92.7763     | 14m 54s      |</pre>"
            ],
            "text/plain": [
              "| 74221        | 5.9e+09 | 92.7763     | 14m 54s      |"
            ]
          },
          "metadata": {
            "tags": []
          }
        },
        {
          "output_type": "display_data",
          "data": {
            "text/html": [
              "<pre>| 74473        | 6e+09   | 93.0913     | 14m 57s      |</pre>"
            ],
            "text/plain": [
              "| 74473        | 6e+09   | 93.0913     | 14m 57s      |"
            ]
          },
          "metadata": {
            "tags": []
          }
        },
        {
          "output_type": "display_data",
          "data": {
            "text/html": [
              "<pre>| 74723        | 6e+09   | 93.4038     | 15m 0s       |</pre>"
            ],
            "text/plain": [
              "| 74723        | 6e+09   | 93.4038     | 15m 0s       |"
            ]
          },
          "metadata": {
            "tags": []
          }
        },
        {
          "output_type": "display_data",
          "data": {
            "text/html": [
              "<pre>| 74983        | 6e+09   | 93.7288     | 15m 3s       |</pre>"
            ],
            "text/plain": [
              "| 74983        | 6e+09   | 93.7288     | 15m 3s       |"
            ]
          },
          "metadata": {
            "tags": []
          }
        },
        {
          "output_type": "display_data",
          "data": {
            "text/html": [
              "<pre>| 75237        | 6e+09   | 94.0463     | 15m 6s       |</pre>"
            ],
            "text/plain": [
              "| 75237        | 6e+09   | 94.0463     | 15m 6s       |"
            ]
          },
          "metadata": {
            "tags": []
          }
        },
        {
          "output_type": "display_data",
          "data": {
            "text/html": [
              "<pre>| 75490        | 6e+09   | 94.3625     | 15m 9s       |</pre>"
            ],
            "text/plain": [
              "| 75490        | 6e+09   | 94.3625     | 15m 9s       |"
            ]
          },
          "metadata": {
            "tags": []
          }
        },
        {
          "output_type": "display_data",
          "data": {
            "text/html": [
              "<pre>| 75750        | 6.1e+09 | 94.6875     | 15m 12s      |</pre>"
            ],
            "text/plain": [
              "| 75750        | 6.1e+09 | 94.6875     | 15m 12s      |"
            ]
          },
          "metadata": {
            "tags": []
          }
        },
        {
          "output_type": "display_data",
          "data": {
            "text/html": [
              "<pre>| 76003        | 6.1e+09 | 95.0037     | 15m 15s      |</pre>"
            ],
            "text/plain": [
              "| 76003        | 6.1e+09 | 95.0037     | 15m 15s      |"
            ]
          },
          "metadata": {
            "tags": []
          }
        },
        {
          "output_type": "display_data",
          "data": {
            "text/html": [
              "<pre>| 76258        | 6.1e+09 | 95.3225     | 15m 18s      |</pre>"
            ],
            "text/plain": [
              "| 76258        | 6.1e+09 | 95.3225     | 15m 18s      |"
            ]
          },
          "metadata": {
            "tags": []
          }
        },
        {
          "output_type": "display_data",
          "data": {
            "text/html": [
              "<pre>| 76508        | 6.1e+09 | 95.635      | 15m 21s      |</pre>"
            ],
            "text/plain": [
              "| 76508        | 6.1e+09 | 95.635      | 15m 21s      |"
            ]
          },
          "metadata": {
            "tags": []
          }
        },
        {
          "output_type": "display_data",
          "data": {
            "text/html": [
              "<pre>| 76758        | 6.1e+09 | 95.9475     | 15m 24s      |</pre>"
            ],
            "text/plain": [
              "| 76758        | 6.1e+09 | 95.9475     | 15m 24s      |"
            ]
          },
          "metadata": {
            "tags": []
          }
        },
        {
          "output_type": "display_data",
          "data": {
            "text/html": [
              "<pre>| 77014        | 6.2e+09 | 96.2675     | 15m 27s      |</pre>"
            ],
            "text/plain": [
              "| 77014        | 6.2e+09 | 96.2675     | 15m 27s      |"
            ]
          },
          "metadata": {
            "tags": []
          }
        },
        {
          "output_type": "display_data",
          "data": {
            "text/html": [
              "<pre>| 77272        | 6.2e+09 | 96.59       | 15m 30s      |</pre>"
            ],
            "text/plain": [
              "| 77272        | 6.2e+09 | 96.59       | 15m 30s      |"
            ]
          },
          "metadata": {
            "tags": []
          }
        },
        {
          "output_type": "display_data",
          "data": {
            "text/html": [
              "<pre>| 77522        | 6.2e+09 | 96.9025     | 15m 33s      |</pre>"
            ],
            "text/plain": [
              "| 77522        | 6.2e+09 | 96.9025     | 15m 33s      |"
            ]
          },
          "metadata": {
            "tags": []
          }
        },
        {
          "output_type": "display_data",
          "data": {
            "text/html": [
              "<pre>| 77775        | 6.2e+09 | 97.2188     | 15m 36s      |</pre>"
            ],
            "text/plain": [
              "| 77775        | 6.2e+09 | 97.2188     | 15m 36s      |"
            ]
          },
          "metadata": {
            "tags": []
          }
        },
        {
          "output_type": "display_data",
          "data": {
            "text/html": [
              "<pre>| 78028        | 6.2e+09 | 97.535      | 15m 39s      |</pre>"
            ],
            "text/plain": [
              "| 78028        | 6.2e+09 | 97.535      | 15m 39s      |"
            ]
          },
          "metadata": {
            "tags": []
          }
        },
        {
          "output_type": "display_data",
          "data": {
            "text/html": [
              "<pre>| 78279        | 6.3e+09 | 97.8487     | 15m 42s      |</pre>"
            ],
            "text/plain": [
              "| 78279        | 6.3e+09 | 97.8487     | 15m 42s      |"
            ]
          },
          "metadata": {
            "tags": []
          }
        },
        {
          "output_type": "display_data",
          "data": {
            "text/html": [
              "<pre>| 78533        | 6.3e+09 | 98.1663     | 15m 45s      |</pre>"
            ],
            "text/plain": [
              "| 78533        | 6.3e+09 | 98.1663     | 15m 45s      |"
            ]
          },
          "metadata": {
            "tags": []
          }
        },
        {
          "output_type": "display_data",
          "data": {
            "text/html": [
              "<pre>| 78780        | 6.3e+09 | 98.475      | 15m 48s      |</pre>"
            ],
            "text/plain": [
              "| 78780        | 6.3e+09 | 98.475      | 15m 48s      |"
            ]
          },
          "metadata": {
            "tags": []
          }
        },
        {
          "output_type": "display_data",
          "data": {
            "text/html": [
              "<pre>| 79029        | 6.3e+09 | 98.7862     | 15m 51s      |</pre>"
            ],
            "text/plain": [
              "| 79029        | 6.3e+09 | 98.7862     | 15m 51s      |"
            ]
          },
          "metadata": {
            "tags": []
          }
        },
        {
          "output_type": "display_data",
          "data": {
            "text/html": [
              "<pre>| 79282        | 6.3e+09 | 99.1025     | 15m 54s      |</pre>"
            ],
            "text/plain": [
              "| 79282        | 6.3e+09 | 99.1025     | 15m 54s      |"
            ]
          },
          "metadata": {
            "tags": []
          }
        },
        {
          "output_type": "display_data",
          "data": {
            "text/html": [
              "<pre>| 79532        | 6.4e+09 | 99.415      | 15m 57s      |</pre>"
            ],
            "text/plain": [
              "| 79532        | 6.4e+09 | 99.415      | 15m 57s      |"
            ]
          },
          "metadata": {
            "tags": []
          }
        },
        {
          "output_type": "display_data",
          "data": {
            "text/html": [
              "<pre>| 79791        | 6.4e+09 | 99.7387     | 16m 0s       |</pre>"
            ],
            "text/plain": [
              "| 79791        | 6.4e+09 | 99.7387     | 16m 0s       |"
            ]
          },
          "metadata": {
            "tags": []
          }
        },
        {
          "output_type": "display_data",
          "data": {
            "text/html": [
              "<pre>| 79991        | 6.4e+09 | 99.9887     | 16m 3s       |</pre>"
            ],
            "text/plain": [
              "| 79991        | 6.4e+09 | 99.9887     | 16m 3s       |"
            ]
          },
          "metadata": {
            "tags": []
          }
        },
        {
          "output_type": "display_data",
          "data": {
            "text/html": [
              "<pre>| Done         |         | 100         | 16m 3s       |</pre>"
            ],
            "text/plain": [
              "| Done         |         | 100         | 16m 3s       |"
            ]
          },
          "metadata": {
            "tags": []
          }
        },
        {
          "output_type": "display_data",
          "data": {
            "text/html": [
              "<pre>+--------------+---------+-------------+--------------+</pre>"
            ],
            "text/plain": [
              "+--------------+---------+-------------+--------------+"
            ]
          },
          "metadata": {
            "tags": []
          }
        },
        {
          "output_type": "display_data",
          "data": {
            "text/html": [
              "<pre>Preparing data set.</pre>"
            ],
            "text/plain": [
              "Preparing data set."
            ]
          },
          "metadata": {
            "tags": []
          }
        },
        {
          "output_type": "display_data",
          "data": {
            "text/html": [
              "<pre>    Data has 0 observations with 0 users and 1650 items.</pre>"
            ],
            "text/plain": [
              "    Data has 0 observations with 0 users and 1650 items."
            ]
          },
          "metadata": {
            "tags": []
          }
        },
        {
          "output_type": "display_data",
          "data": {
            "text/html": [
              "<pre>    Data prepared in: 5.85761s</pre>"
            ],
            "text/plain": [
              "    Data prepared in: 5.85761s"
            ]
          },
          "metadata": {
            "tags": []
          }
        },
        {
          "output_type": "display_data",
          "data": {
            "text/html": [
              "<pre>Loading user-provided nearest items.</pre>"
            ],
            "text/plain": [
              "Loading user-provided nearest items."
            ]
          },
          "metadata": {
            "tags": []
          }
        },
        {
          "output_type": "display_data",
          "data": {
            "text/html": [
              "<pre>Generating candidate set for working with new users.</pre>"
            ],
            "text/plain": [
              "Generating candidate set for working with new users."
            ]
          },
          "metadata": {
            "tags": []
          }
        },
        {
          "output_type": "display_data",
          "data": {
            "text/html": [
              "<pre>Finished training in 0.325841s</pre>"
            ],
            "text/plain": [
              "Finished training in 0.325841s"
            ]
          },
          "metadata": {
            "tags": []
          }
        }
      ]
    },
    {
      "cell_type": "code",
      "metadata": {
        "colab_type": "code",
        "id": "BNxvfK9x7Ujq",
        "outputId": "eb7bbe44-043d-486c-a387-a0cb1b555635",
        "colab": {
          "base_uri": "https://localhost:8080/",
          "height": 67
        }
      },
      "source": [
        "# mae (סעיף ב)\n",
        "print(\"Matrix Factorization MAE: %s\" %mean_absolute_error(test_turi['X3'], MFpredictions))\n",
        "print(\"Item Similarity MAE: %s\" %mean_absolute_error(test_turi['X3'], ISpredictions))\n",
        "print(\"Item Content MAE: %s\" %mean_absolute_error(test_turi['X3'], ICpredictions))\n"
      ],
      "execution_count": 0,
      "outputs": [
        {
          "output_type": "stream",
          "text": [
            "Matrix Factorization MAE: 0.9986822601899435\n",
            "Item Similarity MAE: 0.8258180688431696\n",
            "Item Content MAE: 3.5359\n"
          ],
          "name": "stdout"
        }
      ]
    },
    {
      "cell_type": "markdown",
      "metadata": {
        "colab_type": "text",
        "id": "ad5nocSBZh0N"
      },
      "source": [
        "# Exercise 4"
      ]
    },
    {
      "cell_type": "code",
      "metadata": {
        "colab_type": "code",
        "id": "lasXVpvJZnFM",
        "outputId": "d9d3bd68-d2fb-4a35-8a63-81d772ece3df",
        "colab": {
          "base_uri": "https://localhost:8080/",
          "height": 34
        }
      },
      "source": [
        "!pip install -U -q PyDrive ## you will have install for every colab session\n",
        "\n",
        "from pydrive.auth import GoogleAuth\n",
        "from pydrive.drive import GoogleDrive\n",
        "from google.colab import auth\n",
        "from oauth2client.client import GoogleCredentials\n",
        "from google.colab import files\n",
        "\n",
        "# 1. Authenticate and create the PyDrive client.\n",
        "auth.authenticate_user()\n",
        "gauth = GoogleAuth()\n",
        "gauth.credentials = GoogleCredentials.get_application_default()\n",
        "drive = GoogleDrive(gauth)\n",
        "\n",
        "from google.colab import drive\n",
        "drive.mount('/content/drive')"
      ],
      "execution_count": 0,
      "outputs": [
        {
          "output_type": "stream",
          "text": [
            "Drive already mounted at /content/drive; to attempt to forcibly remount, call drive.mount(\"/content/drive\", force_remount=True).\n"
          ],
          "name": "stdout"
        }
      ]
    },
    {
      "cell_type": "code",
      "metadata": {
        "colab_type": "code",
        "id": "k2NwBXAjb1ge",
        "colab": {}
      },
      "source": [
        "MOVIELENS_DIR = ''\n",
        "# MOVIES_FILE = MOVIELENS_DIR + 'u.item'\n",
        "TRAIN_RATING_DATA_FILE = MOVIELENS_DIR + 'u1.base'\n",
        "TEST_RATING_DATA_FILE = MOVIELENS_DIR + 'u1.test'\n",
        "USERS_FILE = MOVIELENS_DIR + 'u.user'\n",
        "\n",
        "train_ratings = pd.read_csv(TRAIN_RATING_DATA_FILE, \n",
        "                    sep='\\t', \n",
        "                    engine='python', \n",
        "                    encoding='latin-1',\n",
        "                    names=['userid', 'movieid', 'rating', 'timestamp'])\n",
        "train_ratings['user_emb_id'] = train_ratings['userid'] - 1\n",
        "train_ratings['movie_emb_id'] = train_ratings['movieid'] - 1\n",
        "\n",
        "test_ratings = pd.read_csv(TEST_RATING_DATA_FILE, \n",
        "                    sep='\\t', \n",
        "                    engine='python', \n",
        "                    encoding='latin-1',\n",
        "                    names=['userid', 'movieid', 'rating', 'timestamp'])\n",
        "test_ratings['user_emb_id'] = test_ratings['userid'] - 1\n",
        "test_ratings['movie_emb_id'] = test_ratings['movieid'] - 1\n",
        "\n",
        "# users = pd.read_csv(USERS_FILE, \n",
        "#                     sep='|', \n",
        "#                     engine='python', \n",
        "#                     encoding='latin-1',\n",
        "#                     names=['userid', 'age', 'gender', 'occupation','zipcode'])"
      ],
      "execution_count": 0,
      "outputs": []
    },
    {
      "cell_type": "code",
      "metadata": {
        "colab_type": "code",
        "id": "ol9Kvr9_jB0u",
        "colab": {}
      },
      "source": [
        "train_users = train_ratings['user_emb_id'].values\n",
        "test_users = test_ratings['user_emb_id'].values\n",
        "\n",
        "train_movies = train_ratings['movie_emb_id'].values\n",
        "test_movies = test_ratings['movie_emb_id'].values\n",
        "\n",
        "train_ratings_vals = train_ratings['rating'].values\n",
        "test_ratings_vals = test_ratings['rating'].values"
      ],
      "execution_count": 0,
      "outputs": []
    },
    {
      "cell_type": "code",
      "metadata": {
        "colab_type": "code",
        "id": "AaJ_JDDSn158",
        "colab": {}
      },
      "source": [
        "def get_ncf_model(num_users, num_items, latent_dim,hidden_dim,do):\n",
        "    # Input variables\n",
        "    user_input = Input(shape=(1,), dtype='int32', name = 'user_input')\n",
        "    item_input = Input(shape=(1,), dtype='int32', name = 'item_input')\n",
        "\n",
        "    MF_Embedding_User = Embedding(input_dim = num_users + 1, output_dim = latent_dim, name = 'user_embedding', input_length=1)\n",
        "    MF_Embedding_Item = Embedding(input_dim = num_items + 1, output_dim = latent_dim, name = 'item_embedding', input_length=1)   \n",
        "    \n",
        "    # Crucial to flatten an embedding vector!\n",
        "    user_latent = Flatten()(MF_Embedding_User(user_input))\n",
        "    item_latent = Flatten()(MF_Embedding_Item(item_input))\n",
        "    \n",
        "    # Element-wise product of user and item embeddings\n",
        "    user_item = Concatenate()([user_latent, item_latent])\n",
        "    hidden1 = Dense(hidden_dim, activation='relu')(user_item)\n",
        "    drop  = Dropout(do)(hidden1)\n",
        "    prediction = Dense(1, activation='relu', kernel_initializer='lecun_uniform', name = 'prediction')(drop)\n",
        "    \n",
        "    \n",
        "    model = Model(input=[user_input, item_input], output=prediction)\n",
        "\n",
        "    print(\"ncf model: \")\n",
        "    model.summary()\n",
        "\n",
        "    return model"
      ],
      "execution_count": 0,
      "outputs": []
    },
    {
      "cell_type": "code",
      "metadata": {
        "colab_type": "code",
        "id": "6pJgtPP0t-oN",
        "colab": {}
      },
      "source": [
        "# consts\n",
        "do = 0.5\n",
        "K_LATENT = 20\n",
        "hidden_dim = 10\n",
        "model_check_point_filepath = '_ncf_'+str(do)+'_'+str(K_LATENT)+'_'+str(hidden_dim)+'.h5'\n",
        "\n",
        "training_data = [train_users, train_movies]\n",
        "valadation_data = ([test_users, test_movies], test_ratings_vals)\n",
        "\n",
        "# data preprocess\n",
        "user_max_id = train_ratings['userid'].drop_duplicates().max()\n",
        "movie_max_id = train_ratings['movie_emb_id'].drop_duplicates().max()\n",
        "\n",
        "def get_history_ncf(loss,optimizer):\n",
        "  NCF_model = get_ncf_model(user_max_id,movie_max_id,K_LATENT,hidden_dim,do)\n",
        "  NCF_model.compile(loss=loss,optimizer=optimizer,metrics=['mae'])\n",
        "  callbacks = [EarlyStopping('val_loss', patience=5), \n",
        "             ModelCheckpoint(model_check_point_filepath, save_best_only=True)]\n",
        "  return NCF_model.fit(training_data, train_ratings_vals, nb_epoch=100, validation_data=valadation_data, verbose=1, callbacks=callbacks, batch_size = 32)"
      ],
      "execution_count": 0,
      "outputs": []
    },
    {
      "cell_type": "code",
      "metadata": {
        "colab_type": "code",
        "id": "8yEx1d9TEL0M",
        "outputId": "d7d7b3ba-6bfe-43f5-c827-b366fcdf191e",
        "colab": {
          "base_uri": "https://localhost:8080/",
          "height": 1000
        }
      },
      "source": [
        "history_ncf = get_history_ncf('mean_absolute_error',RMSprop())\n",
        "np.mean(history_ncf.history['val_mae'])"
      ],
      "execution_count": 0,
      "outputs": [
        {
          "output_type": "stream",
          "text": [
            "/usr/local/lib/python3.6/dist-packages/ipykernel_launcher.py:20: UserWarning: Update your `Model` call to the Keras 2 API: `Model(inputs=[<tf.Tenso..., outputs=Tensor(\"pr...)`\n",
            "/usr/local/lib/python3.6/dist-packages/ipykernel_launcher.py:19: UserWarning: The `nb_epoch` argument in `fit` has been renamed `epochs`.\n",
            "/usr/local/lib/python3.6/dist-packages/tensorflow_core/python/framework/indexed_slices.py:424: UserWarning: Converting sparse IndexedSlices to a dense Tensor of unknown shape. This may consume a large amount of memory.\n",
            "  \"Converting sparse IndexedSlices to a dense Tensor of unknown shape. \"\n"
          ],
          "name": "stderr"
        },
        {
          "output_type": "stream",
          "text": [
            "ncf model: \n",
            "Model: \"model_2\"\n",
            "__________________________________________________________________________________________________\n",
            "Layer (type)                    Output Shape         Param #     Connected to                     \n",
            "==================================================================================================\n",
            "user_input (InputLayer)         (None, 1)            0                                            \n",
            "__________________________________________________________________________________________________\n",
            "item_input (InputLayer)         (None, 1)            0                                            \n",
            "__________________________________________________________________________________________________\n",
            "user_embedding (Embedding)      (None, 1, 20)        18880       user_input[0][0]                 \n",
            "__________________________________________________________________________________________________\n",
            "item_embedding (Embedding)      (None, 1, 20)        33640       item_input[0][0]                 \n",
            "__________________________________________________________________________________________________\n",
            "flatten_3 (Flatten)             (None, 20)           0           user_embedding[0][0]             \n",
            "__________________________________________________________________________________________________\n",
            "flatten_4 (Flatten)             (None, 20)           0           item_embedding[0][0]             \n",
            "__________________________________________________________________________________________________\n",
            "concatenate_2 (Concatenate)     (None, 40)           0           flatten_3[0][0]                  \n",
            "                                                                 flatten_4[0][0]                  \n",
            "__________________________________________________________________________________________________\n",
            "dense_2 (Dense)                 (None, 10)           410         concatenate_2[0][0]              \n",
            "__________________________________________________________________________________________________\n",
            "dropout_2 (Dropout)             (None, 10)           0           dense_2[0][0]                    \n",
            "__________________________________________________________________________________________________\n",
            "prediction (Dense)              (None, 1)            11          dropout_2[0][0]                  \n",
            "==================================================================================================\n",
            "Total params: 52,941\n",
            "Trainable params: 52,941\n",
            "Non-trainable params: 0\n",
            "__________________________________________________________________________________________________\n",
            "Train on 80000 samples, validate on 20000 samples\n",
            "Epoch 1/100\n",
            "80000/80000 [==============================] - 5s 60us/step - loss: 1.3183 - mae: 1.3183 - val_loss: 0.8245 - val_mae: 0.8245\n",
            "Epoch 2/100\n",
            "80000/80000 [==============================] - 5s 58us/step - loss: 0.8522 - mae: 0.8522 - val_loss: 0.7769 - val_mae: 0.7769\n",
            "Epoch 3/100\n",
            "80000/80000 [==============================] - 5s 58us/step - loss: 0.7801 - mae: 0.7801 - val_loss: 0.7609 - val_mae: 0.7609\n",
            "Epoch 4/100\n",
            "80000/80000 [==============================] - 5s 57us/step - loss: 0.7650 - mae: 0.7650 - val_loss: 0.7519 - val_mae: 0.7519\n",
            "Epoch 5/100\n",
            "80000/80000 [==============================] - 5s 58us/step - loss: 0.7566 - mae: 0.7566 - val_loss: 0.7492 - val_mae: 0.7492\n",
            "Epoch 6/100\n",
            "80000/80000 [==============================] - 5s 57us/step - loss: 0.7527 - mae: 0.7527 - val_loss: 0.7487 - val_mae: 0.7487\n",
            "Epoch 7/100\n",
            "80000/80000 [==============================] - 5s 58us/step - loss: 0.7506 - mae: 0.7506 - val_loss: 0.7452 - val_mae: 0.7452\n",
            "Epoch 8/100\n",
            "80000/80000 [==============================] - 5s 57us/step - loss: 0.7493 - mae: 0.7493 - val_loss: 0.7433 - val_mae: 0.7433\n",
            "Epoch 9/100\n",
            "80000/80000 [==============================] - 5s 58us/step - loss: 0.7484 - mae: 0.7484 - val_loss: 0.7446 - val_mae: 0.7446\n",
            "Epoch 10/100\n",
            "80000/80000 [==============================] - 5s 57us/step - loss: 0.7470 - mae: 0.7470 - val_loss: 0.7441 - val_mae: 0.7441\n",
            "Epoch 11/100\n",
            "80000/80000 [==============================] - 5s 57us/step - loss: 0.7472 - mae: 0.7472 - val_loss: 0.7427 - val_mae: 0.7427\n",
            "Epoch 12/100\n",
            "80000/80000 [==============================] - 5s 58us/step - loss: 0.7458 - mae: 0.7458 - val_loss: 0.7435 - val_mae: 0.7435\n",
            "Epoch 13/100\n",
            "80000/80000 [==============================] - 5s 58us/step - loss: 0.7446 - mae: 0.7446 - val_loss: 0.7429 - val_mae: 0.7429\n",
            "Epoch 14/100\n",
            "80000/80000 [==============================] - 5s 58us/step - loss: 0.7445 - mae: 0.7445 - val_loss: 0.7426 - val_mae: 0.7426\n",
            "Epoch 15/100\n",
            "80000/80000 [==============================] - 5s 58us/step - loss: 0.7455 - mae: 0.7455 - val_loss: 0.7414 - val_mae: 0.7414\n",
            "Epoch 16/100\n",
            "80000/80000 [==============================] - 5s 57us/step - loss: 0.7446 - mae: 0.7446 - val_loss: 0.7469 - val_mae: 0.7469\n",
            "Epoch 17/100\n",
            "80000/80000 [==============================] - 5s 57us/step - loss: 0.7420 - mae: 0.7420 - val_loss: 0.7444 - val_mae: 0.7444\n",
            "Epoch 18/100\n",
            "80000/80000 [==============================] - 5s 58us/step - loss: 0.7421 - mae: 0.7421 - val_loss: 0.7433 - val_mae: 0.7433\n",
            "Epoch 19/100\n",
            "80000/80000 [==============================] - 5s 57us/step - loss: 0.7417 - mae: 0.7417 - val_loss: 0.7411 - val_mae: 0.7411\n",
            "Epoch 20/100\n",
            "80000/80000 [==============================] - 5s 58us/step - loss: 0.7413 - mae: 0.7413 - val_loss: 0.7447 - val_mae: 0.7447\n",
            "Epoch 21/100\n",
            "80000/80000 [==============================] - 5s 58us/step - loss: 0.7413 - mae: 0.7413 - val_loss: 0.7434 - val_mae: 0.7434\n",
            "Epoch 22/100\n",
            "80000/80000 [==============================] - 5s 57us/step - loss: 0.7419 - mae: 0.7419 - val_loss: 0.7392 - val_mae: 0.7392\n",
            "Epoch 23/100\n",
            "80000/80000 [==============================] - 5s 58us/step - loss: 0.7416 - mae: 0.7416 - val_loss: 0.7422 - val_mae: 0.7422\n",
            "Epoch 24/100\n",
            "80000/80000 [==============================] - 5s 58us/step - loss: 0.7404 - mae: 0.7404 - val_loss: 0.7442 - val_mae: 0.7442\n",
            "Epoch 25/100\n",
            "80000/80000 [==============================] - 5s 58us/step - loss: 0.7406 - mae: 0.7406 - val_loss: 0.7395 - val_mae: 0.7395\n",
            "Epoch 26/100\n",
            "80000/80000 [==============================] - 5s 57us/step - loss: 0.7400 - mae: 0.7400 - val_loss: 0.7443 - val_mae: 0.7443\n",
            "Epoch 27/100\n",
            "80000/80000 [==============================] - 5s 58us/step - loss: 0.7411 - mae: 0.7411 - val_loss: 0.7406 - val_mae: 0.7406\n"
          ],
          "name": "stdout"
        },
        {
          "output_type": "execute_result",
          "data": {
            "text/plain": [
              "0.7487449204480207"
            ]
          },
          "metadata": {
            "tags": []
          },
          "execution_count": 53
        }
      ]
    },
    {
      "cell_type": "code",
      "metadata": {
        "colab_type": "code",
        "id": "am59D14lzqYQ",
        "outputId": "0dbfe093-576a-4d34-b569-20fb923fc3f0",
        "colab": {
          "base_uri": "https://localhost:8080/",
          "height": 1000
        }
      },
      "source": [
        "history_ncf = get_history_ncf('mse',Adamax())\n",
        "np.mean(history_ncf.history['val_mae'])"
      ],
      "execution_count": 0,
      "outputs": [
        {
          "output_type": "stream",
          "text": [
            "ncf model: \n",
            "Model: \"model_3\"\n",
            "__________________________________________________________________________________________________\n",
            "Layer (type)                    Output Shape         Param #     Connected to                     \n",
            "==================================================================================================\n",
            "user_input (InputLayer)         (None, 1)            0                                            \n",
            "__________________________________________________________________________________________________\n",
            "item_input (InputLayer)         (None, 1)            0                                            \n",
            "__________________________________________________________________________________________________\n",
            "user_embedding (Embedding)      (None, 1, 20)        18880       user_input[0][0]                 \n",
            "__________________________________________________________________________________________________\n",
            "item_embedding (Embedding)      (None, 1, 20)        33640       item_input[0][0]                 \n",
            "__________________________________________________________________________________________________\n",
            "flatten_5 (Flatten)             (None, 20)           0           user_embedding[0][0]             \n",
            "__________________________________________________________________________________________________\n",
            "flatten_6 (Flatten)             (None, 20)           0           item_embedding[0][0]             \n",
            "__________________________________________________________________________________________________\n",
            "concatenate_3 (Concatenate)     (None, 40)           0           flatten_5[0][0]                  \n",
            "                                                                 flatten_6[0][0]                  \n",
            "__________________________________________________________________________________________________\n",
            "dense_3 (Dense)                 (None, 10)           410         concatenate_3[0][0]              \n",
            "__________________________________________________________________________________________________\n",
            "dropout_3 (Dropout)             (None, 10)           0           dense_3[0][0]                    \n",
            "__________________________________________________________________________________________________\n",
            "prediction (Dense)              (None, 1)            11          dropout_3[0][0]                  \n",
            "==================================================================================================\n",
            "Total params: 52,941\n",
            "Trainable params: 52,941\n",
            "Non-trainable params: 0\n",
            "__________________________________________________________________________________________________\n"
          ],
          "name": "stdout"
        },
        {
          "output_type": "stream",
          "text": [
            "/usr/local/lib/python3.6/dist-packages/ipykernel_launcher.py:20: UserWarning: Update your `Model` call to the Keras 2 API: `Model(inputs=[<tf.Tenso..., outputs=Tensor(\"pr...)`\n",
            "/usr/local/lib/python3.6/dist-packages/ipykernel_launcher.py:19: UserWarning: The `nb_epoch` argument in `fit` has been renamed `epochs`.\n",
            "/usr/local/lib/python3.6/dist-packages/tensorflow_core/python/framework/indexed_slices.py:424: UserWarning: Converting sparse IndexedSlices to a dense Tensor of unknown shape. This may consume a large amount of memory.\n",
            "  \"Converting sparse IndexedSlices to a dense Tensor of unknown shape. \"\n"
          ],
          "name": "stderr"
        },
        {
          "output_type": "stream",
          "text": [
            "Train on 80000 samples, validate on 20000 samples\n",
            "Epoch 1/100\n",
            "80000/80000 [==============================] - 5s 65us/step - loss: 2.8861 - mae: 1.3497 - val_loss: 1.0827 - val_mae: 0.8592\n",
            "Epoch 2/100\n",
            "80000/80000 [==============================] - 5s 58us/step - loss: 1.1947 - mae: 0.8795 - val_loss: 0.9838 - val_mae: 0.7997\n",
            "Epoch 3/100\n",
            "80000/80000 [==============================] - 5s 56us/step - loss: 0.9893 - mae: 0.7958 - val_loss: 0.9490 - val_mae: 0.7746\n",
            "Epoch 4/100\n",
            "80000/80000 [==============================] - 4s 56us/step - loss: 0.9594 - mae: 0.7848 - val_loss: 0.9450 - val_mae: 0.7746\n",
            "Epoch 5/100\n",
            "80000/80000 [==============================] - 4s 56us/step - loss: 0.9534 - mae: 0.7815 - val_loss: 0.9382 - val_mae: 0.7738\n",
            "Epoch 6/100\n",
            "80000/80000 [==============================] - 4s 56us/step - loss: 0.9441 - mae: 0.7778 - val_loss: 0.9261 - val_mae: 0.7690\n",
            "Epoch 7/100\n",
            "80000/80000 [==============================] - 5s 57us/step - loss: 0.9237 - mae: 0.7681 - val_loss: 0.9120 - val_mae: 0.7605\n",
            "Epoch 8/100\n",
            "80000/80000 [==============================] - 4s 56us/step - loss: 0.9117 - mae: 0.7622 - val_loss: 0.9087 - val_mae: 0.7585\n",
            "Epoch 9/100\n",
            "80000/80000 [==============================] - 5s 56us/step - loss: 0.9064 - mae: 0.7598 - val_loss: 0.9061 - val_mae: 0.7544\n",
            "Epoch 10/100\n",
            "80000/80000 [==============================] - 5s 57us/step - loss: 0.9048 - mae: 0.7596 - val_loss: 0.9027 - val_mae: 0.7544\n",
            "Epoch 11/100\n",
            "80000/80000 [==============================] - 5s 57us/step - loss: 0.9036 - mae: 0.7590 - val_loss: 0.9035 - val_mae: 0.7552\n",
            "Epoch 12/100\n",
            "80000/80000 [==============================] - 5s 57us/step - loss: 0.8999 - mae: 0.7575 - val_loss: 0.9054 - val_mae: 0.7553\n",
            "Epoch 13/100\n",
            "80000/80000 [==============================] - 4s 56us/step - loss: 0.8994 - mae: 0.7573 - val_loss: 0.8995 - val_mae: 0.7521\n",
            "Epoch 14/100\n",
            "80000/80000 [==============================] - 5s 57us/step - loss: 0.8913 - mae: 0.7536 - val_loss: 0.9011 - val_mae: 0.7545\n",
            "Epoch 15/100\n",
            "80000/80000 [==============================] - 5s 57us/step - loss: 0.8844 - mae: 0.7499 - val_loss: 0.9006 - val_mae: 0.7548\n",
            "Epoch 16/100\n",
            "80000/80000 [==============================] - 4s 56us/step - loss: 0.8850 - mae: 0.7498 - val_loss: 0.8998 - val_mae: 0.7546\n",
            "Epoch 17/100\n",
            "80000/80000 [==============================] - 5s 58us/step - loss: 0.8814 - mae: 0.7492 - val_loss: 0.8988 - val_mae: 0.7531\n",
            "Epoch 18/100\n",
            "80000/80000 [==============================] - 5s 57us/step - loss: 0.8830 - mae: 0.7500 - val_loss: 0.8976 - val_mae: 0.7534\n",
            "Epoch 19/100\n",
            "80000/80000 [==============================] - 5s 57us/step - loss: 0.8813 - mae: 0.7482 - val_loss: 0.9007 - val_mae: 0.7523\n",
            "Epoch 20/100\n",
            "80000/80000 [==============================] - 5s 58us/step - loss: 0.8783 - mae: 0.7464 - val_loss: 0.8967 - val_mae: 0.7509\n",
            "Epoch 21/100\n",
            "80000/80000 [==============================] - 5s 58us/step - loss: 0.8796 - mae: 0.7467 - val_loss: 0.8985 - val_mae: 0.7546\n",
            "Epoch 22/100\n",
            "80000/80000 [==============================] - 5s 58us/step - loss: 0.8771 - mae: 0.7461 - val_loss: 0.8990 - val_mae: 0.7523\n",
            "Epoch 23/100\n",
            "80000/80000 [==============================] - 5s 62us/step - loss: 0.8764 - mae: 0.7460 - val_loss: 0.8963 - val_mae: 0.7502\n",
            "Epoch 24/100\n",
            "80000/80000 [==============================] - 5s 61us/step - loss: 0.8771 - mae: 0.7462 - val_loss: 0.8983 - val_mae: 0.7540\n",
            "Epoch 25/100\n",
            "80000/80000 [==============================] - 4s 56us/step - loss: 0.8764 - mae: 0.7457 - val_loss: 0.8999 - val_mae: 0.7502\n",
            "Epoch 26/100\n",
            "80000/80000 [==============================] - 5s 58us/step - loss: 0.8756 - mae: 0.7457 - val_loss: 0.8963 - val_mae: 0.7500\n",
            "Epoch 27/100\n",
            "80000/80000 [==============================] - 5s 57us/step - loss: 0.8785 - mae: 0.7468 - val_loss: 0.8951 - val_mae: 0.7503\n",
            "Epoch 28/100\n",
            "80000/80000 [==============================] - 5s 58us/step - loss: 0.8768 - mae: 0.7459 - val_loss: 0.8959 - val_mae: 0.7517\n",
            "Epoch 29/100\n",
            "80000/80000 [==============================] - 5s 58us/step - loss: 0.8763 - mae: 0.7449 - val_loss: 0.8965 - val_mae: 0.7530\n",
            "Epoch 30/100\n",
            "80000/80000 [==============================] - 5s 58us/step - loss: 0.8722 - mae: 0.7443 - val_loss: 0.8948 - val_mae: 0.7512\n",
            "Epoch 31/100\n",
            "80000/80000 [==============================] - 5s 57us/step - loss: 0.8725 - mae: 0.7448 - val_loss: 0.8954 - val_mae: 0.7503\n",
            "Epoch 32/100\n",
            "80000/80000 [==============================] - 5s 57us/step - loss: 0.8735 - mae: 0.7446 - val_loss: 0.8949 - val_mae: 0.7499\n",
            "Epoch 33/100\n",
            "80000/80000 [==============================] - 5s 57us/step - loss: 0.8723 - mae: 0.7437 - val_loss: 0.8975 - val_mae: 0.7514\n",
            "Epoch 34/100\n",
            "80000/80000 [==============================] - 4s 56us/step - loss: 0.8714 - mae: 0.7434 - val_loss: 0.8994 - val_mae: 0.7510\n",
            "Epoch 35/100\n",
            "80000/80000 [==============================] - 5s 57us/step - loss: 0.8737 - mae: 0.7448 - val_loss: 0.8992 - val_mae: 0.7546\n"
          ],
          "name": "stdout"
        },
        {
          "output_type": "execute_result",
          "data": {
            "text/plain": [
              "0.759709141935621"
            ]
          },
          "metadata": {
            "tags": []
          },
          "execution_count": 54
        }
      ]
    },
    {
      "cell_type": "code",
      "metadata": {
        "colab_type": "code",
        "id": "qGD9C7kX0cL3",
        "outputId": "1ed4f4ca-7428-41f5-e4d8-8e256ba68e48",
        "colab": {
          "base_uri": "https://localhost:8080/",
          "height": 1000
        }
      },
      "source": [
        "history_ncf = get_history_ncf('mean_absolute_error',Adamax())\n",
        "np.mean(history_ncf.history['val_mae'])"
      ],
      "execution_count": 0,
      "outputs": [
        {
          "output_type": "stream",
          "text": [
            "ncf model: \n",
            "Model: \"model_4\"\n",
            "__________________________________________________________________________________________________\n",
            "Layer (type)                    Output Shape         Param #     Connected to                     \n",
            "==================================================================================================\n",
            "user_input (InputLayer)         (None, 1)            0                                            \n",
            "__________________________________________________________________________________________________\n",
            "item_input (InputLayer)         (None, 1)            0                                            \n",
            "__________________________________________________________________________________________________\n",
            "user_embedding (Embedding)      (None, 1, 20)        18880       user_input[0][0]                 \n",
            "__________________________________________________________________________________________________\n",
            "item_embedding (Embedding)      (None, 1, 20)        33640       item_input[0][0]                 \n",
            "__________________________________________________________________________________________________\n",
            "flatten_7 (Flatten)             (None, 20)           0           user_embedding[0][0]             \n",
            "__________________________________________________________________________________________________\n",
            "flatten_8 (Flatten)             (None, 20)           0           item_embedding[0][0]             \n",
            "__________________________________________________________________________________________________\n",
            "concatenate_4 (Concatenate)     (None, 40)           0           flatten_7[0][0]                  \n",
            "                                                                 flatten_8[0][0]                  \n",
            "__________________________________________________________________________________________________\n",
            "dense_4 (Dense)                 (None, 10)           410         concatenate_4[0][0]              \n",
            "__________________________________________________________________________________________________\n",
            "dropout_4 (Dropout)             (None, 10)           0           dense_4[0][0]                    \n",
            "__________________________________________________________________________________________________\n",
            "prediction (Dense)              (None, 1)            11          dropout_4[0][0]                  \n",
            "==================================================================================================\n",
            "Total params: 52,941\n",
            "Trainable params: 52,941\n",
            "Non-trainable params: 0\n",
            "__________________________________________________________________________________________________\n"
          ],
          "name": "stdout"
        },
        {
          "output_type": "stream",
          "text": [
            "/usr/local/lib/python3.6/dist-packages/ipykernel_launcher.py:20: UserWarning: Update your `Model` call to the Keras 2 API: `Model(inputs=[<tf.Tenso..., outputs=Tensor(\"pr...)`\n",
            "/usr/local/lib/python3.6/dist-packages/ipykernel_launcher.py:19: UserWarning: The `nb_epoch` argument in `fit` has been renamed `epochs`.\n",
            "/usr/local/lib/python3.6/dist-packages/tensorflow_core/python/framework/indexed_slices.py:424: UserWarning: Converting sparse IndexedSlices to a dense Tensor of unknown shape. This may consume a large amount of memory.\n",
            "  \"Converting sparse IndexedSlices to a dense Tensor of unknown shape. \"\n"
          ],
          "name": "stderr"
        },
        {
          "output_type": "stream",
          "text": [
            "Train on 80000 samples, validate on 20000 samples\n",
            "Epoch 1/100\n",
            "80000/80000 [==============================] - 5s 58us/step - loss: 1.2265 - mae: 1.2265 - val_loss: 0.8269 - val_mae: 0.8269\n",
            "Epoch 2/100\n",
            "80000/80000 [==============================] - 5s 57us/step - loss: 0.8732 - mae: 0.8732 - val_loss: 0.7872 - val_mae: 0.7872\n",
            "Epoch 3/100\n",
            "80000/80000 [==============================] - 5s 57us/step - loss: 0.7916 - mae: 0.7916 - val_loss: 0.7696 - val_mae: 0.7696\n",
            "Epoch 4/100\n",
            "80000/80000 [==============================] - 5s 58us/step - loss: 0.7727 - mae: 0.7727 - val_loss: 0.7639 - val_mae: 0.7639\n",
            "Epoch 5/100\n",
            "80000/80000 [==============================] - 5s 57us/step - loss: 0.7651 - mae: 0.7651 - val_loss: 0.7560 - val_mae: 0.7560\n",
            "Epoch 6/100\n",
            "80000/80000 [==============================] - 5s 57us/step - loss: 0.7617 - mae: 0.7617 - val_loss: 0.7540 - val_mae: 0.7540\n",
            "Epoch 7/100\n",
            "80000/80000 [==============================] - 5s 58us/step - loss: 0.7613 - mae: 0.7613 - val_loss: 0.7515 - val_mae: 0.7515\n",
            "Epoch 8/100\n",
            "80000/80000 [==============================] - 5s 56us/step - loss: 0.7590 - mae: 0.7590 - val_loss: 0.7495 - val_mae: 0.7495\n",
            "Epoch 9/100\n",
            "80000/80000 [==============================] - 5s 57us/step - loss: 0.7569 - mae: 0.7569 - val_loss: 0.7494 - val_mae: 0.7494\n",
            "Epoch 10/100\n",
            "80000/80000 [==============================] - 5s 57us/step - loss: 0.7563 - mae: 0.7563 - val_loss: 0.7489 - val_mae: 0.7489\n",
            "Epoch 11/100\n",
            "80000/80000 [==============================] - 5s 59us/step - loss: 0.7561 - mae: 0.7561 - val_loss: 0.7496 - val_mae: 0.7496\n",
            "Epoch 12/100\n",
            "80000/80000 [==============================] - 6s 74us/step - loss: 0.7559 - mae: 0.7559 - val_loss: 0.7500 - val_mae: 0.7500\n",
            "Epoch 13/100\n",
            "80000/80000 [==============================] - 5s 59us/step - loss: 0.7547 - mae: 0.7547 - val_loss: 0.7491 - val_mae: 0.7491\n",
            "Epoch 14/100\n",
            "80000/80000 [==============================] - 5s 57us/step - loss: 0.7543 - mae: 0.7543 - val_loss: 0.7500 - val_mae: 0.7500\n",
            "Epoch 15/100\n",
            "80000/80000 [==============================] - 5s 57us/step - loss: 0.7529 - mae: 0.7529 - val_loss: 0.7488 - val_mae: 0.7488\n",
            "Epoch 16/100\n",
            "80000/80000 [==============================] - 5s 57us/step - loss: 0.7516 - mae: 0.7516 - val_loss: 0.7459 - val_mae: 0.7459\n",
            "Epoch 17/100\n",
            "80000/80000 [==============================] - 5s 57us/step - loss: 0.7520 - mae: 0.7520 - val_loss: 0.7456 - val_mae: 0.7456\n",
            "Epoch 18/100\n",
            "80000/80000 [==============================] - 5s 57us/step - loss: 0.7501 - mae: 0.7501 - val_loss: 0.7463 - val_mae: 0.7463\n",
            "Epoch 19/100\n",
            "80000/80000 [==============================] - 5s 57us/step - loss: 0.7522 - mae: 0.7522 - val_loss: 0.7453 - val_mae: 0.7453\n",
            "Epoch 20/100\n",
            "80000/80000 [==============================] - 5s 58us/step - loss: 0.7527 - mae: 0.7527 - val_loss: 0.7478 - val_mae: 0.7478\n",
            "Epoch 21/100\n",
            "80000/80000 [==============================] - 5s 56us/step - loss: 0.7509 - mae: 0.7509 - val_loss: 0.7455 - val_mae: 0.7455\n",
            "Epoch 22/100\n",
            "80000/80000 [==============================] - 5s 57us/step - loss: 0.7490 - mae: 0.7490 - val_loss: 0.7489 - val_mae: 0.7489\n",
            "Epoch 23/100\n",
            "80000/80000 [==============================] - 5s 58us/step - loss: 0.7519 - mae: 0.7519 - val_loss: 0.7481 - val_mae: 0.7481\n",
            "Epoch 24/100\n",
            "80000/80000 [==============================] - 5s 57us/step - loss: 0.7492 - mae: 0.7492 - val_loss: 0.7480 - val_mae: 0.7480\n"
          ],
          "name": "stdout"
        },
        {
          "output_type": "execute_result",
          "data": {
            "text/plain": [
              "0.7552411407232285"
            ]
          },
          "metadata": {
            "tags": []
          },
          "execution_count": 55
        }
      ]
    },
    {
      "cell_type": "markdown",
      "metadata": {
        "colab_type": "text",
        "id": "3aM3dSYdnHpd"
      },
      "source": [
        "# Exercise 5"
      ]
    },
    {
      "cell_type": "code",
      "metadata": {
        "colab_type": "code",
        "id": "5EutXSWXJaye",
        "outputId": "5023db06-019b-427e-dea5-c05ea294f4d6",
        "colab": {
          "base_uri": "https://localhost:8080/",
          "height": 255
        }
      },
      "source": [
        "!pip install deepctr\n",
        "from deepctr.models import DeepFM\n",
        "from deepctr.inputs import  SparseFeat, DenseFeat,get_feature_names\n",
        "from sklearn.preprocessing import LabelEncoder\n",
        "from sklearn.model_selection import train_test_split"
      ],
      "execution_count": 0,
      "outputs": [
        {
          "output_type": "stream",
          "text": [
            "Requirement already satisfied: deepctr in c:\\users\\dafnu\\anaconda3\\lib\\site-packages (0.7.4)\n",
            "Requirement already satisfied: requests in c:\\users\\dafnu\\anaconda3\\lib\\site-packages (from deepctr) (2.22.0)\n",
            "Requirement already satisfied: h5py in c:\\users\\dafnu\\anaconda3\\lib\\site-packages (from deepctr) (2.9.0)\n",
            "Requirement already satisfied: idna<2.9,>=2.5 in c:\\users\\dafnu\\anaconda3\\lib\\site-packages (from requests->deepctr) (2.8)\n",
            "Requirement already satisfied: urllib3!=1.25.0,!=1.25.1,<1.26,>=1.21.1 in c:\\users\\dafnu\\anaconda3\\lib\\site-packages (from requests->deepctr) (1.24.2)\n",
            "Requirement already satisfied: chardet<3.1.0,>=3.0.2 in c:\\users\\dafnu\\anaconda3\\lib\\site-packages (from requests->deepctr) (3.0.4)\n",
            "Requirement already satisfied: certifi>=2017.4.17 in c:\\users\\dafnu\\anaconda3\\lib\\site-packages (from requests->deepctr) (2019.9.11)\n",
            "Requirement already satisfied: six in c:\\users\\dafnu\\anaconda3\\lib\\site-packages (from h5py->deepctr) (1.12.0)\n",
            "Requirement already satisfied: numpy>=1.7 in c:\\users\\dafnu\\anaconda3\\lib\\site-packages (from h5py->deepctr) (1.16.5)\n"
          ],
          "name": "stdout"
        },
        {
          "output_type": "stream",
          "text": [
            "WARNING:root:\n",
            "DeepCTR version 0.7.5 detected. Your version is 0.7.4.\n",
            "Use `pip install -U deepctr` to upgrade.Changelog: https://github.com/shenweichen/DeepCTR/releases/tag/v0.7.5\n"
          ],
          "name": "stderr"
        }
      ]
    },
    {
      "cell_type": "code",
      "metadata": {
        "colab_type": "code",
        "id": "BiXND554nHpd",
        "colab": {}
      },
      "source": [
        "def get_ncf_model_gen_age(num_users, num_items, latent_dim,hidden_dim,do):\n",
        "    # Input variables\n",
        "    user_input = Input(shape=(1,), dtype='int32', name = 'user_input')\n",
        "    item_input = Input(shape=(1,), dtype='int32', name = 'item_input')\n",
        "    gender_input = Input(shape=(1,), dtype='float32', name = 'gender_input')\n",
        "    age_input = Input(shape=(1,), dtype='float32', name = 'age_input')\n",
        "\n",
        "    MF_Embedding_User = Embedding(input_dim = num_users, output_dim = latent_dim, name = 'user_embedding', input_length=1)\n",
        "    MF_Embedding_Item = Embedding(input_dim = num_items, output_dim = latent_dim, name = 'item_embedding', input_length=1)   \n",
        "    \n",
        "    # Crucial to flatten an embedding vector!\n",
        "    user_latent = Flatten()(MF_Embedding_User(user_input))\n",
        "    item_latent = Flatten()(MF_Embedding_Item(item_input))\n",
        "    \n",
        "    # Concat user and item embeddings with gender\n",
        "    conc = Concatenate()([user_latent, item_latent,gender_input,age_input])\n",
        "    drop = Dropout(do)(conc)\n",
        "    hid1 = Dense(hidden_dim, activation='relu')(conc)\n",
        "    drop2  = Dropout(do)(hid1)\n",
        "    #hid2 = Dense(10,activation='relu')(drop2)\n",
        "    #drop3  = Dropout(do)(hid2)\n",
        "    prediction = Dense(1, activation='relu', kernel_initializer='lecun_uniform', name = 'prediction')(drop2)\n",
        "    \n",
        "    \n",
        "    model = Model(input=[user_input, item_input,gender_input,age_input], output=prediction)\n",
        "\n",
        "    return model"
      ],
      "execution_count": 0,
      "outputs": []
    },
    {
      "cell_type": "code",
      "metadata": {
        "colab_type": "code",
        "id": "3G47FMt9nHpf",
        "colab": {}
      },
      "source": [
        "#Preparation of the data\n",
        "max_userid = users_join['user_id'].drop_duplicates().max()\n",
        "max_movieid = users_join['item_id'].drop_duplicates().max()\n",
        "users_join['user_emb_id'] = users_join['user_id'] - 1\n",
        "users_join['item_emb_id'] = users_join['item_id'] - 1\n",
        "users_join['gender'] = users_join['gender'].astype('category')\n",
        "users_join['gender'] = users_join['gender'].cat.codes\n",
        "users_join_test['user_emb_id'] = users_join_test['user_id'] - 1\n",
        "users_join_test['item_emb_id'] = users_join_test['item_id'] - 1\n",
        "users_join_test['gender'] = users_join_test['gender'].astype('category')\n",
        "users_join_test['gender'] = users_join_test['gender'].cat.codes"
      ],
      "execution_count": 0,
      "outputs": []
    },
    {
      "cell_type": "code",
      "metadata": {
        "colab_type": "code",
        "id": "oFi_-UponHpi",
        "colab": {}
      },
      "source": [
        "#get value for train\n",
        "users_val = users_join['user_emb_id'].values\n",
        "movies_val = users_join['item_emb_id'].values\n",
        "ratings_val = users_join['rating'].values\n",
        "gender_val = users_join['gender'].values\n",
        "age_val = users_join['age'].values\n",
        "#get values for test\n",
        "user_test = users_join_test['user_emb_id'].values\n",
        "movies_test = users_join_test['item_emb_id'].values\n",
        "ratings_test = users_join_test['rating'].values\n",
        "gender_test = users_join_test['gender'].values\n",
        "age_test = users_join_test['age'].values"
      ],
      "execution_count": 0,
      "outputs": []
    },
    {
      "cell_type": "code",
      "metadata": {
        "colab_type": "code",
        "id": "ZaOgRQgwnHpj",
        "colab": {}
      },
      "source": [
        "K_LATENT = 20\n",
        "hidden_dim = 20\n",
        "do = 0.3"
      ],
      "execution_count": 0,
      "outputs": []
    },
    {
      "cell_type": "code",
      "metadata": {
        "colab_type": "code",
        "id": "yssRxvIUnHpm",
        "outputId": "3fd4f03e-2a54-44f3-b857-294f4820bef7",
        "colab": {
          "base_uri": "https://localhost:8080/",
          "height": 642
        }
      },
      "source": [
        "#ncf model\n",
        "gen_age_model = get_ncf_model_gen_age(max_userid,max_movieid,K_LATENT,hidden_dim,do)\n",
        "gen_age_model.compile(loss='mse',optimizer=Adamax(),metrics=['mae'])\n",
        "gen_age_model.summary()"
      ],
      "execution_count": 0,
      "outputs": [
        {
          "output_type": "stream",
          "text": [
            "Model: \"model_1\"\n",
            "__________________________________________________________________________________________________\n",
            "Layer (type)                    Output Shape         Param #     Connected to                     \n",
            "==================================================================================================\n",
            "user_input (InputLayer)         (None, 1)            0                                            \n",
            "__________________________________________________________________________________________________\n",
            "item_input (InputLayer)         (None, 1)            0                                            \n",
            "__________________________________________________________________________________________________\n",
            "user_embedding (Embedding)      (None, 1, 20)        18860       user_input[0][0]                 \n",
            "__________________________________________________________________________________________________\n",
            "item_embedding (Embedding)      (None, 1, 20)        33640       item_input[0][0]                 \n",
            "__________________________________________________________________________________________________\n",
            "flatten_1 (Flatten)             (None, 20)           0           user_embedding[0][0]             \n",
            "__________________________________________________________________________________________________\n",
            "flatten_2 (Flatten)             (None, 20)           0           item_embedding[0][0]             \n",
            "__________________________________________________________________________________________________\n",
            "gender_input (InputLayer)       (None, 1)            0                                            \n",
            "__________________________________________________________________________________________________\n",
            "age_input (InputLayer)          (None, 1)            0                                            \n",
            "__________________________________________________________________________________________________\n",
            "concatenate_1 (Concatenate)     (None, 42)           0           flatten_1[0][0]                  \n",
            "                                                                 flatten_2[0][0]                  \n",
            "                                                                 gender_input[0][0]               \n",
            "                                                                 age_input[0][0]                  \n",
            "__________________________________________________________________________________________________\n",
            "dense_1 (Dense)                 (None, 20)           860         concatenate_1[0][0]              \n",
            "__________________________________________________________________________________________________\n",
            "dropout_2 (Dropout)             (None, 20)           0           dense_1[0][0]                    \n",
            "__________________________________________________________________________________________________\n",
            "prediction (Dense)              (None, 1)            21          dropout_2[0][0]                  \n",
            "==================================================================================================\n",
            "Total params: 53,381\n",
            "Trainable params: 53,381\n",
            "Non-trainable params: 0\n",
            "__________________________________________________________________________________________________\n"
          ],
          "name": "stdout"
        },
        {
          "output_type": "stream",
          "text": [
            "C:\\Users\\dafnu\\Anaconda3\\lib\\site-packages\\ipykernel_launcher.py:25: UserWarning: Update your `Model` call to the Keras 2 API: `Model(inputs=[<tf.Tenso..., outputs=Tensor(\"pr...)`\n"
          ],
          "name": "stderr"
        }
      ]
    },
    {
      "cell_type": "code",
      "metadata": {
        "colab_type": "code",
        "id": "QL-HOpFYnHpq",
        "outputId": "7571e9ea-c4f0-4660-fc35-da55fe2241ae",
        "colab": {
          "base_uri": "https://localhost:8080/",
          "height": 1000
        }
      },
      "source": [
        "callbacks_ncfga = [EarlyStopping('val_loss', patience=20), ModelCheckpoint('u_emb_weights'+'_ncfg_'+str(do)+'_'+str(K_LATENT)+'.h5', save_best_only=True)]\n",
        "history_ncfg = gen_age_model.fit([users_val, movies_val,gender_val,age_val], ratings_val, nb_epoch=100, validation_split=.1, verbose=1, callbacks=callbacks_ncfga, batch_size = 32)"
      ],
      "execution_count": 0,
      "outputs": [
        {
          "output_type": "stream",
          "text": [
            "C:\\Users\\dafnu\\Anaconda3\\lib\\site-packages\\ipykernel_launcher.py:2: UserWarning: The `nb_epoch` argument in `fit` has been renamed `epochs`.\n",
            "  \n",
            "C:\\Users\\dafnu\\Anaconda3\\lib\\site-packages\\tensorflow_core\\python\\framework\\indexed_slices.py:433: UserWarning: Converting sparse IndexedSlices to a dense Tensor of unknown shape. This may consume a large amount of memory.\n",
            "  \"Converting sparse IndexedSlices to a dense Tensor of unknown shape. \"\n"
          ],
          "name": "stderr"
        },
        {
          "output_type": "stream",
          "text": [
            "Train on 72000 samples, validate on 8000 samples\n",
            "Epoch 1/100\n",
            "72000/72000 [==============================] - 3s 44us/step - loss: 3.2401 - mae: 1.3812 - val_loss: 1.4993 - val_mae: 1.0030\n",
            "Epoch 2/100\n",
            "72000/72000 [==============================] - 3s 38us/step - loss: 1.1834 - mae: 0.8735 - val_loss: 1.1581 - val_mae: 0.8810: 1.1968 - mae: \n",
            "Epoch 3/100\n",
            "72000/72000 [==============================] - 3s 39us/step - loss: 1.0165 - mae: 0.8072 - val_loss: 1.0544 - val_mae: 0.8370\n",
            "Epoch 4/100\n",
            "72000/72000 [==============================] - 3s 39us/step - loss: 0.9461 - mae: 0.7766 - val_loss: 1.0119 - val_mae: 0.8169\n",
            "Epoch 5/100\n",
            "72000/72000 [==============================] - 3s 40us/step - loss: 0.9150 - mae: 0.7611 - val_loss: 1.0335 - val_mae: 0.8341\n",
            "Epoch 6/100\n",
            "72000/72000 [==============================] - 3s 41us/step - loss: 0.8963 - mae: 0.7524 - val_loss: 1.0119 - val_mae: 0.8219\n",
            "Epoch 7/100\n",
            "72000/72000 [==============================] - 3s 39us/step - loss: 0.8846 - mae: 0.7466 - val_loss: 1.0068 - val_mae: 0.8182\n",
            "Epoch 8/100\n",
            "72000/72000 [==============================] - 3s 39us/step - loss: 0.8760 - mae: 0.7415 - val_loss: 0.9973 - val_mae: 0.8157\n",
            "Epoch 9/100\n",
            "72000/72000 [==============================] - 3s 39us/step - loss: 0.8692 - mae: 0.7382 - val_loss: 1.0083 - val_mae: 0.8163\n",
            "Epoch 10/100\n",
            "72000/72000 [==============================] - 3s 39us/step - loss: 0.8657 - mae: 0.7357 - val_loss: 1.0002 - val_mae: 0.8078\n",
            "Epoch 11/100\n",
            "72000/72000 [==============================] - 3s 38us/step - loss: 0.8607 - mae: 0.7333 - val_loss: 0.9965 - val_mae: 0.8138\n",
            "Epoch 12/100\n",
            "72000/72000 [==============================] - 3s 39us/step - loss: 0.8553 - mae: 0.7307 - val_loss: 0.9888 - val_mae: 0.8093\n",
            "Epoch 13/100\n",
            "72000/72000 [==============================] - 3s 39us/step - loss: 0.8534 - mae: 0.7299 - val_loss: 0.9891 - val_mae: 0.8094\n",
            "Epoch 14/100\n",
            "72000/72000 [==============================] - 3s 39us/step - loss: 0.8496 - mae: 0.7284 - val_loss: 0.9932 - val_mae: 0.8117\n",
            "Epoch 15/100\n",
            "72000/72000 [==============================] - 3s 39us/step - loss: 0.8500 - mae: 0.7280 - val_loss: 0.9986 - val_mae: 0.8157\n",
            "Epoch 16/100\n",
            "72000/72000 [==============================] - 3s 41us/step - loss: 0.8481 - mae: 0.7272 - val_loss: 0.9833 - val_mae: 0.8091\n",
            "Epoch 17/100\n",
            "72000/72000 [==============================] - 3s 42us/step - loss: 0.8458 - mae: 0.7263 - val_loss: 1.0184 - val_mae: 0.8289\n",
            "Epoch 18/100\n",
            "72000/72000 [==============================] - 3s 43us/step - loss: 0.8438 - mae: 0.7251 - val_loss: 1.0046 - val_mae: 0.8210\n",
            "Epoch 19/100\n",
            "72000/72000 [==============================] - 3s 41us/step - loss: 0.8421 - mae: 0.7247 - val_loss: 1.0026 - val_mae: 0.8194\n",
            "Epoch 20/100\n",
            "72000/72000 [==============================] - 3s 37us/step - loss: 0.8414 - mae: 0.7236 - val_loss: 1.0189 - val_mae: 0.8299\n",
            "Epoch 21/100\n",
            "72000/72000 [==============================] - 3s 37us/step - loss: 0.8400 - mae: 0.7234 - val_loss: 1.0121 - val_mae: 0.8249\n",
            "Epoch 22/100\n",
            "72000/72000 [==============================] - 3s 40us/step - loss: 0.8363 - mae: 0.7220 - val_loss: 0.9883 - val_mae: 0.8119\n",
            "Epoch 23/100\n",
            "72000/72000 [==============================] - 3s 45us/step - loss: 0.8384 - mae: 0.7229 - val_loss: 1.0250 - val_mae: 0.8322\n",
            "Epoch 24/100\n",
            "72000/72000 [==============================] - 3s 42us/step - loss: 0.8354 - mae: 0.7216 - val_loss: 0.9910 - val_mae: 0.8129\n",
            "Epoch 25/100\n",
            "72000/72000 [==============================] - 3s 39us/step - loss: 0.8359 - mae: 0.7215 - val_loss: 1.0177 - val_mae: 0.8329\n",
            "Epoch 26/100\n",
            "72000/72000 [==============================] - 3s 38us/step - loss: 0.8346 - mae: 0.7209 - val_loss: 1.0037 - val_mae: 0.8202\n",
            "Epoch 27/100\n",
            "72000/72000 [==============================] - 3s 40us/step - loss: 0.8318 - mae: 0.7202 - val_loss: 1.0263 - val_mae: 0.8311\n",
            "Epoch 28/100\n",
            "72000/72000 [==============================] - 3s 41us/step - loss: 0.8340 - mae: 0.7208 - val_loss: 1.0119 - val_mae: 0.8300\n",
            "Epoch 29/100\n",
            "72000/72000 [==============================] - 3s 44us/step - loss: 0.8320 - mae: 0.7202 - val_loss: 1.0015 - val_mae: 0.8241\n",
            "Epoch 30/100\n",
            "72000/72000 [==============================] - 3s 43us/step - loss: 0.8313 - mae: 0.7193 - val_loss: 1.0244 - val_mae: 0.8320\n",
            "Epoch 31/100\n",
            "72000/72000 [==============================] - 3s 38us/step - loss: 0.8287 - mae: 0.7189 - val_loss: 1.0154 - val_mae: 0.8289\n",
            "Epoch 32/100\n",
            "72000/72000 [==============================] - 3s 39us/step - loss: 0.8291 - mae: 0.7190 - val_loss: 1.0364 - val_mae: 0.8387\n",
            "Epoch 33/100\n",
            "72000/72000 [==============================] - 3s 40us/step - loss: 0.8275 - mae: 0.7178 - val_loss: 1.0216 - val_mae: 0.8366\n",
            "Epoch 34/100\n",
            "72000/72000 [==============================] - 3s 42us/step - loss: 0.8281 - mae: 0.7180 - val_loss: 1.0221 - val_mae: 0.8360\n",
            "Epoch 35/100\n",
            "72000/72000 [==============================] - 3s 41us/step - loss: 0.8265 - mae: 0.7178 - val_loss: 1.0197 - val_mae: 0.8366\n",
            "Epoch 36/100\n",
            "72000/72000 [==============================] - 3s 37us/step - loss: 0.8260 - mae: 0.7173 - val_loss: 1.0215 - val_mae: 0.8323\n"
          ],
          "name": "stdout"
        }
      ]
    },
    {
      "cell_type": "code",
      "metadata": {
        "colab_type": "code",
        "id": "j9JBngiZnHpr",
        "colab": {},
        "outputId": "774465f7-4085-4835-a599-8ab444851c06"
      },
      "source": [
        "deepCTR_train = users_join.copy()\n",
        "deepCTR_test = users_join_test.copy()\n",
        "deepCTR_test[\"age_type\"] = deepCTR_test[\"age\"]\n",
        "deepCTR_data = deepCTR_train.append(deepCTR_test)"
      ],
      "execution_count": 0,
      "outputs": [
        {
          "output_type": "stream",
          "text": [
            "C:\\Users\\dafnu\\Anaconda3\\lib\\site-packages\\pandas\\core\\frame.py:7123: FutureWarning: Sorting because non-concatenation axis is not aligned. A future version\n",
            "of pandas will change to not sort by default.\n",
            "\n",
            "To accept the future behavior, pass 'sort=False'.\n",
            "\n",
            "To retain the current behavior and silence the warning, pass 'sort=True'.\n",
            "\n",
            "  sort=sort,\n"
          ],
          "name": "stderr"
        }
      ]
    },
    {
      "cell_type": "code",
      "metadata": {
        "colab_type": "code",
        "id": "cV6DhkW4nHpt",
        "outputId": "e7b272ae-54d7-44c1-a195-06d70276ccda",
        "colab": {
          "base_uri": "https://localhost:8080/",
          "height": 1000
        }
      },
      "source": [
        "#deepCTR model    \n",
        "sparse_features = [\"item_id\", \"user_id\",\n",
        "                   \"gender\", \"age\"]\n",
        "target = ['rating']\n",
        "\n",
        "# Label Encoding for sparse features,and do simple Transformation for dense features\n",
        "for feat in sparse_features:\n",
        "    lbe = LabelEncoder()\n",
        "    deepCTR_data[feat] = lbe.fit_transform(deepCTR_data[feat])\n",
        "    deepCTR_train[feat] = lbe.fit_transform(deepCTR_train[feat])\n",
        "    deepCTR_test[feat] = lbe.fit_transform(deepCTR_test[feat])\n",
        "#count #unique features for each sparse field\n",
        "fixlen_feature_columns = [SparseFeat(feat, deepCTR_data[feat].nunique(),embedding_dim=4)\n",
        "                          for feat in sparse_features]\n",
        "linear_feature_columns = fixlen_feature_columns\n",
        "dnn_feature_columns = fixlen_feature_columns\n",
        "feature_names = get_feature_names(linear_feature_columns + dnn_feature_columns)\n",
        "\n",
        "#generate input data for model\n",
        "train_model_input = {name:deepCTR_train[name].values for name in feature_names}\n",
        "test_model_input = {name:deepCTR_test[name].values for name in feature_names}\n",
        "\n",
        "model = DeepFM(linear_feature_columns, dnn_feature_columns, task='regression')\n",
        "model.compile(\"adam\", \"mae\", metrics=['mae'], )\n",
        "model.summary()"
      ],
      "execution_count": 0,
      "outputs": [
        {
          "output_type": "stream",
          "text": [
            "Model: \"model\"\n",
            "__________________________________________________________________________________________________\n",
            "Layer (type)                    Output Shape         Param #     Connected to                     \n",
            "==================================================================================================\n",
            "item_id (InputLayer)            [(None, 1)]          0                                            \n",
            "__________________________________________________________________________________________________\n",
            "user_id (InputLayer)            [(None, 1)]          0                                            \n",
            "__________________________________________________________________________________________________\n",
            "gender (InputLayer)             [(None, 1)]          0                                            \n",
            "__________________________________________________________________________________________________\n",
            "age (InputLayer)                [(None, 1)]          0                                            \n",
            "__________________________________________________________________________________________________\n",
            "sparse_emb_item_id (Embedding)  (None, 1, 4)         6728        item_id[0][0]                    \n",
            "__________________________________________________________________________________________________\n",
            "sparse_emb_user_id (Embedding)  (None, 1, 4)         3772        user_id[0][0]                    \n",
            "__________________________________________________________________________________________________\n",
            "sparse_emb_gender (Embedding)   (None, 1, 4)         8           gender[0][0]                     \n",
            "__________________________________________________________________________________________________\n",
            "sparse_emb_age (Embedding)      (None, 1, 4)         244         age[0][0]                        \n",
            "__________________________________________________________________________________________________\n",
            "linear0sparse_emb_item_id (Embe (None, 1, 1)         1682        item_id[0][0]                    \n",
            "__________________________________________________________________________________________________\n",
            "linear0sparse_emb_user_id (Embe (None, 1, 1)         943         user_id[0][0]                    \n",
            "__________________________________________________________________________________________________\n",
            "linear0sparse_emb_gender (Embed (None, 1, 1)         2           gender[0][0]                     \n",
            "__________________________________________________________________________________________________\n",
            "linear0sparse_emb_age (Embeddin (None, 1, 1)         61          age[0][0]                        \n",
            "__________________________________________________________________________________________________\n",
            "no_mask_3 (NoMask)              (None, 1, 4)         0           sparse_emb_item_id[0][0]         \n",
            "                                                                 sparse_emb_user_id[0][0]         \n",
            "                                                                 sparse_emb_gender[0][0]          \n",
            "                                                                 sparse_emb_age[0][0]             \n",
            "__________________________________________________________________________________________________\n",
            "no_mask (NoMask)                (None, 1, 1)         0           linear0sparse_emb_item_id[0][0]  \n",
            "                                                                 linear0sparse_emb_user_id[0][0]  \n",
            "                                                                 linear0sparse_emb_gender[0][0]   \n",
            "                                                                 linear0sparse_emb_age[0][0]      \n",
            "__________________________________________________________________________________________________\n",
            "no_mask_2 (NoMask)              (None, 1, 4)         0           sparse_emb_item_id[0][0]         \n",
            "                                                                 sparse_emb_user_id[0][0]         \n",
            "                                                                 sparse_emb_gender[0][0]          \n",
            "                                                                 sparse_emb_age[0][0]             \n",
            "__________________________________________________________________________________________________\n",
            "concatenate_2 (Concatenate)     (None, 1, 16)        0           no_mask_3[0][0]                  \n",
            "                                                                 no_mask_3[1][0]                  \n",
            "                                                                 no_mask_3[2][0]                  \n",
            "                                                                 no_mask_3[3][0]                  \n",
            "__________________________________________________________________________________________________\n",
            "concatenate (Concatenate)       (None, 1, 4)         0           no_mask[0][0]                    \n",
            "                                                                 no_mask[1][0]                    \n",
            "                                                                 no_mask[2][0]                    \n",
            "                                                                 no_mask[3][0]                    \n",
            "__________________________________________________________________________________________________\n",
            "concatenate_1 (Concatenate)     (None, 4, 4)         0           no_mask_2[0][0]                  \n",
            "                                                                 no_mask_2[1][0]                  \n",
            "                                                                 no_mask_2[2][0]                  \n",
            "                                                                 no_mask_2[3][0]                  \n",
            "__________________________________________________________________________________________________\n",
            "flatten (Flatten)               (None, 16)           0           concatenate_2[0][0]              \n",
            "__________________________________________________________________________________________________\n",
            "linear (Linear)                 (None, 1, 1)         0           concatenate[0][0]                \n",
            "__________________________________________________________________________________________________\n",
            "fm (FM)                         (None, 1)            0           concatenate_1[0][0]              \n",
            "__________________________________________________________________________________________________\n",
            "dnn (DNN)                       (None, 128)          18688       flatten[0][0]                    \n",
            "__________________________________________________________________________________________________\n",
            "no_mask_1 (NoMask)              (None, 1, 1)         0           linear[0][0]                     \n",
            "__________________________________________________________________________________________________\n",
            "add (Add)                       (None, 1)            0           fm[0][0]                         \n",
            "__________________________________________________________________________________________________\n",
            "dense (Dense)                   (None, 1)            128         dnn[0][0]                        \n",
            "__________________________________________________________________________________________________\n",
            "add_1 (Add)                     (None, 1, 1)         0           no_mask_1[0][0]                  \n",
            "                                                                 add[0][0]                        \n",
            "                                                                 dense[0][0]                      \n",
            "__________________________________________________________________________________________________\n",
            "prediction_layer (PredictionLay (None, 1)            1           add_1[0][0]                      \n",
            "==================================================================================================\n",
            "Total params: 32,257\n",
            "Trainable params: 32,257\n",
            "Non-trainable params: 0\n",
            "__________________________________________________________________________________________________\n"
          ],
          "name": "stdout"
        }
      ]
    },
    {
      "cell_type": "code",
      "metadata": {
        "colab_type": "code",
        "id": "MESjJjoJnHpv",
        "outputId": "7c64d940-dd70-49be-d299-2e277dd674a3",
        "colab": {
          "base_uri": "https://localhost:8080/",
          "height": 323
        }
      },
      "source": [
        "history_deepCTR = model.fit(train_model_input, deepCTR_train[target].values, batch_size=32, epochs=100, verbose=1, validation_split=0.1, callbacks=callbacks_ncfga )"
      ],
      "execution_count": 0,
      "outputs": [
        {
          "output_type": "stream",
          "text": [
            "Train on 72000 samples, validate on 8000 samples\n",
            "Epoch 1/100\n"
          ],
          "name": "stdout"
        },
        {
          "output_type": "stream",
          "text": [
            "C:\\Users\\dafnu\\Anaconda3\\lib\\site-packages\\tensorflow_core\\python\\framework\\indexed_slices.py:433: UserWarning: Converting sparse IndexedSlices to a dense Tensor of unknown shape. This may consume a large amount of memory.\n",
            "  \"Converting sparse IndexedSlices to a dense Tensor of unknown shape. \"\n",
            "C:\\Users\\dafnu\\Anaconda3\\lib\\site-packages\\tensorflow_core\\python\\framework\\indexed_slices.py:433: UserWarning: Converting sparse IndexedSlices to a dense Tensor of unknown shape. This may consume a large amount of memory.\n",
            "  \"Converting sparse IndexedSlices to a dense Tensor of unknown shape. \"\n"
          ],
          "name": "stderr"
        },
        {
          "output_type": "stream",
          "text": [
            "72000/72000 [==============================] - 4s 62us/sample - loss: 0.8181 - mae: 0.8180 - val_loss: 0.7881 - val_mae: 0.7879\n",
            "Epoch 2/100\n",
            "72000/72000 [==============================] - 4s 51us/sample - loss: 0.7413 - mae: 0.7410 - val_loss: 0.7936 - val_mae: 0.7932\n",
            "Epoch 3/100\n",
            "72000/72000 [==============================] - 4s 55us/sample - loss: 0.7260 - mae: 0.7254 - val_loss: 0.7854 - val_mae: 0.7847\n",
            "Epoch 4/100\n",
            "72000/72000 [==============================] - 4s 52us/sample - loss: 0.7123 - mae: 0.7115 - val_loss: 0.7814 - val_mae: 0.7805\n",
            "Epoch 5/100\n",
            "72000/72000 [==============================] - 4s 54us/sample - loss: 0.6978 - mae: 0.6967 - val_loss: 0.7857 - val_mae: 0.7844\n",
            "Epoch 6/100\n",
            "72000/72000 [==============================] - 4s 51us/sample - loss: 0.6876 - mae: 0.6863 - val_loss: 0.7847 - val_mae: 0.7833\n",
            "Epoch 7/100\n",
            "72000/72000 [==============================] - 4s 54us/sample - loss: 0.6767 - mae: 0.6751 - val_loss: 0.7820 - val_mae: 0.7803\n",
            "Epoch 8/100\n",
            "72000/72000 [==============================] - 4s 53us/sample - loss: 0.6711 - mae: 0.6693 - val_loss: 0.7811 - val_mae: 0.7792\n",
            "Epoch 9/100\n",
            "72000/72000 [==============================] - 4s 52us/sample - loss: 0.6640 - mae: 0.6619 - val_loss: 0.7885 - val_mae: 0.7864\n",
            "Epoch 10/100\n",
            "72000/72000 [==============================] - 4s 52us/sample - loss: 0.6577 - mae: 0.6555 - val_loss: 0.7917 - val_mae: 0.7894\n",
            "Epoch 11/100\n",
            "72000/72000 [==============================] - 4s 54us/sample - loss: 0.6529 - mae: 0.6505 - val_loss: 0.7774 - val_mae: 0.7749\n",
            "Epoch 12/100\n",
            "72000/72000 [==============================] - 4s 54us/sample - loss: 0.6490 - mae: 0.6464 - val_loss: 0.7863 - val_mae: 0.7836\n",
            "Epoch 13/100\n",
            "72000/72000 [==============================] - 4s 53us/sample - loss: 0.6455 - mae: 0.6428 - val_loss: 0.7860 - val_mae: 0.7832\n",
            "Epoch 14/100\n",
            "72000/72000 [==============================] - 4s 52us/sample - loss: 0.6418 - mae: 0.6389 - val_loss: 0.7870 - val_mae: 0.7840\n",
            "Epoch 15/100\n",
            "72000/72000 [==============================] - 4s 54us/sample - loss: 0.6390 - mae: 0.6360 - val_loss: 0.7860 - val_mae: 0.7829\n",
            "Epoch 16/100\n",
            "72000/72000 [==============================] - 4s 53us/sample - loss: 0.6363 - mae: 0.6331 - val_loss: 0.7852 - val_mae: 0.7819\n",
            "Epoch 17/100\n",
            "72000/72000 [==============================] - 4s 56us/sample - loss: 0.6336 - mae: 0.6303 - val_loss: 0.7868 - val_mae: 0.7834\n",
            "Epoch 18/100\n",
            "72000/72000 [==============================] - 4s 54us/sample - loss: 0.6310 - mae: 0.6276 - val_loss: 0.8049 - val_mae: 0.8014\n",
            "Epoch 19/100\n",
            "72000/72000 [==============================] - 4s 54us/sample - loss: 0.6278 - mae: 0.6243 - val_loss: 0.7918 - val_mae: 0.7882\n",
            "Epoch 20/100\n",
            "72000/72000 [==============================] - 4s 54us/sample - loss: 0.6258 - mae: 0.6221 - val_loss: 0.7858 - val_mae: 0.7820\n",
            "Epoch 21/100\n",
            "72000/72000 [==============================] - 4s 60us/sample - loss: 0.6242 - mae: 0.6204 - val_loss: 0.7968 - val_mae: 0.7930\n",
            "Epoch 22/100\n",
            "72000/72000 [==============================] - 4s 52us/sample - loss: 0.6213 - mae: 0.6174 - val_loss: 0.7846 - val_mae: 0.7806\n",
            "Epoch 23/100\n",
            "72000/72000 [==============================] - 4s 54us/sample - loss: 0.6203 - mae: 0.6162 - val_loss: 0.7867 - val_mae: 0.7826\n",
            "Epoch 24/100\n",
            "72000/72000 [==============================] - 4s 56us/sample - loss: 0.6179 - mae: 0.6137 - val_loss: 0.7832 - val_mae: 0.7790\n",
            "Epoch 25/100\n",
            "72000/72000 [==============================] - 4s 60us/sample - loss: 0.6160 - mae: 0.6118 - val_loss: 0.7892 - val_mae: 0.7849\n",
            "Epoch 26/100\n",
            "72000/72000 [==============================] - 4s 54us/sample - loss: 0.6151 - mae: 0.6108 - val_loss: 0.7900 - val_mae: 0.7856\n",
            "Epoch 27/100\n",
            "72000/72000 [==============================] - 4s 53us/sample - loss: 0.6131 - mae: 0.6087 - val_loss: 0.7835 - val_mae: 0.7791\n",
            "Epoch 28/100\n",
            "72000/72000 [==============================] - 4s 57us/sample - loss: 0.6113 - mae: 0.6068 - val_loss: 0.7900 - val_mae: 0.7854\n",
            "Epoch 29/100\n",
            "72000/72000 [==============================] - 5s 64us/sample - loss: 0.6091 - mae: 0.6045 - val_loss: 0.7854 - val_mae: 0.7808\n",
            "Epoch 30/100\n",
            "72000/72000 [==============================] - 4s 53us/sample - loss: 0.6079 - mae: 0.6032 - val_loss: 0.7866 - val_mae: 0.7818\n",
            "Epoch 31/100\n",
            "72000/72000 [==============================] - 4s 55us/sample - loss: 0.6065 - mae: 0.6017 - val_loss: 0.7861 - val_mae: 0.7813\n"
          ],
          "name": "stdout"
        }
      ]
    },
    {
      "cell_type": "code",
      "metadata": {
        "colab_type": "code",
        "id": "V0fNfUzGnHpx",
        "colab": {}
      },
      "source": [
        "def calc_avg_mae(df):\n",
        "  sum = 0\n",
        "  for index, row in df.iterrows():\n",
        "    average = row['rating_x']\n",
        "    real = row['rating']\n",
        "    sum = sum + abs(average-real)\n",
        "  mae = sum/df.shape[0]\n",
        "  return mae"
      ],
      "execution_count": 0,
      "outputs": []
    },
    {
      "cell_type": "code",
      "metadata": {
        "colab_type": "code",
        "id": "V9CZqs2PnHp1",
        "colab": {},
        "outputId": "b6fc2744-41ed-49c1-8a7f-9be5fc02bb7f"
      },
      "source": [
        "#Check out several options of parameters\n",
        "\n",
        "#deepCTR model change embedding_dim\n",
        "fixlen_feature_columns_dim7 = [SparseFeat(feat, deepCTR_data[feat].nunique(),embedding_dim=7)\n",
        "                          for feat in sparse_features]\n",
        "linear_feature_columns_dim7 = fixlen_feature_columns_dim7\n",
        "dnn_feature_columns_dim7 = fixlen_feature_columns_dim7\n",
        "feature_names_dim7 = get_feature_names(linear_feature_columns_dim7 + dnn_feature_columns_dim7)\n",
        "\n",
        "model_dim7 = DeepFM(linear_feature_columns_dim7, dnn_feature_columns_dim7, task='regression')\n",
        "model_dim7.compile(\"adam\", \"mae\", metrics=['mae'], )\n",
        "history_deepCTR_dim7 = model_dim7.fit(train_model_input, deepCTR_train[target].values, batch_size=32, epochs=100, verbose=1, validation_split=0.1, callbacks=callbacks_ncfga )"
      ],
      "execution_count": 0,
      "outputs": [
        {
          "output_type": "stream",
          "text": [
            "Train on 72000 samples, validate on 8000 samples\n",
            "Epoch 1/100\n"
          ],
          "name": "stdout"
        },
        {
          "output_type": "stream",
          "text": [
            "C:\\Users\\dafnu\\Anaconda3\\lib\\site-packages\\tensorflow_core\\python\\framework\\indexed_slices.py:433: UserWarning: Converting sparse IndexedSlices to a dense Tensor of unknown shape. This may consume a large amount of memory.\n",
            "  \"Converting sparse IndexedSlices to a dense Tensor of unknown shape. \"\n",
            "C:\\Users\\dafnu\\Anaconda3\\lib\\site-packages\\tensorflow_core\\python\\framework\\indexed_slices.py:433: UserWarning: Converting sparse IndexedSlices to a dense Tensor of unknown shape. This may consume a large amount of memory.\n",
            "  \"Converting sparse IndexedSlices to a dense Tensor of unknown shape. \"\n"
          ],
          "name": "stderr"
        },
        {
          "output_type": "stream",
          "text": [
            "72000/72000 [==============================] - 5s 67us/sample - loss: 0.8209 - mae: 0.8208 - val_loss: 0.7991 - val_mae: 0.7988\n",
            "Epoch 2/100\n",
            "72000/72000 [==============================] - 4s 54us/sample - loss: 0.7407 - mae: 0.7402 - val_loss: 0.7816 - val_mae: 0.7809\n",
            "Epoch 3/100\n",
            "72000/72000 [==============================] - 4s 54us/sample - loss: 0.7230 - mae: 0.7221 - val_loss: 0.7867 - val_mae: 0.7857\n",
            "Epoch 4/100\n",
            "72000/72000 [==============================] - 4s 54us/sample - loss: 0.7077 - mae: 0.7065 - val_loss: 0.7894 - val_mae: 0.7880\n",
            "Epoch 5/100\n",
            "72000/72000 [==============================] - 4s 55us/sample - loss: 0.6953 - mae: 0.6937 - val_loss: 0.7801 - val_mae: 0.7783\n",
            "Epoch 6/100\n",
            "72000/72000 [==============================] - 4s 55us/sample - loss: 0.6853 - mae: 0.6833 - val_loss: 0.8188 - val_mae: 0.8167\n",
            "Epoch 7/100\n",
            "72000/72000 [==============================] - 4s 53us/sample - loss: 0.6775 - mae: 0.6752 - val_loss: 0.7874 - val_mae: 0.7849\n",
            "Epoch 8/100\n",
            "72000/72000 [==============================] - 4s 53us/sample - loss: 0.6708 - mae: 0.6681 - val_loss: 0.7962 - val_mae: 0.7934\n",
            "Epoch 9/100\n",
            "72000/72000 [==============================] - 4s 53us/sample - loss: 0.6641 - mae: 0.6612 - val_loss: 0.7867 - val_mae: 0.7836\n",
            "Epoch 10/100\n",
            "72000/72000 [==============================] - 4s 55us/sample - loss: 0.6598 - mae: 0.6565 - val_loss: 0.7847 - val_mae: 0.7813\n",
            "Epoch 11/100\n",
            "72000/72000 [==============================] - 4s 54us/sample - loss: 0.6549 - mae: 0.6514 - val_loss: 0.7976 - val_mae: 0.7939\n",
            "Epoch 12/100\n",
            "72000/72000 [==============================] - 4s 55us/sample - loss: 0.6505 - mae: 0.6467 - val_loss: 0.7846 - val_mae: 0.7806\n",
            "Epoch 13/100\n",
            "72000/72000 [==============================] - 4s 56us/sample - loss: 0.6454 - mae: 0.6412 - val_loss: 0.7867 - val_mae: 0.7824\n",
            "Epoch 14/100\n",
            "72000/72000 [==============================] - 4s 59us/sample - loss: 0.6409 - mae: 0.6365 - val_loss: 0.7883 - val_mae: 0.7837\n",
            "Epoch 15/100\n",
            "72000/72000 [==============================] - 4s 55us/sample - loss: 0.6366 - mae: 0.6320 - val_loss: 0.7881 - val_mae: 0.7833\n",
            "Epoch 16/100\n",
            "72000/72000 [==============================] - 4s 54us/sample - loss: 0.6317 - mae: 0.6267 - val_loss: 0.7876 - val_mae: 0.7826\n",
            "Epoch 17/100\n",
            "72000/72000 [==============================] - 4s 54us/sample - loss: 0.6271 - mae: 0.6219 - val_loss: 0.7905 - val_mae: 0.7852\n",
            "Epoch 18/100\n",
            "72000/72000 [==============================] - 4s 55us/sample - loss: 0.6222 - mae: 0.6168 - val_loss: 0.7942 - val_mae: 0.7886\n",
            "Epoch 19/100\n",
            "72000/72000 [==============================] - 4s 59us/sample - loss: 0.6183 - mae: 0.6127 - val_loss: 0.7971 - val_mae: 0.7913\n",
            "Epoch 20/100\n",
            "72000/72000 [==============================] - 4s 57us/sample - loss: 0.6152 - mae: 0.6093 - val_loss: 0.8020 - val_mae: 0.7959\n",
            "Epoch 21/100\n",
            "72000/72000 [==============================] - 4s 53us/sample - loss: 0.6107 - mae: 0.6045 - val_loss: 0.8020 - val_mae: 0.7957\n",
            "Epoch 22/100\n",
            "72000/72000 [==============================] - 4s 57us/sample - loss: 0.6071 - mae: 0.6008 - val_loss: 0.7993 - val_mae: 0.7928\n",
            "Epoch 23/100\n",
            "72000/72000 [==============================] - 4s 61us/sample - loss: 0.6037 - mae: 0.5971 - val_loss: 0.7981 - val_mae: 0.7914\n",
            "Epoch 24/100\n",
            "72000/72000 [==============================] - 4s 58us/sample - loss: 0.6001 - mae: 0.5933 - val_loss: 0.8086 - val_mae: 0.8017\n",
            "Epoch 25/100\n",
            "72000/72000 [==============================] - 4s 56us/sample - loss: 0.5967 - mae: 0.5897 - val_loss: 0.7963 - val_mae: 0.7892\n"
          ],
          "name": "stdout"
        }
      ]
    },
    {
      "cell_type": "code",
      "metadata": {
        "colab_type": "code",
        "id": "W-h2a-oqnHp5",
        "colab": {},
        "outputId": "384ba071-82a9-47d2-a9d6-a53e9d8f4a67"
      },
      "source": [
        "#deepCTR model change batch_size\n",
        "fixlen_feature_columns_batch64 = [SparseFeat(feat, deepCTR_data[feat].nunique(),embedding_dim=4) for feat in sparse_features]\n",
        "linear_feature_columns_batch64 = fixlen_feature_columns_batch64\n",
        "dnn_feature_columns_batch64 = fixlen_feature_columns_batch64\n",
        "feature_names_batch64 = get_feature_names(linear_feature_columns_batch64 + dnn_feature_columns_batch64)\n",
        "\n",
        "model_batch64 = DeepFM(linear_feature_columns_batch64, dnn_feature_columns_batch64, task='regression')\n",
        "model_batch64.compile(\"adam\", \"mae\", metrics=['mae'], )\n",
        "history_deepCTR_batch64 = model_batch64.fit(train_model_input, deepCTR_train[target].values, batch_size=64, epochs=100, verbose=1, validation_split=0.1, callbacks=callbacks_ncfga )"
      ],
      "execution_count": 0,
      "outputs": [
        {
          "output_type": "stream",
          "text": [
            "Train on 72000 samples, validate on 8000 samples\n",
            "Epoch 1/100\n"
          ],
          "name": "stdout"
        },
        {
          "output_type": "stream",
          "text": [
            "C:\\Users\\dafnu\\Anaconda3\\lib\\site-packages\\tensorflow_core\\python\\framework\\indexed_slices.py:433: UserWarning: Converting sparse IndexedSlices to a dense Tensor of unknown shape. This may consume a large amount of memory.\n",
            "  \"Converting sparse IndexedSlices to a dense Tensor of unknown shape. \"\n",
            "C:\\Users\\dafnu\\Anaconda3\\lib\\site-packages\\tensorflow_core\\python\\framework\\indexed_slices.py:433: UserWarning: Converting sparse IndexedSlices to a dense Tensor of unknown shape. This may consume a large amount of memory.\n",
            "  \"Converting sparse IndexedSlices to a dense Tensor of unknown shape. \"\n"
          ],
          "name": "stderr"
        },
        {
          "output_type": "stream",
          "text": [
            "72000/72000 [==============================] - 3s 39us/sample - loss: 0.8558 - mae: 0.8557 - val_loss: 0.7921 - val_mae: 0.7919\n",
            "Epoch 2/100\n",
            "72000/72000 [==============================] - 2s 30us/sample - loss: 0.7393 - mae: 0.7391 - val_loss: 0.8125 - val_mae: 0.8122\n",
            "Epoch 3/100\n",
            "72000/72000 [==============================] - 2s 30us/sample - loss: 0.7255 - mae: 0.7252 - val_loss: 0.7777 - val_mae: 0.7773\n",
            "Epoch 4/100\n",
            "72000/72000 [==============================] - 2s 30us/sample - loss: 0.7127 - mae: 0.7123 - val_loss: 0.7808 - val_mae: 0.7803\n",
            "Epoch 5/100\n",
            "72000/72000 [==============================] - 2s 28us/sample - loss: 0.7028 - mae: 0.7022 - val_loss: 0.7831 - val_mae: 0.7825\n",
            "Epoch 6/100\n",
            "72000/72000 [==============================] - 2s 29us/sample - loss: 0.6937 - mae: 0.6930 - val_loss: 0.7910 - val_mae: 0.7902\n",
            "Epoch 7/100\n",
            "72000/72000 [==============================] - 2s 29us/sample - loss: 0.6845 - mae: 0.6836 - val_loss: 0.7851 - val_mae: 0.7842\n",
            "Epoch 8/100\n",
            "72000/72000 [==============================] - 2s 32us/sample - loss: 0.6760 - mae: 0.6750 - val_loss: 0.7841 - val_mae: 0.7830\n",
            "Epoch 9/100\n",
            "72000/72000 [==============================] - 2s 32us/sample - loss: 0.6685 - mae: 0.6673 - val_loss: 0.7732 - val_mae: 0.7720\n",
            "Epoch 10/100\n",
            "72000/72000 [==============================] - 2s 31us/sample - loss: 0.6627 - mae: 0.6614 - val_loss: 0.7760 - val_mae: 0.7747\n",
            "Epoch 11/100\n",
            "72000/72000 [==============================] - ETA: 0s - loss: 0.6575 - mae: 0.656 - 2s 31us/sample - loss: 0.6575 - mae: 0.6560 - val_loss: 0.7734 - val_mae: 0.7719\n",
            "Epoch 12/100\n",
            "72000/72000 [==============================] - 2s 33us/sample - loss: 0.6528 - mae: 0.6512 - val_loss: 0.7718 - val_mae: 0.7702\n",
            "Epoch 13/100\n",
            "72000/72000 [==============================] - 2s 29us/sample - loss: 0.6466 - mae: 0.6449 - val_loss: 0.7740 - val_mae: 0.7723\n",
            "Epoch 14/100\n",
            "72000/72000 [==============================] - 2s 28us/sample - loss: 0.6432 - mae: 0.6414 - val_loss: 0.7851 - val_mae: 0.7832\n",
            "Epoch 15/100\n",
            "72000/72000 [==============================] - 2s 30us/sample - loss: 0.6407 - mae: 0.6388 - val_loss: 0.7772 - val_mae: 0.7753\n",
            "Epoch 16/100\n",
            "72000/72000 [==============================] - 2s 28us/sample - loss: 0.6374 - mae: 0.6354 - val_loss: 0.7815 - val_mae: 0.7795\n",
            "Epoch 17/100\n",
            "72000/72000 [==============================] - 2s 30us/sample - loss: 0.6339 - mae: 0.6318 - val_loss: 0.7795 - val_mae: 0.7774\n",
            "Epoch 18/100\n",
            "72000/72000 [==============================] - 2s 31us/sample - loss: 0.6314 - mae: 0.6293 - val_loss: 0.7803 - val_mae: 0.7781\n",
            "Epoch 19/100\n",
            "72000/72000 [==============================] - 2s 30us/sample - loss: 0.6295 - mae: 0.6273 - val_loss: 0.7772 - val_mae: 0.7748\n",
            "Epoch 20/100\n",
            "72000/72000 [==============================] - 2s 28us/sample - loss: 0.6274 - mae: 0.6250 - val_loss: 0.7783 - val_mae: 0.7759\n",
            "Epoch 21/100\n",
            "72000/72000 [==============================] - 2s 29us/sample - loss: 0.6253 - mae: 0.6229 - val_loss: 0.7829 - val_mae: 0.7804\n",
            "Epoch 22/100\n",
            "72000/72000 [==============================] - 2s 29us/sample - loss: 0.6225 - mae: 0.6200 - val_loss: 0.7760 - val_mae: 0.7735\n",
            "Epoch 23/100\n",
            "72000/72000 [==============================] - 2s 31us/sample - loss: 0.6199 - mae: 0.6173 - val_loss: 0.7831 - val_mae: 0.7804\n",
            "Epoch 24/100\n",
            "72000/72000 [==============================] - 2s 31us/sample - loss: 0.6179 - mae: 0.6152 - val_loss: 0.7937 - val_mae: 0.7910\n",
            "Epoch 25/100\n",
            "72000/72000 [==============================] - 2s 32us/sample - loss: 0.6170 - mae: 0.6143 - val_loss: 0.7846 - val_mae: 0.7818\n",
            "Epoch 26/100\n",
            "72000/72000 [==============================] - 2s 32us/sample - loss: 0.6148 - mae: 0.6119 - val_loss: 0.7778 - val_mae: 0.7749\n",
            "Epoch 27/100\n",
            "72000/72000 [==============================] - 2s 29us/sample - loss: 0.6135 - mae: 0.6105 - val_loss: 0.7877 - val_mae: 0.7847\n",
            "Epoch 28/100\n",
            "72000/72000 [==============================] - 2s 30us/sample - loss: 0.6113 - mae: 0.6083 - val_loss: 0.7860 - val_mae: 0.7830\n",
            "Epoch 29/100\n",
            "72000/72000 [==============================] - 2s 30us/sample - loss: 0.6096 - mae: 0.6065 - val_loss: 0.7780 - val_mae: 0.7749\n",
            "Epoch 30/100\n",
            "72000/72000 [==============================] - 2s 31us/sample - loss: 0.6099 - mae: 0.6067 - val_loss: 0.7879 - val_mae: 0.7847\n",
            "Epoch 31/100\n",
            "72000/72000 [==============================] - 2s 31us/sample - loss: 0.6069 - mae: 0.6037 - val_loss: 0.7795 - val_mae: 0.7762\n",
            "Epoch 32/100\n",
            "72000/72000 [==============================] - 2s 32us/sample - loss: 0.6069 - mae: 0.6036 - val_loss: 0.7942 - val_mae: 0.7909\n"
          ],
          "name": "stdout"
        }
      ]
    },
    {
      "cell_type": "code",
      "metadata": {
        "colab_type": "code",
        "id": "54HgrO9QnHp9",
        "colab": {},
        "outputId": "eb4dce21-2086-43aa-a904-46c7a9606305"
      },
      "source": [
        "#ncf  model change hidden_dim\n",
        "hidden_dim = 30\n",
        "gen_age_model_hidden30 = get_ncf_model_gen_age(max_userid,max_movieid,K_LATENT,hidden_dim,do)\n",
        "gen_age_model_hidden30.compile(loss='mse',optimizer=Adamax(),metrics=['mae'])\n",
        "history_ncfg_hidden30 = gen_age_model_hidden30.fit([users_val, movies_val,gender_val,age_val], ratings_val, nb_epoch=100, validation_split=.1, verbose=1, callbacks=callbacks_ncfga, batch_size = 32)"
      ],
      "execution_count": 0,
      "outputs": [
        {
          "output_type": "stream",
          "text": [
            "C:\\Users\\dafnu\\Anaconda3\\lib\\site-packages\\ipykernel_launcher.py:25: UserWarning: Update your `Model` call to the Keras 2 API: `Model(inputs=[<tf.Tenso..., outputs=Tensor(\"pr...)`\n",
            "C:\\Users\\dafnu\\Anaconda3\\lib\\site-packages\\ipykernel_launcher.py:5: UserWarning: The `nb_epoch` argument in `fit` has been renamed `epochs`.\n",
            "  \"\"\"\n",
            "C:\\Users\\dafnu\\Anaconda3\\lib\\site-packages\\tensorflow_core\\python\\framework\\indexed_slices.py:433: UserWarning: Converting sparse IndexedSlices to a dense Tensor of unknown shape. This may consume a large amount of memory.\n",
            "  \"Converting sparse IndexedSlices to a dense Tensor of unknown shape. \"\n"
          ],
          "name": "stderr"
        },
        {
          "output_type": "stream",
          "text": [
            "Train on 72000 samples, validate on 8000 samples\n",
            "Epoch 1/100\n",
            "72000/72000 [==============================] - 3s 40us/step - loss: 2.6366 - mae: 1.2627 - val_loss: 1.3671 - val_mae: 0.9529\n",
            "Epoch 2/100\n",
            "72000/72000 [==============================] - 3s 35us/step - loss: 1.1515 - mae: 0.8600 - val_loss: 1.1355 - val_mae: 0.8673\n",
            "Epoch 3/100\n",
            "72000/72000 [==============================] - 3s 35us/step - loss: 1.0012 - mae: 0.8007 - val_loss: 1.0551 - val_mae: 0.8370\n",
            "Epoch 4/100\n",
            "72000/72000 [==============================] - 3s 38us/step - loss: 0.9412 - mae: 0.7732 - val_loss: 1.0337 - val_mae: 0.8308\n",
            "Epoch 5/100\n",
            "72000/72000 [==============================] - 3s 39us/step - loss: 0.9125 - mae: 0.7608 - val_loss: 1.0054 - val_mae: 0.8141\n",
            "Epoch 6/100\n",
            "72000/72000 [==============================] - 3s 41us/step - loss: 0.8993 - mae: 0.7542 - val_loss: 0.9915 - val_mae: 0.8053\n",
            "Epoch 7/100\n",
            "72000/72000 [==============================] - 3s 41us/step - loss: 0.8868 - mae: 0.7483 - val_loss: 1.0079 - val_mae: 0.8184\n",
            "Epoch 8/100\n",
            "72000/72000 [==============================] - 3s 39us/step - loss: 0.8808 - mae: 0.7442 - val_loss: 0.9968 - val_mae: 0.8124\n",
            "Epoch 9/100\n",
            "72000/72000 [==============================] - 3s 35us/step - loss: 0.8727 - mae: 0.7391 - val_loss: 1.0091 - val_mae: 0.8156\n",
            "Epoch 10/100\n",
            "72000/72000 [==============================] - 3s 38us/step - loss: 0.8659 - mae: 0.7356 - val_loss: 1.0067 - val_mae: 0.8176\n",
            "Epoch 11/100\n",
            "72000/72000 [==============================] - 3s 39us/step - loss: 0.8643 - mae: 0.7347 - val_loss: 0.9837 - val_mae: 0.8035\n",
            "Epoch 12/100\n",
            "72000/72000 [==============================] - 3s 38us/step - loss: 0.8603 - mae: 0.7326 - val_loss: 1.0055 - val_mae: 0.8167\n",
            "Epoch 13/100\n",
            "72000/72000 [==============================] - 3s 38us/step - loss: 0.8566 - mae: 0.7310 - val_loss: 0.9933 - val_mae: 0.8107\n",
            "Epoch 14/100\n",
            "72000/72000 [==============================] - 3s 36us/step - loss: 0.8552 - mae: 0.7302 - val_loss: 1.0047 - val_mae: 0.8163\n",
            "Epoch 15/100\n",
            "72000/72000 [==============================] - 3s 36us/step - loss: 0.8550 - mae: 0.7306 - val_loss: 0.9988 - val_mae: 0.8159\n",
            "Epoch 16/100\n",
            "72000/72000 [==============================] - 3s 39us/step - loss: 0.8495 - mae: 0.7281 - val_loss: 0.9965 - val_mae: 0.8129\n",
            "Epoch 17/100\n",
            "72000/72000 [==============================] - 3s 41us/step - loss: 0.8487 - mae: 0.7272 - val_loss: 1.0003 - val_mae: 0.8178\n",
            "Epoch 18/100\n",
            "72000/72000 [==============================] - 3s 41us/step - loss: 0.8474 - mae: 0.7264 - val_loss: 1.0065 - val_mae: 0.8224\n",
            "Epoch 19/100\n",
            "72000/72000 [==============================] - 3s 38us/step - loss: 0.8448 - mae: 0.7259 - val_loss: 1.0105 - val_mae: 0.8199\n",
            "Epoch 20/100\n",
            "72000/72000 [==============================] - 3s 38us/step - loss: 0.8458 - mae: 0.7260 - val_loss: 1.0046 - val_mae: 0.8179\n",
            "Epoch 21/100\n",
            "72000/72000 [==============================] - 3s 40us/step - loss: 0.8407 - mae: 0.7235 - val_loss: 1.0078 - val_mae: 0.8233\n",
            "Epoch 22/100\n",
            "72000/72000 [==============================] - 3s 39us/step - loss: 0.8399 - mae: 0.7239 - val_loss: 1.0212 - val_mae: 0.8271\n",
            "Epoch 23/100\n",
            "72000/72000 [==============================] - 3s 42us/step - loss: 0.8408 - mae: 0.7244 - val_loss: 1.0096 - val_mae: 0.8246\n",
            "Epoch 24/100\n",
            "72000/72000 [==============================] - 3s 41us/step - loss: 0.8390 - mae: 0.7231 - val_loss: 1.0094 - val_mae: 0.8232\n",
            "Epoch 25/100\n",
            "72000/72000 [==============================] - 3s 40us/step - loss: 0.8380 - mae: 0.7220 - val_loss: 1.0013 - val_mae: 0.8195\n",
            "Epoch 26/100\n",
            "72000/72000 [==============================] - 3s 40us/step - loss: 0.8348 - mae: 0.7206 - val_loss: 1.0145 - val_mae: 0.8286\n",
            "Epoch 27/100\n",
            "72000/72000 [==============================] - 3s 42us/step - loss: 0.8361 - mae: 0.7220 - val_loss: 1.0137 - val_mae: 0.8257\n",
            "Epoch 28/100\n",
            "72000/72000 [==============================] - 3s 43us/step - loss: 0.8348 - mae: 0.7207 - val_loss: 1.0143 - val_mae: 0.8247\n",
            "Epoch 29/100\n",
            "72000/72000 [==============================] - 3s 46us/step - loss: 0.8318 - mae: 0.7201 - val_loss: 1.0350 - val_mae: 0.8411\n",
            "Epoch 30/100\n",
            "72000/72000 [==============================] - 3s 38us/step - loss: 0.8338 - mae: 0.7205 - val_loss: 1.0242 - val_mae: 0.8319\n",
            "Epoch 31/100\n",
            "72000/72000 [==============================] - 3s 36us/step - loss: 0.8335 - mae: 0.7206 - val_loss: 1.0193 - val_mae: 0.8284\n"
          ],
          "name": "stdout"
        }
      ]
    },
    {
      "cell_type": "code",
      "metadata": {
        "colab_type": "code",
        "id": "XSt9pixbnHqC",
        "colab": {},
        "outputId": "c6f9ae3e-167d-4148-8f91-f02d0a18d283"
      },
      "source": [
        "#ncf  model change dropout\n",
        "hidden_dim = 20\n",
        "do = 0.1\n",
        "gen_age_model_do1 = get_ncf_model_gen_age(max_userid,max_movieid,K_LATENT,hidden_dim,do)\n",
        "gen_age_model_do1.compile(loss='mse',optimizer=Adamax(),metrics=['mae'])\n",
        "history_ncfg_do1 = gen_age_model_do1.fit([users_val, movies_val,gender_val,age_val], ratings_val, nb_epoch=100, validation_split=.1, verbose=1, callbacks=callbacks_ncfga, batch_size = 32)"
      ],
      "execution_count": 0,
      "outputs": [
        {
          "output_type": "stream",
          "text": [
            "C:\\Users\\dafnu\\Anaconda3\\lib\\site-packages\\ipykernel_launcher.py:25: UserWarning: Update your `Model` call to the Keras 2 API: `Model(inputs=[<tf.Tenso..., outputs=Tensor(\"pr...)`\n",
            "C:\\Users\\dafnu\\Anaconda3\\lib\\site-packages\\ipykernel_launcher.py:6: UserWarning: The `nb_epoch` argument in `fit` has been renamed `epochs`.\n",
            "  \n",
            "C:\\Users\\dafnu\\Anaconda3\\lib\\site-packages\\tensorflow_core\\python\\framework\\indexed_slices.py:433: UserWarning: Converting sparse IndexedSlices to a dense Tensor of unknown shape. This may consume a large amount of memory.\n",
            "  \"Converting sparse IndexedSlices to a dense Tensor of unknown shape. \"\n"
          ],
          "name": "stderr"
        },
        {
          "output_type": "stream",
          "text": [
            "Train on 72000 samples, validate on 8000 samples\n",
            "Epoch 1/100\n",
            "72000/72000 [==============================] - 3s 41us/step - loss: 5.1110 - mae: 1.7614 - val_loss: 1.4629 - val_mae: 0.9845\n",
            "Epoch 2/100\n",
            "72000/72000 [==============================] - 3s 39us/step - loss: 1.1153 - mae: 0.8404 - val_loss: 1.3166 - val_mae: 0.9364\n",
            "Epoch 3/100\n",
            "72000/72000 [==============================] - 3s 41us/step - loss: 1.0026 - mae: 0.7956 - val_loss: 1.1682 - val_mae: 0.8772\n",
            "Epoch 4/100\n",
            "72000/72000 [==============================] - 3s 40us/step - loss: 0.9553 - mae: 0.7759 - val_loss: 1.1350 - val_mae: 0.8680\n",
            "Epoch 5/100\n",
            "72000/72000 [==============================] - 3s 37us/step - loss: 0.9276 - mae: 0.7635 - val_loss: 1.0727 - val_mae: 0.8416\n",
            "Epoch 6/100\n",
            "72000/72000 [==============================] - 3s 37us/step - loss: 0.9043 - mae: 0.7549 - val_loss: 1.0576 - val_mae: 0.8359\n",
            "Epoch 7/100\n",
            "72000/72000 [==============================] - 3s 40us/step - loss: 0.8933 - mae: 0.7497 - val_loss: 1.0292 - val_mae: 0.8240\n",
            "Epoch 8/100\n",
            "72000/72000 [==============================] - 3s 41us/step - loss: 0.8801 - mae: 0.7434 - val_loss: 1.0070 - val_mae: 0.8120\n",
            "Epoch 9/100\n",
            "72000/72000 [==============================] - 3s 40us/step - loss: 0.8730 - mae: 0.7398 - val_loss: 1.0448 - val_mae: 0.8378\n",
            "Epoch 10/100\n",
            "72000/72000 [==============================] - 3s 39us/step - loss: 0.8623 - mae: 0.7339 - val_loss: 0.9840 - val_mae: 0.8012\n",
            "Epoch 11/100\n",
            "72000/72000 [==============================] - 3s 37us/step - loss: 0.8547 - mae: 0.7304 - val_loss: 1.0177 - val_mae: 0.8204\n",
            "Epoch 12/100\n",
            "72000/72000 [==============================] - 3s 38us/step - loss: 0.8474 - mae: 0.7260 - val_loss: 1.0025 - val_mae: 0.8181\n",
            "Epoch 13/100\n",
            "72000/72000 [==============================] - 3s 40us/step - loss: 0.8437 - mae: 0.7237 - val_loss: 0.9953 - val_mae: 0.8088\n",
            "Epoch 14/100\n",
            "72000/72000 [==============================] - 3s 47us/step - loss: 0.8413 - mae: 0.7224 - val_loss: 1.0113 - val_mae: 0.8207\n",
            "Epoch 15/100\n",
            "72000/72000 [==============================] - 3s 38us/step - loss: 0.8362 - mae: 0.7195 - val_loss: 0.9833 - val_mae: 0.8070\n",
            "Epoch 16/100\n",
            "72000/72000 [==============================] - 3s 35us/step - loss: 0.8337 - mae: 0.7184 - val_loss: 1.0154 - val_mae: 0.8260\n",
            "Epoch 17/100\n",
            "72000/72000 [==============================] - 3s 36us/step - loss: 0.8329 - mae: 0.7172 - val_loss: 0.9901 - val_mae: 0.8087\n",
            "Epoch 18/100\n",
            "72000/72000 [==============================] - 3s 38us/step - loss: 0.8285 - mae: 0.7151 - val_loss: 1.0062 - val_mae: 0.8176\n",
            "Epoch 19/100\n",
            "72000/72000 [==============================] - 3s 37us/step - loss: 0.8262 - mae: 0.7139 - val_loss: 0.9970 - val_mae: 0.8145\n",
            "Epoch 20/100\n",
            "72000/72000 [==============================] - 3s 39us/step - loss: 0.8253 - mae: 0.7135 - val_loss: 1.0091 - val_mae: 0.8239\n",
            "Epoch 21/100\n",
            "72000/72000 [==============================] - 3s 42us/step - loss: 0.8235 - mae: 0.7125 - val_loss: 0.9953 - val_mae: 0.8131\n",
            "Epoch 22/100\n",
            "72000/72000 [==============================] - 3s 42us/step - loss: 0.8209 - mae: 0.7117 - val_loss: 1.0100 - val_mae: 0.8190\n",
            "Epoch 23/100\n",
            "72000/72000 [==============================] - 3s 37us/step - loss: 0.8200 - mae: 0.7107 - val_loss: 0.9929 - val_mae: 0.8171\n",
            "Epoch 24/100\n",
            "72000/72000 [==============================] - 3s 40us/step - loss: 0.8169 - mae: 0.7094 - val_loss: 0.9880 - val_mae: 0.8070\n",
            "Epoch 25/100\n",
            "72000/72000 [==============================] - 3s 39us/step - loss: 0.8164 - mae: 0.7088 - val_loss: 1.0119 - val_mae: 0.8238\n",
            "Epoch 26/100\n",
            "72000/72000 [==============================] - 3s 39us/step - loss: 0.8145 - mae: 0.7081 - val_loss: 1.0354 - val_mae: 0.8368\n",
            "Epoch 27/100\n",
            "72000/72000 [==============================] - 3s 43us/step - loss: 0.8137 - mae: 0.7076 - val_loss: 0.9953 - val_mae: 0.8123\n",
            "Epoch 28/100\n",
            "72000/72000 [==============================] - 3s 37us/step - loss: 0.8107 - mae: 0.7068 - val_loss: 1.0153 - val_mae: 0.8261\n",
            "Epoch 29/100\n",
            "72000/72000 [==============================] - 3s 38us/step - loss: 0.8102 - mae: 0.7059 - val_loss: 1.0083 - val_mae: 0.8213\n",
            "Epoch 30/100\n",
            "72000/72000 [==============================] - 3s 39us/step - loss: 0.8090 - mae: 0.7051 - val_loss: 1.0061 - val_mae: 0.8235\n",
            "Epoch 31/100\n",
            "72000/72000 [==============================] - 3s 42us/step - loss: 0.8081 - mae: 0.7046 - val_loss: 1.0303 - val_mae: 0.8341\n",
            "Epoch 32/100\n",
            "72000/72000 [==============================] - 3s 41us/step - loss: 0.8056 - mae: 0.7041 - val_loss: 1.0220 - val_mae: 0.8298\n",
            "Epoch 33/100\n",
            "72000/72000 [==============================] - 3s 39us/step - loss: 0.8044 - mae: 0.7035 - val_loss: 1.0150 - val_mae: 0.8298\n",
            "Epoch 34/100\n",
            "72000/72000 [==============================] - 3s 40us/step - loss: 0.8011 - mae: 0.7018 - val_loss: 1.0133 - val_mae: 0.8241\n",
            "Epoch 35/100\n",
            "72000/72000 [==============================] - 3s 43us/step - loss: 0.8015 - mae: 0.7017 - val_loss: 1.0091 - val_mae: 0.8243\n"
          ],
          "name": "stdout"
        }
      ]
    },
    {
      "cell_type": "code",
      "metadata": {
        "colab_type": "code",
        "id": "6I8ISV-KnHqE",
        "colab": {},
        "outputId": "3800fc4e-8fdb-408f-a150-8e753e542316"
      },
      "source": [
        "#calculate average MAE for models\n",
        "deepCTR_train['rating_x'] = model.predict(train_model_input, batch_size=32)\n",
        "deepCTR_MAE_train = calc_avg_mae(deepCTR_train)\n",
        "deepCTR_test['rating_x'] = model.predict(test_model_input, batch_size=32)\n",
        "deepCTR_MAE_test = calc_avg_mae(deepCTR_test)\n",
        "\n",
        "users_join['rating_x'] = gen_age_model.predict([users_val, movies_val,gender_val,age_val], batch_size=32)\n",
        "ncf_MAE_train = calc_avg_mae(users_join)\n",
        "users_join_test['rating_x'] = gen_age_model.predict([user_test, movies_test,gender_test,age_test], batch_size=32)\n",
        "ncf_MAE_test = calc_avg_mae(users_join_test)\n",
        "\n",
        "deepCTR_train['rating_x'] = model_dim7.predict(train_model_input, batch_size=32)\n",
        "deepCTR_MAE_dim7_train = calc_avg_mae(deepCTR_train)\n",
        "deepCTR_test['rating_x'] = model_dim7.predict(test_model_input, batch_size=32)\n",
        "deepCTR_MAE_dim7_tets = calc_avg_mae(deepCTR_test)\n",
        "\n",
        "deepCTR_train['rating_x'] = model_batch64.predict(train_model_input, batch_size=64)\n",
        "deepCTR_MAE__batch64_train = calc_avg_mae(deepCTR_train)\n",
        "deepCTR_test['rating_x'] = model_batch64.predict(test_model_input, batch_size=64)\n",
        "deepCTR_MAE__batch64_test = calc_avg_mae(deepCTR_test)\n",
        "\n",
        "users_join['rating_x'] = gen_age_model_hidden30.predict([users_val, movies_val,gender_val,age_val], batch_size=32)\n",
        "ncf_MAE_hidden30_train = calc_avg_mae(users_join)\n",
        "users_join_test['rating_x'] = gen_age_model_hidden30.predict([user_test, movies_test,gender_test,age_test], batch_size=32)\n",
        "ncf_MAE_hidden30_test = calc_avg_mae(users_join_test)\n",
        "\n",
        "users_join['rating_x'] = gen_age_model_do1.predict([users_val, movies_val,gender_val,age_val], batch_size=32)\n",
        "ncf_MAE_do1_train = calc_avg_mae(users_join)\n",
        "users_join_test['rating_x'] = gen_age_model_do1.predict([user_test, movies_test,gender_test,age_test], batch_size=32)\n",
        "ncf_MAE_do1_test = calc_avg_mae(users_join_test)\n",
        "\n",
        "results = {\n",
        "    \"deepCTR\": [deepCTR_MAE_train, deepCTR_MAE_test],\n",
        "    \"deepCTR MAE with 7 dim\": [deepCTR_MAE_dim7_train, deepCTR_MAE_dim7_tets],\n",
        "    \"deepCTR MAE with 64 batch\": [deepCTR_MAE__batch64_train, deepCTR_MAE__batch64_test],\n",
        "    \"ncf\": [ncf_MAE_train, ncf_MAE_test],\n",
        "    \"ncf MAE with 30 hidden\": [ncf_MAE_hidden30_train, ncf_MAE_hidden30_test],\n",
        "    \"ncf MAE with 0.1 dropout\":[ncf_MAE_do1_train, ncf_MAE_do1_test]\n",
        "}\n",
        "\n",
        "results_df = pd.DataFrame(results, columns = ['deepCTR', 'deepCTR MAE with 7 dim', 'deepCTR MAE with 64 batch', 'ncf', 'ncf MAE with 30 hidden', 'ncf MAE with 0.1 dropout'], index=['train', 'test'])\n",
        "results_df"
      ],
      "execution_count": 0,
      "outputs": [
        {
          "output_type": "execute_result",
          "data": {
            "text/html": [
              "<div>\n",
              "<style scoped>\n",
              "    .dataframe tbody tr th:only-of-type {\n",
              "        vertical-align: middle;\n",
              "    }\n",
              "\n",
              "    .dataframe tbody tr th {\n",
              "        vertical-align: top;\n",
              "    }\n",
              "\n",
              "    .dataframe thead th {\n",
              "        text-align: right;\n",
              "    }\n",
              "</style>\n",
              "<table border=\"1\" class=\"dataframe\">\n",
              "  <thead>\n",
              "    <tr style=\"text-align: right;\">\n",
              "      <th></th>\n",
              "      <th>deepCTR</th>\n",
              "      <th>deepCTR MAE with 7 dim</th>\n",
              "      <th>deepCTR MAE with 64 batch</th>\n",
              "      <th>ncf</th>\n",
              "      <th>ncf MAE with 30 hidden</th>\n",
              "      <th>ncf MAE with 0.1 dropout</th>\n",
              "    </tr>\n",
              "  </thead>\n",
              "  <tbody>\n",
              "    <tr>\n",
              "      <td>train</td>\n",
              "      <td>0.603232</td>\n",
              "      <td>0.594995</td>\n",
              "      <td>0.617170</td>\n",
              "      <td>0.707122</td>\n",
              "      <td>0.711537</td>\n",
              "      <td>0.704151</td>\n",
              "    </tr>\n",
              "    <tr>\n",
              "      <td>test</td>\n",
              "      <td>0.852877</td>\n",
              "      <td>0.873783</td>\n",
              "      <td>0.862719</td>\n",
              "      <td>0.742874</td>\n",
              "      <td>0.743977</td>\n",
              "      <td>0.739876</td>\n",
              "    </tr>\n",
              "  </tbody>\n",
              "</table>\n",
              "</div>"
            ],
            "text/plain": [
              "        deepCTR  deepCTR MAE with 7 dim  deepCTR MAE with 64 batch       ncf  \\\n",
              "train  0.603232                0.594995                   0.617170  0.707122   \n",
              "test   0.852877                0.873783                   0.862719  0.742874   \n",
              "\n",
              "       ncf MAE with 30 hidden  ncf MAE with 0.1 dropout  \n",
              "train                0.711537                  0.704151  \n",
              "test                 0.743977                  0.739876  "
            ]
          },
          "metadata": {
            "tags": []
          },
          "execution_count": 46
        }
      ]
    }
  ]
}